{
  "nbformat": 4,
  "nbformat_minor": 0,
  "metadata": {
    "colab": {
      "provenance": []
    },
    "kernelspec": {
      "name": "python3",
      "display_name": "Python 3"
    },
    "language_info": {
      "name": "python"
    }
  },
  "cells": [
    {
      "cell_type": "markdown",
      "source": [
        "**ASSESSMENT 1**"
      ],
      "metadata": {
        "id": "Lca7GIMZs3dE"
      }
    },
    {
      "cell_type": "code",
      "execution_count": null,
      "metadata": {
        "id": "NWwDOwDH7a6-"
      },
      "outputs": [],
      "source": [
        "import pandas as pd\n",
        "import numpy as np\n",
        "import matplotlib.pyplot as plt\n",
        "import seaborn as sns"
      ]
    },
    {
      "cell_type": "code",
      "source": [
        "data = pd.read_csv('/content/finance_economics_dataset.csv')\n",
        "data"
      ],
      "metadata": {
        "colab": {
          "base_uri": "https://localhost:8080/",
          "height": 704
        },
        "id": "awDgs0ab8y-j",
        "outputId": "abc12198-6f09-4df6-d31f-e19b19dfcb1e"
      },
      "execution_count": null,
      "outputs": [
        {
          "output_type": "execute_result",
          "data": {
            "text/plain": [
              "            Date Stock Index  Open Price  Close Price  Daily High  Daily Low  \\\n",
              "0     2000-01-01   Dow Jones     2128.75      2138.48     2143.70    2100.55   \n",
              "1     2000-01-02     S&P 500     2046.82      2036.18     2082.83    2009.53   \n",
              "2     2000-01-03   Dow Jones     1987.92      1985.26     2022.28    1978.37   \n",
              "3     2000-01-04   Dow Jones     4625.02      4660.47     4665.26    4595.46   \n",
              "4     2000-01-05     S&P 500     1998.18      1982.18     2044.31    1966.44   \n",
              "...          ...         ...         ...          ...         ...        ...   \n",
              "2995  2008-03-14   Dow Jones     1273.76      1235.44     1317.28    1192.34   \n",
              "2996  2008-03-15     S&P 500     4589.59      4566.91     4607.56    4545.69   \n",
              "2997  2008-03-16     S&P 500     1477.52      1448.47     1523.86    1402.69   \n",
              "2998  2008-03-17      NASDAQ     2311.37      2306.90     2346.30    2282.00   \n",
              "2999  2008-03-18      NASDAQ     4262.98      4303.82     4316.68    4243.04   \n",
              "\n",
              "      Trading Volume  GDP Growth (%)  Inflation Rate (%)  \\\n",
              "0            2670411           -0.37                6.06   \n",
              "1          690220415            3.19                4.95   \n",
              "2          315284661            5.54                9.13   \n",
              "3           13098297           10.00                3.77   \n",
              "4          385306746            1.53                2.20   \n",
              "...              ...             ...                 ...   \n",
              "2995        86910001            8.84                7.00   \n",
              "2996       303579301           -1.88                9.15   \n",
              "2997       442387176            4.07                0.88   \n",
              "2998       523425925            1.06                8.61   \n",
              "2999       990814609            6.61                7.93   \n",
              "\n",
              "      Unemployment Rate (%)  ...  Forex USD/EUR  Forex USD/JPY  \\\n",
              "0                      6.10  ...           1.04         119.87   \n",
              "1                      6.62  ...           1.00          98.22   \n",
              "2                      2.60  ...           0.83          80.13   \n",
              "3                      2.20  ...           0.95         149.15   \n",
              "4                      8.20  ...           1.43         113.71   \n",
              "...                     ...  ...            ...            ...   \n",
              "2995                  10.44  ...           1.18         113.52   \n",
              "2996                   5.61  ...           1.17         147.10   \n",
              "2997                   8.91  ...           1.02          81.99   \n",
              "2998                  10.15  ...           1.49          86.42   \n",
              "2999                  10.32  ...           0.85          97.03   \n",
              "\n",
              "      Crude Oil Price (USD per Barrel)  Gold Price (USD per Ounce)  \\\n",
              "0                                47.20                     1052.34   \n",
              "1                                52.84                     1957.73   \n",
              "2                                78.80                     2339.49   \n",
              "3                                28.18                     1308.54   \n",
              "4                                92.20                     2210.08   \n",
              "...                                ...                         ...   \n",
              "2995                             61.98                     2385.41   \n",
              "2996                             31.61                     2147.13   \n",
              "2997                             45.64                     1943.61   \n",
              "2998                            123.25                     2211.40   \n",
              "2999                            144.06                     1225.09   \n",
              "\n",
              "      Real Estate Index  Retail Sales (Billion USD)  Bankruptcy Rate (%)  \\\n",
              "0                390.23                        2229                 2.12   \n",
              "1                346.23                        4156                 1.40   \n",
              "2                439.46                         340                 0.79   \n",
              "3                213.07                        8456                 4.22   \n",
              "4                405.49                        1596                 2.21   \n",
              "...                 ...                         ...                  ...   \n",
              "2995             298.72                        3033                 8.75   \n",
              "2996             143.43                        7950                 5.07   \n",
              "2997             105.81                        3894                 5.78   \n",
              "2998             236.07                        2543                 2.35   \n",
              "2999             201.82                        4354                 7.99   \n",
              "\n",
              "      Mergers & Acquisitions Deals  Venture Capital Funding (Billion USD)  \\\n",
              "0                                3                                  76.64   \n",
              "1                               21                                   5.67   \n",
              "2                               48                                  39.43   \n",
              "3                               16                                  12.83   \n",
              "4                               34                                  86.37   \n",
              "...                            ...                                    ...   \n",
              "2995                            35                                  66.01   \n",
              "2996                            18                                  25.49   \n",
              "2997                             4                                  14.29   \n",
              "2998                            22                                  94.34   \n",
              "2999                            43                                  63.36   \n",
              "\n",
              "      Consumer Spending (Billion USD)  \n",
              "0                                4589  \n",
              "1                               10101  \n",
              "2                               13665  \n",
              "3                                5192  \n",
              "4                               10688  \n",
              "...                               ...  \n",
              "2995                             2200  \n",
              "2996                             5261  \n",
              "2997                            12039  \n",
              "2998                            11979  \n",
              "2999                            11220  \n",
              "\n",
              "[3000 rows x 24 columns]"
            ],
            "text/html": [
              "\n",
              "  <div id=\"df-4f1628dd-0f09-46a8-87f0-be29bc769ea4\" class=\"colab-df-container\">\n",
              "    <div>\n",
              "<style scoped>\n",
              "    .dataframe tbody tr th:only-of-type {\n",
              "        vertical-align: middle;\n",
              "    }\n",
              "\n",
              "    .dataframe tbody tr th {\n",
              "        vertical-align: top;\n",
              "    }\n",
              "\n",
              "    .dataframe thead th {\n",
              "        text-align: right;\n",
              "    }\n",
              "</style>\n",
              "<table border=\"1\" class=\"dataframe\">\n",
              "  <thead>\n",
              "    <tr style=\"text-align: right;\">\n",
              "      <th></th>\n",
              "      <th>Date</th>\n",
              "      <th>Stock Index</th>\n",
              "      <th>Open Price</th>\n",
              "      <th>Close Price</th>\n",
              "      <th>Daily High</th>\n",
              "      <th>Daily Low</th>\n",
              "      <th>Trading Volume</th>\n",
              "      <th>GDP Growth (%)</th>\n",
              "      <th>Inflation Rate (%)</th>\n",
              "      <th>Unemployment Rate (%)</th>\n",
              "      <th>...</th>\n",
              "      <th>Forex USD/EUR</th>\n",
              "      <th>Forex USD/JPY</th>\n",
              "      <th>Crude Oil Price (USD per Barrel)</th>\n",
              "      <th>Gold Price (USD per Ounce)</th>\n",
              "      <th>Real Estate Index</th>\n",
              "      <th>Retail Sales (Billion USD)</th>\n",
              "      <th>Bankruptcy Rate (%)</th>\n",
              "      <th>Mergers &amp; Acquisitions Deals</th>\n",
              "      <th>Venture Capital Funding (Billion USD)</th>\n",
              "      <th>Consumer Spending (Billion USD)</th>\n",
              "    </tr>\n",
              "  </thead>\n",
              "  <tbody>\n",
              "    <tr>\n",
              "      <th>0</th>\n",
              "      <td>2000-01-01</td>\n",
              "      <td>Dow Jones</td>\n",
              "      <td>2128.75</td>\n",
              "      <td>2138.48</td>\n",
              "      <td>2143.70</td>\n",
              "      <td>2100.55</td>\n",
              "      <td>2670411</td>\n",
              "      <td>-0.37</td>\n",
              "      <td>6.06</td>\n",
              "      <td>6.10</td>\n",
              "      <td>...</td>\n",
              "      <td>1.04</td>\n",
              "      <td>119.87</td>\n",
              "      <td>47.20</td>\n",
              "      <td>1052.34</td>\n",
              "      <td>390.23</td>\n",
              "      <td>2229</td>\n",
              "      <td>2.12</td>\n",
              "      <td>3</td>\n",
              "      <td>76.64</td>\n",
              "      <td>4589</td>\n",
              "    </tr>\n",
              "    <tr>\n",
              "      <th>1</th>\n",
              "      <td>2000-01-02</td>\n",
              "      <td>S&amp;P 500</td>\n",
              "      <td>2046.82</td>\n",
              "      <td>2036.18</td>\n",
              "      <td>2082.83</td>\n",
              "      <td>2009.53</td>\n",
              "      <td>690220415</td>\n",
              "      <td>3.19</td>\n",
              "      <td>4.95</td>\n",
              "      <td>6.62</td>\n",
              "      <td>...</td>\n",
              "      <td>1.00</td>\n",
              "      <td>98.22</td>\n",
              "      <td>52.84</td>\n",
              "      <td>1957.73</td>\n",
              "      <td>346.23</td>\n",
              "      <td>4156</td>\n",
              "      <td>1.40</td>\n",
              "      <td>21</td>\n",
              "      <td>5.67</td>\n",
              "      <td>10101</td>\n",
              "    </tr>\n",
              "    <tr>\n",
              "      <th>2</th>\n",
              "      <td>2000-01-03</td>\n",
              "      <td>Dow Jones</td>\n",
              "      <td>1987.92</td>\n",
              "      <td>1985.26</td>\n",
              "      <td>2022.28</td>\n",
              "      <td>1978.37</td>\n",
              "      <td>315284661</td>\n",
              "      <td>5.54</td>\n",
              "      <td>9.13</td>\n",
              "      <td>2.60</td>\n",
              "      <td>...</td>\n",
              "      <td>0.83</td>\n",
              "      <td>80.13</td>\n",
              "      <td>78.80</td>\n",
              "      <td>2339.49</td>\n",
              "      <td>439.46</td>\n",
              "      <td>340</td>\n",
              "      <td>0.79</td>\n",
              "      <td>48</td>\n",
              "      <td>39.43</td>\n",
              "      <td>13665</td>\n",
              "    </tr>\n",
              "    <tr>\n",
              "      <th>3</th>\n",
              "      <td>2000-01-04</td>\n",
              "      <td>Dow Jones</td>\n",
              "      <td>4625.02</td>\n",
              "      <td>4660.47</td>\n",
              "      <td>4665.26</td>\n",
              "      <td>4595.46</td>\n",
              "      <td>13098297</td>\n",
              "      <td>10.00</td>\n",
              "      <td>3.77</td>\n",
              "      <td>2.20</td>\n",
              "      <td>...</td>\n",
              "      <td>0.95</td>\n",
              "      <td>149.15</td>\n",
              "      <td>28.18</td>\n",
              "      <td>1308.54</td>\n",
              "      <td>213.07</td>\n",
              "      <td>8456</td>\n",
              "      <td>4.22</td>\n",
              "      <td>16</td>\n",
              "      <td>12.83</td>\n",
              "      <td>5192</td>\n",
              "    </tr>\n",
              "    <tr>\n",
              "      <th>4</th>\n",
              "      <td>2000-01-05</td>\n",
              "      <td>S&amp;P 500</td>\n",
              "      <td>1998.18</td>\n",
              "      <td>1982.18</td>\n",
              "      <td>2044.31</td>\n",
              "      <td>1966.44</td>\n",
              "      <td>385306746</td>\n",
              "      <td>1.53</td>\n",
              "      <td>2.20</td>\n",
              "      <td>8.20</td>\n",
              "      <td>...</td>\n",
              "      <td>1.43</td>\n",
              "      <td>113.71</td>\n",
              "      <td>92.20</td>\n",
              "      <td>2210.08</td>\n",
              "      <td>405.49</td>\n",
              "      <td>1596</td>\n",
              "      <td>2.21</td>\n",
              "      <td>34</td>\n",
              "      <td>86.37</td>\n",
              "      <td>10688</td>\n",
              "    </tr>\n",
              "    <tr>\n",
              "      <th>...</th>\n",
              "      <td>...</td>\n",
              "      <td>...</td>\n",
              "      <td>...</td>\n",
              "      <td>...</td>\n",
              "      <td>...</td>\n",
              "      <td>...</td>\n",
              "      <td>...</td>\n",
              "      <td>...</td>\n",
              "      <td>...</td>\n",
              "      <td>...</td>\n",
              "      <td>...</td>\n",
              "      <td>...</td>\n",
              "      <td>...</td>\n",
              "      <td>...</td>\n",
              "      <td>...</td>\n",
              "      <td>...</td>\n",
              "      <td>...</td>\n",
              "      <td>...</td>\n",
              "      <td>...</td>\n",
              "      <td>...</td>\n",
              "      <td>...</td>\n",
              "    </tr>\n",
              "    <tr>\n",
              "      <th>2995</th>\n",
              "      <td>2008-03-14</td>\n",
              "      <td>Dow Jones</td>\n",
              "      <td>1273.76</td>\n",
              "      <td>1235.44</td>\n",
              "      <td>1317.28</td>\n",
              "      <td>1192.34</td>\n",
              "      <td>86910001</td>\n",
              "      <td>8.84</td>\n",
              "      <td>7.00</td>\n",
              "      <td>10.44</td>\n",
              "      <td>...</td>\n",
              "      <td>1.18</td>\n",
              "      <td>113.52</td>\n",
              "      <td>61.98</td>\n",
              "      <td>2385.41</td>\n",
              "      <td>298.72</td>\n",
              "      <td>3033</td>\n",
              "      <td>8.75</td>\n",
              "      <td>35</td>\n",
              "      <td>66.01</td>\n",
              "      <td>2200</td>\n",
              "    </tr>\n",
              "    <tr>\n",
              "      <th>2996</th>\n",
              "      <td>2008-03-15</td>\n",
              "      <td>S&amp;P 500</td>\n",
              "      <td>4589.59</td>\n",
              "      <td>4566.91</td>\n",
              "      <td>4607.56</td>\n",
              "      <td>4545.69</td>\n",
              "      <td>303579301</td>\n",
              "      <td>-1.88</td>\n",
              "      <td>9.15</td>\n",
              "      <td>5.61</td>\n",
              "      <td>...</td>\n",
              "      <td>1.17</td>\n",
              "      <td>147.10</td>\n",
              "      <td>31.61</td>\n",
              "      <td>2147.13</td>\n",
              "      <td>143.43</td>\n",
              "      <td>7950</td>\n",
              "      <td>5.07</td>\n",
              "      <td>18</td>\n",
              "      <td>25.49</td>\n",
              "      <td>5261</td>\n",
              "    </tr>\n",
              "    <tr>\n",
              "      <th>2997</th>\n",
              "      <td>2008-03-16</td>\n",
              "      <td>S&amp;P 500</td>\n",
              "      <td>1477.52</td>\n",
              "      <td>1448.47</td>\n",
              "      <td>1523.86</td>\n",
              "      <td>1402.69</td>\n",
              "      <td>442387176</td>\n",
              "      <td>4.07</td>\n",
              "      <td>0.88</td>\n",
              "      <td>8.91</td>\n",
              "      <td>...</td>\n",
              "      <td>1.02</td>\n",
              "      <td>81.99</td>\n",
              "      <td>45.64</td>\n",
              "      <td>1943.61</td>\n",
              "      <td>105.81</td>\n",
              "      <td>3894</td>\n",
              "      <td>5.78</td>\n",
              "      <td>4</td>\n",
              "      <td>14.29</td>\n",
              "      <td>12039</td>\n",
              "    </tr>\n",
              "    <tr>\n",
              "      <th>2998</th>\n",
              "      <td>2008-03-17</td>\n",
              "      <td>NASDAQ</td>\n",
              "      <td>2311.37</td>\n",
              "      <td>2306.90</td>\n",
              "      <td>2346.30</td>\n",
              "      <td>2282.00</td>\n",
              "      <td>523425925</td>\n",
              "      <td>1.06</td>\n",
              "      <td>8.61</td>\n",
              "      <td>10.15</td>\n",
              "      <td>...</td>\n",
              "      <td>1.49</td>\n",
              "      <td>86.42</td>\n",
              "      <td>123.25</td>\n",
              "      <td>2211.40</td>\n",
              "      <td>236.07</td>\n",
              "      <td>2543</td>\n",
              "      <td>2.35</td>\n",
              "      <td>22</td>\n",
              "      <td>94.34</td>\n",
              "      <td>11979</td>\n",
              "    </tr>\n",
              "    <tr>\n",
              "      <th>2999</th>\n",
              "      <td>2008-03-18</td>\n",
              "      <td>NASDAQ</td>\n",
              "      <td>4262.98</td>\n",
              "      <td>4303.82</td>\n",
              "      <td>4316.68</td>\n",
              "      <td>4243.04</td>\n",
              "      <td>990814609</td>\n",
              "      <td>6.61</td>\n",
              "      <td>7.93</td>\n",
              "      <td>10.32</td>\n",
              "      <td>...</td>\n",
              "      <td>0.85</td>\n",
              "      <td>97.03</td>\n",
              "      <td>144.06</td>\n",
              "      <td>1225.09</td>\n",
              "      <td>201.82</td>\n",
              "      <td>4354</td>\n",
              "      <td>7.99</td>\n",
              "      <td>43</td>\n",
              "      <td>63.36</td>\n",
              "      <td>11220</td>\n",
              "    </tr>\n",
              "  </tbody>\n",
              "</table>\n",
              "<p>3000 rows × 24 columns</p>\n",
              "</div>\n",
              "    <div class=\"colab-df-buttons\">\n",
              "\n",
              "  <div class=\"colab-df-container\">\n",
              "    <button class=\"colab-df-convert\" onclick=\"convertToInteractive('df-4f1628dd-0f09-46a8-87f0-be29bc769ea4')\"\n",
              "            title=\"Convert this dataframe to an interactive table.\"\n",
              "            style=\"display:none;\">\n",
              "\n",
              "  <svg xmlns=\"http://www.w3.org/2000/svg\" height=\"24px\" viewBox=\"0 -960 960 960\">\n",
              "    <path d=\"M120-120v-720h720v720H120Zm60-500h600v-160H180v160Zm220 220h160v-160H400v160Zm0 220h160v-160H400v160ZM180-400h160v-160H180v160Zm440 0h160v-160H620v160ZM180-180h160v-160H180v160Zm440 0h160v-160H620v160Z\"/>\n",
              "  </svg>\n",
              "    </button>\n",
              "\n",
              "  <style>\n",
              "    .colab-df-container {\n",
              "      display:flex;\n",
              "      gap: 12px;\n",
              "    }\n",
              "\n",
              "    .colab-df-convert {\n",
              "      background-color: #E8F0FE;\n",
              "      border: none;\n",
              "      border-radius: 50%;\n",
              "      cursor: pointer;\n",
              "      display: none;\n",
              "      fill: #1967D2;\n",
              "      height: 32px;\n",
              "      padding: 0 0 0 0;\n",
              "      width: 32px;\n",
              "    }\n",
              "\n",
              "    .colab-df-convert:hover {\n",
              "      background-color: #E2EBFA;\n",
              "      box-shadow: 0px 1px 2px rgba(60, 64, 67, 0.3), 0px 1px 3px 1px rgba(60, 64, 67, 0.15);\n",
              "      fill: #174EA6;\n",
              "    }\n",
              "\n",
              "    .colab-df-buttons div {\n",
              "      margin-bottom: 4px;\n",
              "    }\n",
              "\n",
              "    [theme=dark] .colab-df-convert {\n",
              "      background-color: #3B4455;\n",
              "      fill: #D2E3FC;\n",
              "    }\n",
              "\n",
              "    [theme=dark] .colab-df-convert:hover {\n",
              "      background-color: #434B5C;\n",
              "      box-shadow: 0px 1px 3px 1px rgba(0, 0, 0, 0.15);\n",
              "      filter: drop-shadow(0px 1px 2px rgba(0, 0, 0, 0.3));\n",
              "      fill: #FFFFFF;\n",
              "    }\n",
              "  </style>\n",
              "\n",
              "    <script>\n",
              "      const buttonEl =\n",
              "        document.querySelector('#df-4f1628dd-0f09-46a8-87f0-be29bc769ea4 button.colab-df-convert');\n",
              "      buttonEl.style.display =\n",
              "        google.colab.kernel.accessAllowed ? 'block' : 'none';\n",
              "\n",
              "      async function convertToInteractive(key) {\n",
              "        const element = document.querySelector('#df-4f1628dd-0f09-46a8-87f0-be29bc769ea4');\n",
              "        const dataTable =\n",
              "          await google.colab.kernel.invokeFunction('convertToInteractive',\n",
              "                                                    [key], {});\n",
              "        if (!dataTable) return;\n",
              "\n",
              "        const docLinkHtml = 'Like what you see? Visit the ' +\n",
              "          '<a target=\"_blank\" href=https://colab.research.google.com/notebooks/data_table.ipynb>data table notebook</a>'\n",
              "          + ' to learn more about interactive tables.';\n",
              "        element.innerHTML = '';\n",
              "        dataTable['output_type'] = 'display_data';\n",
              "        await google.colab.output.renderOutput(dataTable, element);\n",
              "        const docLink = document.createElement('div');\n",
              "        docLink.innerHTML = docLinkHtml;\n",
              "        element.appendChild(docLink);\n",
              "      }\n",
              "    </script>\n",
              "  </div>\n",
              "\n",
              "\n",
              "    <div id=\"df-5aaf5e24-0a66-4e9d-b0a2-769fb3556fb6\">\n",
              "      <button class=\"colab-df-quickchart\" onclick=\"quickchart('df-5aaf5e24-0a66-4e9d-b0a2-769fb3556fb6')\"\n",
              "                title=\"Suggest charts\"\n",
              "                style=\"display:none;\">\n",
              "\n",
              "<svg xmlns=\"http://www.w3.org/2000/svg\" height=\"24px\"viewBox=\"0 0 24 24\"\n",
              "     width=\"24px\">\n",
              "    <g>\n",
              "        <path d=\"M19 3H5c-1.1 0-2 .9-2 2v14c0 1.1.9 2 2 2h14c1.1 0 2-.9 2-2V5c0-1.1-.9-2-2-2zM9 17H7v-7h2v7zm4 0h-2V7h2v10zm4 0h-2v-4h2v4z\"/>\n",
              "    </g>\n",
              "</svg>\n",
              "      </button>\n",
              "\n",
              "<style>\n",
              "  .colab-df-quickchart {\n",
              "      --bg-color: #E8F0FE;\n",
              "      --fill-color: #1967D2;\n",
              "      --hover-bg-color: #E2EBFA;\n",
              "      --hover-fill-color: #174EA6;\n",
              "      --disabled-fill-color: #AAA;\n",
              "      --disabled-bg-color: #DDD;\n",
              "  }\n",
              "\n",
              "  [theme=dark] .colab-df-quickchart {\n",
              "      --bg-color: #3B4455;\n",
              "      --fill-color: #D2E3FC;\n",
              "      --hover-bg-color: #434B5C;\n",
              "      --hover-fill-color: #FFFFFF;\n",
              "      --disabled-bg-color: #3B4455;\n",
              "      --disabled-fill-color: #666;\n",
              "  }\n",
              "\n",
              "  .colab-df-quickchart {\n",
              "    background-color: var(--bg-color);\n",
              "    border: none;\n",
              "    border-radius: 50%;\n",
              "    cursor: pointer;\n",
              "    display: none;\n",
              "    fill: var(--fill-color);\n",
              "    height: 32px;\n",
              "    padding: 0;\n",
              "    width: 32px;\n",
              "  }\n",
              "\n",
              "  .colab-df-quickchart:hover {\n",
              "    background-color: var(--hover-bg-color);\n",
              "    box-shadow: 0 1px 2px rgba(60, 64, 67, 0.3), 0 1px 3px 1px rgba(60, 64, 67, 0.15);\n",
              "    fill: var(--button-hover-fill-color);\n",
              "  }\n",
              "\n",
              "  .colab-df-quickchart-complete:disabled,\n",
              "  .colab-df-quickchart-complete:disabled:hover {\n",
              "    background-color: var(--disabled-bg-color);\n",
              "    fill: var(--disabled-fill-color);\n",
              "    box-shadow: none;\n",
              "  }\n",
              "\n",
              "  .colab-df-spinner {\n",
              "    border: 2px solid var(--fill-color);\n",
              "    border-color: transparent;\n",
              "    border-bottom-color: var(--fill-color);\n",
              "    animation:\n",
              "      spin 1s steps(1) infinite;\n",
              "  }\n",
              "\n",
              "  @keyframes spin {\n",
              "    0% {\n",
              "      border-color: transparent;\n",
              "      border-bottom-color: var(--fill-color);\n",
              "      border-left-color: var(--fill-color);\n",
              "    }\n",
              "    20% {\n",
              "      border-color: transparent;\n",
              "      border-left-color: var(--fill-color);\n",
              "      border-top-color: var(--fill-color);\n",
              "    }\n",
              "    30% {\n",
              "      border-color: transparent;\n",
              "      border-left-color: var(--fill-color);\n",
              "      border-top-color: var(--fill-color);\n",
              "      border-right-color: var(--fill-color);\n",
              "    }\n",
              "    40% {\n",
              "      border-color: transparent;\n",
              "      border-right-color: var(--fill-color);\n",
              "      border-top-color: var(--fill-color);\n",
              "    }\n",
              "    60% {\n",
              "      border-color: transparent;\n",
              "      border-right-color: var(--fill-color);\n",
              "    }\n",
              "    80% {\n",
              "      border-color: transparent;\n",
              "      border-right-color: var(--fill-color);\n",
              "      border-bottom-color: var(--fill-color);\n",
              "    }\n",
              "    90% {\n",
              "      border-color: transparent;\n",
              "      border-bottom-color: var(--fill-color);\n",
              "    }\n",
              "  }\n",
              "</style>\n",
              "\n",
              "      <script>\n",
              "        async function quickchart(key) {\n",
              "          const quickchartButtonEl =\n",
              "            document.querySelector('#' + key + ' button');\n",
              "          quickchartButtonEl.disabled = true;  // To prevent multiple clicks.\n",
              "          quickchartButtonEl.classList.add('colab-df-spinner');\n",
              "          try {\n",
              "            const charts = await google.colab.kernel.invokeFunction(\n",
              "                'suggestCharts', [key], {});\n",
              "          } catch (error) {\n",
              "            console.error('Error during call to suggestCharts:', error);\n",
              "          }\n",
              "          quickchartButtonEl.classList.remove('colab-df-spinner');\n",
              "          quickchartButtonEl.classList.add('colab-df-quickchart-complete');\n",
              "        }\n",
              "        (() => {\n",
              "          let quickchartButtonEl =\n",
              "            document.querySelector('#df-5aaf5e24-0a66-4e9d-b0a2-769fb3556fb6 button');\n",
              "          quickchartButtonEl.style.display =\n",
              "            google.colab.kernel.accessAllowed ? 'block' : 'none';\n",
              "        })();\n",
              "      </script>\n",
              "    </div>\n",
              "\n",
              "  <div id=\"id_09ab8e6b-dc41-402a-8e77-05ec4cf88bc0\">\n",
              "    <style>\n",
              "      .colab-df-generate {\n",
              "        background-color: #E8F0FE;\n",
              "        border: none;\n",
              "        border-radius: 50%;\n",
              "        cursor: pointer;\n",
              "        display: none;\n",
              "        fill: #1967D2;\n",
              "        height: 32px;\n",
              "        padding: 0 0 0 0;\n",
              "        width: 32px;\n",
              "      }\n",
              "\n",
              "      .colab-df-generate:hover {\n",
              "        background-color: #E2EBFA;\n",
              "        box-shadow: 0px 1px 2px rgba(60, 64, 67, 0.3), 0px 1px 3px 1px rgba(60, 64, 67, 0.15);\n",
              "        fill: #174EA6;\n",
              "      }\n",
              "\n",
              "      [theme=dark] .colab-df-generate {\n",
              "        background-color: #3B4455;\n",
              "        fill: #D2E3FC;\n",
              "      }\n",
              "\n",
              "      [theme=dark] .colab-df-generate:hover {\n",
              "        background-color: #434B5C;\n",
              "        box-shadow: 0px 1px 3px 1px rgba(0, 0, 0, 0.15);\n",
              "        filter: drop-shadow(0px 1px 2px rgba(0, 0, 0, 0.3));\n",
              "        fill: #FFFFFF;\n",
              "      }\n",
              "    </style>\n",
              "    <button class=\"colab-df-generate\" onclick=\"generateWithVariable('data')\"\n",
              "            title=\"Generate code using this dataframe.\"\n",
              "            style=\"display:none;\">\n",
              "\n",
              "  <svg xmlns=\"http://www.w3.org/2000/svg\" height=\"24px\"viewBox=\"0 0 24 24\"\n",
              "       width=\"24px\">\n",
              "    <path d=\"M7,19H8.4L18.45,9,17,7.55,7,17.6ZM5,21V16.75L18.45,3.32a2,2,0,0,1,2.83,0l1.4,1.43a1.91,1.91,0,0,1,.58,1.4,1.91,1.91,0,0,1-.58,1.4L9.25,21ZM18.45,9,17,7.55Zm-12,3A5.31,5.31,0,0,0,4.9,8.1,5.31,5.31,0,0,0,1,6.5,5.31,5.31,0,0,0,4.9,4.9,5.31,5.31,0,0,0,6.5,1,5.31,5.31,0,0,0,8.1,4.9,5.31,5.31,0,0,0,12,6.5,5.46,5.46,0,0,0,6.5,12Z\"/>\n",
              "  </svg>\n",
              "    </button>\n",
              "    <script>\n",
              "      (() => {\n",
              "      const buttonEl =\n",
              "        document.querySelector('#id_09ab8e6b-dc41-402a-8e77-05ec4cf88bc0 button.colab-df-generate');\n",
              "      buttonEl.style.display =\n",
              "        google.colab.kernel.accessAllowed ? 'block' : 'none';\n",
              "\n",
              "      buttonEl.onclick = () => {\n",
              "        google.colab.notebook.generateWithVariable('data');\n",
              "      }\n",
              "      })();\n",
              "    </script>\n",
              "  </div>\n",
              "\n",
              "    </div>\n",
              "  </div>\n"
            ],
            "application/vnd.google.colaboratory.intrinsic+json": {
              "type": "dataframe",
              "variable_name": "data"
            }
          },
          "metadata": {},
          "execution_count": 3
        }
      ]
    },
    {
      "cell_type": "code",
      "source": [
        "# 1. What is the shape of the dataset?\n",
        "data.shape"
      ],
      "metadata": {
        "colab": {
          "base_uri": "https://localhost:8080/"
        },
        "id": "__HgZHNh8zDB",
        "outputId": "d3059969-01da-4f83-a4a0-50618b1d5632"
      },
      "execution_count": null,
      "outputs": [
        {
          "output_type": "execute_result",
          "data": {
            "text/plain": [
              "(3000, 24)"
            ]
          },
          "metadata": {},
          "execution_count": 14
        }
      ]
    },
    {
      "cell_type": "code",
      "source": [
        "# 2. What are the column names and their data types?\n",
        "data.info()"
      ],
      "metadata": {
        "colab": {
          "base_uri": "https://localhost:8080/"
        },
        "id": "lMGGLcUL8zGN",
        "outputId": "4b8a246d-ec7b-4c26-b083-5739a748f918"
      },
      "execution_count": null,
      "outputs": [
        {
          "output_type": "stream",
          "name": "stdout",
          "text": [
            "<class 'pandas.core.frame.DataFrame'>\n",
            "RangeIndex: 3000 entries, 0 to 2999\n",
            "Data columns (total 24 columns):\n",
            " #   Column                                 Non-Null Count  Dtype  \n",
            "---  ------                                 --------------  -----  \n",
            " 0   Date                                   3000 non-null   object \n",
            " 1   Stock Index                            3000 non-null   object \n",
            " 2   Open Price                             3000 non-null   float64\n",
            " 3   Close Price                            3000 non-null   float64\n",
            " 4   Daily High                             3000 non-null   float64\n",
            " 5   Daily Low                              3000 non-null   float64\n",
            " 6   Trading Volume                         3000 non-null   int64  \n",
            " 7   GDP Growth (%)                         3000 non-null   float64\n",
            " 8   Inflation Rate (%)                     3000 non-null   float64\n",
            " 9   Unemployment Rate (%)                  3000 non-null   float64\n",
            " 10  Interest Rate (%)                      3000 non-null   float64\n",
            " 11  Consumer Confidence Index              3000 non-null   int64  \n",
            " 12  Government Debt (Billion USD)          3000 non-null   int64  \n",
            " 13  Corporate Profits (Billion USD)        3000 non-null   int64  \n",
            " 14  Forex USD/EUR                          3000 non-null   float64\n",
            " 15  Forex USD/JPY                          3000 non-null   float64\n",
            " 16  Crude Oil Price (USD per Barrel)       3000 non-null   float64\n",
            " 17  Gold Price (USD per Ounce)             3000 non-null   float64\n",
            " 18  Real Estate Index                      3000 non-null   float64\n",
            " 19  Retail Sales (Billion USD)             3000 non-null   int64  \n",
            " 20  Bankruptcy Rate (%)                    3000 non-null   float64\n",
            " 21  Mergers & Acquisitions Deals           3000 non-null   int64  \n",
            " 22  Venture Capital Funding (Billion USD)  3000 non-null   float64\n",
            " 23  Consumer Spending (Billion USD)        3000 non-null   int64  \n",
            "dtypes: float64(15), int64(7), object(2)\n",
            "memory usage: 562.6+ KB\n"
          ]
        }
      ]
    },
    {
      "cell_type": "code",
      "source": [
        "data.columns"
      ],
      "metadata": {
        "colab": {
          "base_uri": "https://localhost:8080/"
        },
        "id": "8PJ173N-AFjm",
        "outputId": "fecfaf79-709e-4e2a-acba-2b11f35bee48"
      },
      "execution_count": null,
      "outputs": [
        {
          "output_type": "execute_result",
          "data": {
            "text/plain": [
              "Index(['Date', 'Stock Index', 'Open Price', 'Close Price', 'Daily High',\n",
              "       'Daily Low', 'Trading Volume', 'GDP Growth (%)', 'Inflation Rate (%)',\n",
              "       'Unemployment Rate (%)', 'Interest Rate (%)',\n",
              "       'Consumer Confidence Index', 'Government Debt (Billion USD)',\n",
              "       'Corporate Profits (Billion USD)', 'Forex USD/EUR', 'Forex USD/JPY',\n",
              "       'Crude Oil Price (USD per Barrel)', 'Gold Price (USD per Ounce)',\n",
              "       'Real Estate Index', 'Retail Sales (Billion USD)',\n",
              "       'Bankruptcy Rate (%)', 'Mergers & Acquisitions Deals',\n",
              "       'Venture Capital Funding (Billion USD)',\n",
              "       'Consumer Spending (Billion USD)'],\n",
              "      dtype='object')"
            ]
          },
          "metadata": {},
          "execution_count": 21
        }
      ]
    },
    {
      "cell_type": "code",
      "source": [
        "# 2. What are the column names and their data types?\n",
        "data.dtypes"
      ],
      "metadata": {
        "colab": {
          "base_uri": "https://localhost:8080/",
          "height": 836
        },
        "id": "MCMSEsZS9mbh",
        "outputId": "8bbab561-522f-4702-9a42-e5fffad820f2"
      },
      "execution_count": null,
      "outputs": [
        {
          "output_type": "execute_result",
          "data": {
            "text/plain": [
              "Date                                      object\n",
              "Stock Index                               object\n",
              "Open Price                               float64\n",
              "Close Price                              float64\n",
              "Daily High                               float64\n",
              "Daily Low                                float64\n",
              "Trading Volume                             int64\n",
              "GDP Growth (%)                           float64\n",
              "Inflation Rate (%)                       float64\n",
              "Unemployment Rate (%)                    float64\n",
              "Interest Rate (%)                        float64\n",
              "Consumer Confidence Index                  int64\n",
              "Government Debt (Billion USD)              int64\n",
              "Corporate Profits (Billion USD)            int64\n",
              "Forex USD/EUR                            float64\n",
              "Forex USD/JPY                            float64\n",
              "Crude Oil Price (USD per Barrel)         float64\n",
              "Gold Price (USD per Ounce)               float64\n",
              "Real Estate Index                        float64\n",
              "Retail Sales (Billion USD)                 int64\n",
              "Bankruptcy Rate (%)                      float64\n",
              "Mergers & Acquisitions Deals               int64\n",
              "Venture Capital Funding (Billion USD)    float64\n",
              "Consumer Spending (Billion USD)            int64\n",
              "dtype: object"
            ],
            "text/html": [
              "<div>\n",
              "<style scoped>\n",
              "    .dataframe tbody tr th:only-of-type {\n",
              "        vertical-align: middle;\n",
              "    }\n",
              "\n",
              "    .dataframe tbody tr th {\n",
              "        vertical-align: top;\n",
              "    }\n",
              "\n",
              "    .dataframe thead th {\n",
              "        text-align: right;\n",
              "    }\n",
              "</style>\n",
              "<table border=\"1\" class=\"dataframe\">\n",
              "  <thead>\n",
              "    <tr style=\"text-align: right;\">\n",
              "      <th></th>\n",
              "      <th>0</th>\n",
              "    </tr>\n",
              "  </thead>\n",
              "  <tbody>\n",
              "    <tr>\n",
              "      <th>Date</th>\n",
              "      <td>object</td>\n",
              "    </tr>\n",
              "    <tr>\n",
              "      <th>Stock Index</th>\n",
              "      <td>object</td>\n",
              "    </tr>\n",
              "    <tr>\n",
              "      <th>Open Price</th>\n",
              "      <td>float64</td>\n",
              "    </tr>\n",
              "    <tr>\n",
              "      <th>Close Price</th>\n",
              "      <td>float64</td>\n",
              "    </tr>\n",
              "    <tr>\n",
              "      <th>Daily High</th>\n",
              "      <td>float64</td>\n",
              "    </tr>\n",
              "    <tr>\n",
              "      <th>Daily Low</th>\n",
              "      <td>float64</td>\n",
              "    </tr>\n",
              "    <tr>\n",
              "      <th>Trading Volume</th>\n",
              "      <td>int64</td>\n",
              "    </tr>\n",
              "    <tr>\n",
              "      <th>GDP Growth (%)</th>\n",
              "      <td>float64</td>\n",
              "    </tr>\n",
              "    <tr>\n",
              "      <th>Inflation Rate (%)</th>\n",
              "      <td>float64</td>\n",
              "    </tr>\n",
              "    <tr>\n",
              "      <th>Unemployment Rate (%)</th>\n",
              "      <td>float64</td>\n",
              "    </tr>\n",
              "    <tr>\n",
              "      <th>Interest Rate (%)</th>\n",
              "      <td>float64</td>\n",
              "    </tr>\n",
              "    <tr>\n",
              "      <th>Consumer Confidence Index</th>\n",
              "      <td>int64</td>\n",
              "    </tr>\n",
              "    <tr>\n",
              "      <th>Government Debt (Billion USD)</th>\n",
              "      <td>int64</td>\n",
              "    </tr>\n",
              "    <tr>\n",
              "      <th>Corporate Profits (Billion USD)</th>\n",
              "      <td>int64</td>\n",
              "    </tr>\n",
              "    <tr>\n",
              "      <th>Forex USD/EUR</th>\n",
              "      <td>float64</td>\n",
              "    </tr>\n",
              "    <tr>\n",
              "      <th>Forex USD/JPY</th>\n",
              "      <td>float64</td>\n",
              "    </tr>\n",
              "    <tr>\n",
              "      <th>Crude Oil Price (USD per Barrel)</th>\n",
              "      <td>float64</td>\n",
              "    </tr>\n",
              "    <tr>\n",
              "      <th>Gold Price (USD per Ounce)</th>\n",
              "      <td>float64</td>\n",
              "    </tr>\n",
              "    <tr>\n",
              "      <th>Real Estate Index</th>\n",
              "      <td>float64</td>\n",
              "    </tr>\n",
              "    <tr>\n",
              "      <th>Retail Sales (Billion USD)</th>\n",
              "      <td>int64</td>\n",
              "    </tr>\n",
              "    <tr>\n",
              "      <th>Bankruptcy Rate (%)</th>\n",
              "      <td>float64</td>\n",
              "    </tr>\n",
              "    <tr>\n",
              "      <th>Mergers &amp; Acquisitions Deals</th>\n",
              "      <td>int64</td>\n",
              "    </tr>\n",
              "    <tr>\n",
              "      <th>Venture Capital Funding (Billion USD)</th>\n",
              "      <td>float64</td>\n",
              "    </tr>\n",
              "    <tr>\n",
              "      <th>Consumer Spending (Billion USD)</th>\n",
              "      <td>int64</td>\n",
              "    </tr>\n",
              "  </tbody>\n",
              "</table>\n",
              "</div><br><label><b>dtype:</b> object</label>"
            ]
          },
          "metadata": {},
          "execution_count": 16
        }
      ]
    },
    {
      "cell_type": "code",
      "source": [
        "# 3. How many unique stock indices are there?\n",
        "data['Stock Index'].nunique()\n",
        "data['Stock Index'].unique()"
      ],
      "metadata": {
        "colab": {
          "base_uri": "https://localhost:8080/"
        },
        "id": "4Pfnio5e96d-",
        "outputId": "901f7338-ed12-47ca-c644-799c7d1b0944"
      },
      "execution_count": null,
      "outputs": [
        {
          "output_type": "execute_result",
          "data": {
            "text/plain": [
              "array(['Dow Jones', 'S&P 500', 'NASDAQ'], dtype=object)"
            ]
          },
          "metadata": {},
          "execution_count": 17
        }
      ]
    },
    {
      "cell_type": "code",
      "source": [
        "# 4. What is the date range of the dataset?\n",
        "data['Date'] = pd.to_datetime(data['Date'], errors='coerce')\n",
        "data['Date'].min(), data['Date'].max()\n"
      ],
      "metadata": {
        "colab": {
          "base_uri": "https://localhost:8080/"
        },
        "id": "SsIi5Mgf-m39",
        "outputId": "cab72374-5438-46ce-8c3f-8e9258a42d0b"
      },
      "execution_count": null,
      "outputs": [
        {
          "output_type": "execute_result",
          "data": {
            "text/plain": [
              "(Timestamp('2000-01-01 00:00:00'), Timestamp('2008-03-18 00:00:00'))"
            ]
          },
          "metadata": {},
          "execution_count": 18
        }
      ]
    },
    {
      "cell_type": "code",
      "source": [
        "# 5. Are there any missing values?\n",
        "data.isnull().sum()"
      ],
      "metadata": {
        "colab": {
          "base_uri": "https://localhost:8080/",
          "height": 836
        },
        "id": "Iuo4k8-i-4ai",
        "outputId": "d59dd465-50bc-48aa-d20e-2a93ba4a98ca"
      },
      "execution_count": null,
      "outputs": [
        {
          "output_type": "execute_result",
          "data": {
            "text/plain": [
              "Date                                     0\n",
              "Stock Index                              0\n",
              "Open Price                               0\n",
              "Close Price                              0\n",
              "Daily High                               0\n",
              "Daily Low                                0\n",
              "Trading Volume                           0\n",
              "GDP Growth (%)                           0\n",
              "Inflation Rate (%)                       0\n",
              "Unemployment Rate (%)                    0\n",
              "Interest Rate (%)                        0\n",
              "Consumer Confidence Index                0\n",
              "Government Debt (Billion USD)            0\n",
              "Corporate Profits (Billion USD)          0\n",
              "Forex USD/EUR                            0\n",
              "Forex USD/JPY                            0\n",
              "Crude Oil Price (USD per Barrel)         0\n",
              "Gold Price (USD per Ounce)               0\n",
              "Real Estate Index                        0\n",
              "Retail Sales (Billion USD)               0\n",
              "Bankruptcy Rate (%)                      0\n",
              "Mergers & Acquisitions Deals             0\n",
              "Venture Capital Funding (Billion USD)    0\n",
              "Consumer Spending (Billion USD)          0\n",
              "dtype: int64"
            ],
            "text/html": [
              "<div>\n",
              "<style scoped>\n",
              "    .dataframe tbody tr th:only-of-type {\n",
              "        vertical-align: middle;\n",
              "    }\n",
              "\n",
              "    .dataframe tbody tr th {\n",
              "        vertical-align: top;\n",
              "    }\n",
              "\n",
              "    .dataframe thead th {\n",
              "        text-align: right;\n",
              "    }\n",
              "</style>\n",
              "<table border=\"1\" class=\"dataframe\">\n",
              "  <thead>\n",
              "    <tr style=\"text-align: right;\">\n",
              "      <th></th>\n",
              "      <th>0</th>\n",
              "    </tr>\n",
              "  </thead>\n",
              "  <tbody>\n",
              "    <tr>\n",
              "      <th>Date</th>\n",
              "      <td>0</td>\n",
              "    </tr>\n",
              "    <tr>\n",
              "      <th>Stock Index</th>\n",
              "      <td>0</td>\n",
              "    </tr>\n",
              "    <tr>\n",
              "      <th>Open Price</th>\n",
              "      <td>0</td>\n",
              "    </tr>\n",
              "    <tr>\n",
              "      <th>Close Price</th>\n",
              "      <td>0</td>\n",
              "    </tr>\n",
              "    <tr>\n",
              "      <th>Daily High</th>\n",
              "      <td>0</td>\n",
              "    </tr>\n",
              "    <tr>\n",
              "      <th>Daily Low</th>\n",
              "      <td>0</td>\n",
              "    </tr>\n",
              "    <tr>\n",
              "      <th>Trading Volume</th>\n",
              "      <td>0</td>\n",
              "    </tr>\n",
              "    <tr>\n",
              "      <th>GDP Growth (%)</th>\n",
              "      <td>0</td>\n",
              "    </tr>\n",
              "    <tr>\n",
              "      <th>Inflation Rate (%)</th>\n",
              "      <td>0</td>\n",
              "    </tr>\n",
              "    <tr>\n",
              "      <th>Unemployment Rate (%)</th>\n",
              "      <td>0</td>\n",
              "    </tr>\n",
              "    <tr>\n",
              "      <th>Interest Rate (%)</th>\n",
              "      <td>0</td>\n",
              "    </tr>\n",
              "    <tr>\n",
              "      <th>Consumer Confidence Index</th>\n",
              "      <td>0</td>\n",
              "    </tr>\n",
              "    <tr>\n",
              "      <th>Government Debt (Billion USD)</th>\n",
              "      <td>0</td>\n",
              "    </tr>\n",
              "    <tr>\n",
              "      <th>Corporate Profits (Billion USD)</th>\n",
              "      <td>0</td>\n",
              "    </tr>\n",
              "    <tr>\n",
              "      <th>Forex USD/EUR</th>\n",
              "      <td>0</td>\n",
              "    </tr>\n",
              "    <tr>\n",
              "      <th>Forex USD/JPY</th>\n",
              "      <td>0</td>\n",
              "    </tr>\n",
              "    <tr>\n",
              "      <th>Crude Oil Price (USD per Barrel)</th>\n",
              "      <td>0</td>\n",
              "    </tr>\n",
              "    <tr>\n",
              "      <th>Gold Price (USD per Ounce)</th>\n",
              "      <td>0</td>\n",
              "    </tr>\n",
              "    <tr>\n",
              "      <th>Real Estate Index</th>\n",
              "      <td>0</td>\n",
              "    </tr>\n",
              "    <tr>\n",
              "      <th>Retail Sales (Billion USD)</th>\n",
              "      <td>0</td>\n",
              "    </tr>\n",
              "    <tr>\n",
              "      <th>Bankruptcy Rate (%)</th>\n",
              "      <td>0</td>\n",
              "    </tr>\n",
              "    <tr>\n",
              "      <th>Mergers &amp; Acquisitions Deals</th>\n",
              "      <td>0</td>\n",
              "    </tr>\n",
              "    <tr>\n",
              "      <th>Venture Capital Funding (Billion USD)</th>\n",
              "      <td>0</td>\n",
              "    </tr>\n",
              "    <tr>\n",
              "      <th>Consumer Spending (Billion USD)</th>\n",
              "      <td>0</td>\n",
              "    </tr>\n",
              "  </tbody>\n",
              "</table>\n",
              "</div><br><label><b>dtype:</b> int64</label>"
            ]
          },
          "metadata": {},
          "execution_count": 19
        }
      ]
    },
    {
      "cell_type": "code",
      "source": [
        "# 6. Are there negative values in columns that should be non-negative?\n",
        "non_negative_columns = ['Trading Volume', 'GDP Growth (%)', 'Inflation Rate (%)',\n",
        "       'Unemployment Rate (%)','Gold Price (USD per Ounce)','Crude Oil Price (USD per Barrel)',\n",
        "       'Consumer Confidence Index', 'Corporate Profits (Billion USD)']\n",
        "\n",
        "{col: (data[col] < 0).sum() for col in non_negative_columns if col in data.columns}"
      ],
      "metadata": {
        "colab": {
          "base_uri": "https://localhost:8080/"
        },
        "id": "AHgep1ZFAAVh",
        "outputId": "bdf29c5e-37af-41fc-86a1-7d664d58fec3"
      },
      "execution_count": null,
      "outputs": [
        {
          "output_type": "execute_result",
          "data": {
            "text/plain": [
              "{'Trading Volume': np.int64(0),\n",
              " 'GDP Growth (%)': np.int64(947),\n",
              " 'Inflation Rate (%)': np.int64(0),\n",
              " 'Unemployment Rate (%)': np.int64(0),\n",
              " 'Gold Price (USD per Ounce)': np.int64(0),\n",
              " 'Crude Oil Price (USD per Barrel)': np.int64(0),\n",
              " 'Consumer Confidence Index': np.int64(0),\n",
              " 'Corporate Profits (Billion USD)': np.int64(0)}"
            ]
          },
          "metadata": {},
          "execution_count": 27
        }
      ]
    },
    {
      "cell_type": "code",
      "source": [
        "# 7. What is the summary of GDP Growth (%)?\n",
        "data['GDP Growth (%)'].describe()\n"
      ],
      "metadata": {
        "colab": {
          "base_uri": "https://localhost:8080/",
          "height": 335
        },
        "id": "dxIxrxW5CS4R",
        "outputId": "398f282e-1303-40eb-d582-5b2547b86ba6"
      },
      "execution_count": null,
      "outputs": [
        {
          "output_type": "execute_result",
          "data": {
            "text/plain": [
              "count    3000.000000\n",
              "mean        2.608903\n",
              "std         4.287337\n",
              "min        -5.000000\n",
              "25%        -1.012500\n",
              "50%         2.725000\n",
              "75%         6.242500\n",
              "max        10.000000\n",
              "Name: GDP Growth (%), dtype: float64"
            ],
            "text/html": [
              "<div>\n",
              "<style scoped>\n",
              "    .dataframe tbody tr th:only-of-type {\n",
              "        vertical-align: middle;\n",
              "    }\n",
              "\n",
              "    .dataframe tbody tr th {\n",
              "        vertical-align: top;\n",
              "    }\n",
              "\n",
              "    .dataframe thead th {\n",
              "        text-align: right;\n",
              "    }\n",
              "</style>\n",
              "<table border=\"1\" class=\"dataframe\">\n",
              "  <thead>\n",
              "    <tr style=\"text-align: right;\">\n",
              "      <th></th>\n",
              "      <th>GDP Growth (%)</th>\n",
              "    </tr>\n",
              "  </thead>\n",
              "  <tbody>\n",
              "    <tr>\n",
              "      <th>count</th>\n",
              "      <td>3000.000000</td>\n",
              "    </tr>\n",
              "    <tr>\n",
              "      <th>mean</th>\n",
              "      <td>2.608903</td>\n",
              "    </tr>\n",
              "    <tr>\n",
              "      <th>std</th>\n",
              "      <td>4.287337</td>\n",
              "    </tr>\n",
              "    <tr>\n",
              "      <th>min</th>\n",
              "      <td>-5.000000</td>\n",
              "    </tr>\n",
              "    <tr>\n",
              "      <th>25%</th>\n",
              "      <td>-1.012500</td>\n",
              "    </tr>\n",
              "    <tr>\n",
              "      <th>50%</th>\n",
              "      <td>2.725000</td>\n",
              "    </tr>\n",
              "    <tr>\n",
              "      <th>75%</th>\n",
              "      <td>6.242500</td>\n",
              "    </tr>\n",
              "    <tr>\n",
              "      <th>max</th>\n",
              "      <td>10.000000</td>\n",
              "    </tr>\n",
              "  </tbody>\n",
              "</table>\n",
              "</div><br><label><b>dtype:</b> float64</label>"
            ]
          },
          "metadata": {},
          "execution_count": 32
        }
      ]
    },
    {
      "cell_type": "code",
      "source": [
        "# 8. Are there rows with zero or near-zero trading volume?\n",
        "data[data['Trading Volume'] <= 1].shape[0]"
      ],
      "metadata": {
        "colab": {
          "base_uri": "https://localhost:8080/"
        },
        "id": "3W3gjsuhClw6",
        "outputId": "acfd70f1-0485-4e38-80f3-eb79cf1ebd95"
      },
      "execution_count": null,
      "outputs": [
        {
          "output_type": "execute_result",
          "data": {
            "text/plain": [
              "0"
            ]
          },
          "metadata": {},
          "execution_count": 36
        }
      ]
    },
    {
      "cell_type": "code",
      "source": [
        "# 9. Are there any duplicate rows?\n",
        "data.duplicated().sum()"
      ],
      "metadata": {
        "colab": {
          "base_uri": "https://localhost:8080/"
        },
        "id": "VfILAWe0C4es",
        "outputId": "2c8cf64c-5096-4d1f-dcfa-1fcb1895e2ea"
      },
      "execution_count": null,
      "outputs": [
        {
          "output_type": "execute_result",
          "data": {
            "text/plain": [
              "np.int64(0)"
            ]
          },
          "metadata": {},
          "execution_count": 37
        }
      ]
    },
    {
      "cell_type": "code",
      "source": [
        "# 10. Are there outliers in GDP, Gold, or Oil prices?\n",
        "outliers = {}\n",
        "for col in ['GDP Growth (%)','Crude Oil Price (USD per Barrel)','Gold Price (USD per Ounce)']:\n",
        "    Q1 = data[col].quantile(0.25)\n",
        "    Q3 = data[col].quantile(0.75)\n",
        "    IQR = Q3 - Q1\n",
        "    outliers[col] = ((data[col] < Q1 - 1.5*IQR) | (data[col] > Q3 + 1.5*IQR)).sum()\n",
        "outliers"
      ],
      "metadata": {
        "colab": {
          "base_uri": "https://localhost:8080/"
        },
        "id": "DdMjBpH9C_kA",
        "outputId": "737e6867-8c73-41bd-8c14-422a92c20b4b"
      },
      "execution_count": null,
      "outputs": [
        {
          "output_type": "execute_result",
          "data": {
            "text/plain": [
              "{'GDP Growth (%)': np.int64(0),\n",
              " 'Crude Oil Price (USD per Barrel)': np.int64(0),\n",
              " 'Gold Price (USD per Ounce)': np.int64(0)}"
            ]
          },
          "metadata": {},
          "execution_count": 38
        }
      ]
    },
    {
      "cell_type": "code",
      "source": [
        "# 11. What is the summary of Inflation Rate (%)?\n",
        "data['Inflation Rate (%)'].describe()"
      ],
      "metadata": {
        "colab": {
          "base_uri": "https://localhost:8080/",
          "height": 335
        },
        "id": "ft2ebsOcD4mq",
        "outputId": "e1123874-82a1-42aa-cc88-1624ffc4b269"
      },
      "execution_count": null,
      "outputs": [
        {
          "output_type": "execute_result",
          "data": {
            "text/plain": [
              "count    3000.000000\n",
              "mean        5.096830\n",
              "std         2.910513\n",
              "min         0.010000\n",
              "25%         2.607500\n",
              "50%         5.110000\n",
              "75%         7.600000\n",
              "max        10.000000\n",
              "Name: Inflation Rate (%), dtype: float64"
            ],
            "text/html": [
              "<div>\n",
              "<style scoped>\n",
              "    .dataframe tbody tr th:only-of-type {\n",
              "        vertical-align: middle;\n",
              "    }\n",
              "\n",
              "    .dataframe tbody tr th {\n",
              "        vertical-align: top;\n",
              "    }\n",
              "\n",
              "    .dataframe thead th {\n",
              "        text-align: right;\n",
              "    }\n",
              "</style>\n",
              "<table border=\"1\" class=\"dataframe\">\n",
              "  <thead>\n",
              "    <tr style=\"text-align: right;\">\n",
              "      <th></th>\n",
              "      <th>Inflation Rate (%)</th>\n",
              "    </tr>\n",
              "  </thead>\n",
              "  <tbody>\n",
              "    <tr>\n",
              "      <th>count</th>\n",
              "      <td>3000.000000</td>\n",
              "    </tr>\n",
              "    <tr>\n",
              "      <th>mean</th>\n",
              "      <td>5.096830</td>\n",
              "    </tr>\n",
              "    <tr>\n",
              "      <th>std</th>\n",
              "      <td>2.910513</td>\n",
              "    </tr>\n",
              "    <tr>\n",
              "      <th>min</th>\n",
              "      <td>0.010000</td>\n",
              "    </tr>\n",
              "    <tr>\n",
              "      <th>25%</th>\n",
              "      <td>2.607500</td>\n",
              "    </tr>\n",
              "    <tr>\n",
              "      <th>50%</th>\n",
              "      <td>5.110000</td>\n",
              "    </tr>\n",
              "    <tr>\n",
              "      <th>75%</th>\n",
              "      <td>7.600000</td>\n",
              "    </tr>\n",
              "    <tr>\n",
              "      <th>max</th>\n",
              "      <td>10.000000</td>\n",
              "    </tr>\n",
              "  </tbody>\n",
              "</table>\n",
              "</div><br><label><b>dtype:</b> float64</label>"
            ]
          },
          "metadata": {},
          "execution_count": 40
        }
      ]
    },
    {
      "cell_type": "code",
      "source": [
        "# 12. What is the average unemployment rate?\n",
        "data['Unemployment Rate (%)'].mean()"
      ],
      "metadata": {
        "colab": {
          "base_uri": "https://localhost:8080/"
        },
        "id": "Ceua3IwyEL_w",
        "outputId": "ce45af8d-82c0-4f89-8616-c600d918017d"
      },
      "execution_count": null,
      "outputs": [
        {
          "output_type": "execute_result",
          "data": {
            "text/plain": [
              "np.float64(8.663786666666667)"
            ]
          },
          "metadata": {},
          "execution_count": 41
        }
      ]
    },
    {
      "cell_type": "code",
      "source": [
        "# 13. Which index has the highest trading volume?\n",
        "data.groupby('Stock Index')['Trading Volume'].sum().idxmax()"
      ],
      "metadata": {
        "colab": {
          "base_uri": "https://localhost:8080/",
          "height": 36
        },
        "id": "BW7kkTWtEaUZ",
        "outputId": "a6629c8d-24e7-40dd-93d3-41ae0f0667ad"
      },
      "execution_count": null,
      "outputs": [
        {
          "output_type": "execute_result",
          "data": {
            "text/plain": [
              "'S&P 500'"
            ],
            "application/vnd.google.colaboratory.intrinsic+json": {
              "type": "string"
            }
          },
          "metadata": {},
          "execution_count": 43
        }
      ]
    },
    {
      "cell_type": "code",
      "source": [
        "# 14. How many stock records are from each index?\n",
        "data['Stock Index'].value_counts()\n"
      ],
      "metadata": {
        "colab": {
          "base_uri": "https://localhost:8080/",
          "height": 209
        },
        "id": "q9OS7AhoE15e",
        "outputId": "0e2c01a5-8ac9-4697-a179-a66e4560bf31"
      },
      "execution_count": null,
      "outputs": [
        {
          "output_type": "execute_result",
          "data": {
            "text/plain": [
              "Stock Index\n",
              "S&P 500      1036\n",
              "NASDAQ       1007\n",
              "Dow Jones     957\n",
              "Name: count, dtype: int64"
            ],
            "text/html": [
              "<div>\n",
              "<style scoped>\n",
              "    .dataframe tbody tr th:only-of-type {\n",
              "        vertical-align: middle;\n",
              "    }\n",
              "\n",
              "    .dataframe tbody tr th {\n",
              "        vertical-align: top;\n",
              "    }\n",
              "\n",
              "    .dataframe thead th {\n",
              "        text-align: right;\n",
              "    }\n",
              "</style>\n",
              "<table border=\"1\" class=\"dataframe\">\n",
              "  <thead>\n",
              "    <tr style=\"text-align: right;\">\n",
              "      <th></th>\n",
              "      <th>count</th>\n",
              "    </tr>\n",
              "    <tr>\n",
              "      <th>Stock Index</th>\n",
              "      <th></th>\n",
              "    </tr>\n",
              "  </thead>\n",
              "  <tbody>\n",
              "    <tr>\n",
              "      <th>S&amp;P 500</th>\n",
              "      <td>1036</td>\n",
              "    </tr>\n",
              "    <tr>\n",
              "      <th>NASDAQ</th>\n",
              "      <td>1007</td>\n",
              "    </tr>\n",
              "    <tr>\n",
              "      <th>Dow Jones</th>\n",
              "      <td>957</td>\n",
              "    </tr>\n",
              "  </tbody>\n",
              "</table>\n",
              "</div><br><label><b>dtype:</b> int64</label>"
            ]
          },
          "metadata": {},
          "execution_count": 45
        }
      ]
    },
    {
      "cell_type": "code",
      "source": [
        "# 15. What is the correlation between inflation and interest rate?\n",
        "data['Inflation Rate (%)'].corr(data['Interest Rate (%)'])"
      ],
      "metadata": {
        "colab": {
          "base_uri": "https://localhost:8080/"
        },
        "id": "WucKMMYlFkqh",
        "outputId": "e1e41194-6476-43cc-95f9-4ca5e475b9ae"
      },
      "execution_count": null,
      "outputs": [
        {
          "output_type": "execute_result",
          "data": {
            "text/plain": [
              "np.float64(0.00573292723557624)"
            ]
          },
          "metadata": {},
          "execution_count": 47
        }
      ]
    },
    {
      "cell_type": "code",
      "source": [
        "# 16. What is the average Consumer Confidence Index?\n",
        "data['Consumer Confidence Index'].mean()"
      ],
      "metadata": {
        "colab": {
          "base_uri": "https://localhost:8080/"
        },
        "id": "ZHf6wC5GF3vs",
        "outputId": "1a7dadd3-33ad-468c-b10b-2d81dcc86b49"
      },
      "execution_count": null,
      "outputs": [
        {
          "output_type": "execute_result",
          "data": {
            "text/plain": [
              "np.float64(85.036)"
            ]
          },
          "metadata": {},
          "execution_count": 48
        }
      ]
    },
    {
      "cell_type": "code",
      "source": [
        "# 17. Which column has the highest standard deviation?\n",
        "data.std(numeric_only=True).idxmax()\n"
      ],
      "metadata": {
        "colab": {
          "base_uri": "https://localhost:8080/",
          "height": 36
        },
        "id": "-tTmMDNjGEQL",
        "outputId": "fe64f779-a137-4ff8-940d-45d09a5fdc47"
      },
      "execution_count": null,
      "outputs": [
        {
          "output_type": "execute_result",
          "data": {
            "text/plain": [
              "'Trading Volume'"
            ],
            "application/vnd.google.colaboratory.intrinsic+json": {
              "type": "string"
            }
          },
          "metadata": {},
          "execution_count": 49
        }
      ]
    },
    {
      "cell_type": "code",
      "source": [
        "# 18. What is the highest gold price recorded?\n",
        "data['Gold Price (USD per Ounce)'].max()"
      ],
      "metadata": {
        "colab": {
          "base_uri": "https://localhost:8080/"
        },
        "id": "fgvg9b8WGNHO",
        "outputId": "81236fbd-ad7b-41ee-8b46-ba7a0cd283be"
      },
      "execution_count": null,
      "outputs": [
        {
          "output_type": "execute_result",
          "data": {
            "text/plain": [
              "2499.66"
            ]
          },
          "metadata": {},
          "execution_count": 51
        }
      ]
    },
    {
      "cell_type": "code",
      "source": [
        "# 19. Which date had the highest crude oil price?\n",
        "data.loc[data['Crude Oil Price (USD per Barrel)'].idxmax(), 'Date']"
      ],
      "metadata": {
        "colab": {
          "base_uri": "https://localhost:8080/"
        },
        "id": "yxyCaG29GaQ-",
        "outputId": "54a9faec-0b42-49fc-da27-fb867218d001"
      },
      "execution_count": null,
      "outputs": [
        {
          "output_type": "execute_result",
          "data": {
            "text/plain": [
              "Timestamp('2001-11-22 00:00:00')"
            ]
          },
          "metadata": {},
          "execution_count": 55
        }
      ]
    },
    {
      "cell_type": "code",
      "source": [
        "# 20. What is the average corporate profit?\n",
        "data['Corporate Profits (Billion USD)'].mean()"
      ],
      "metadata": {
        "colab": {
          "base_uri": "https://localhost:8080/"
        },
        "id": "mAfBFzx4G5gW",
        "outputId": "821692ee-2ab9-427d-f6b6-fccd617ddd0d"
      },
      "execution_count": null,
      "outputs": [
        {
          "output_type": "execute_result",
          "data": {
            "text/plain": [
              "np.float64(2553.7563333333333)"
            ]
          },
          "metadata": {},
          "execution_count": 58
        }
      ]
    },
    {
      "cell_type": "markdown",
      "source": [
        "**INSIGHTFUL ANALYSIS QUESTIONS**"
      ],
      "metadata": {
        "id": "UGxpBARPt0Tc"
      }
    },
    {
      "cell_type": "code",
      "source": [
        "# 1. What percentage of the dataset shows negative GDP growth?\n",
        "neg_gdp_pct = (data[data['GDP Growth (%)'] < 0].shape[0] / data.shape[0]) * 100\n",
        "neg_gdp_pct"
      ],
      "metadata": {
        "colab": {
          "base_uri": "https://localhost:8080/"
        },
        "id": "K1TY-7P7ODEL",
        "outputId": "8bff39eb-e55a-4021-c01d-f32a2a3851b9"
      },
      "execution_count": null,
      "outputs": [
        {
          "output_type": "execute_result",
          "data": {
            "text/plain": [
              "31.566666666666666"
            ]
          },
          "metadata": {},
          "execution_count": 30
        }
      ]
    },
    {
      "cell_type": "code",
      "source": [
        "# 2. Does high inflation correspond to higher interest rates?\n",
        "inflation_interest_corr = data['Inflation Rate (%)'].corr(data['Interest Rate (%)'])\n",
        "inflation_interest_corr"
      ],
      "metadata": {
        "colab": {
          "base_uri": "https://localhost:8080/"
        },
        "id": "tWVj3np-GouJ",
        "outputId": "71204bcb-2338-48a6-99c2-31f86f3cdcb7"
      },
      "execution_count": null,
      "outputs": [
        {
          "output_type": "execute_result",
          "data": {
            "text/plain": [
              "np.float64(0.00573292723557624)"
            ]
          },
          "metadata": {},
          "execution_count": 6
        }
      ]
    },
    {
      "cell_type": "code",
      "source": [
        "# 3. Is there a relationship between unemployment and consumer spending?\n",
        "unemp_cons_spending_corr = data['Unemployment Rate (%)'].corr(data['Consumer Spending (Billion USD)'])\n",
        "unemp_cons_spending_corr"
      ],
      "metadata": {
        "colab": {
          "base_uri": "https://localhost:8080/"
        },
        "id": "U_-F6gaYGzmw",
        "outputId": "3965153c-54a9-4089-b76f-af84b06be0ee"
      },
      "execution_count": null,
      "outputs": [
        {
          "output_type": "execute_result",
          "data": {
            "text/plain": [
              "np.float64(0.018786001938759088)"
            ]
          },
          "metadata": {},
          "execution_count": 7
        }
      ]
    },
    {
      "cell_type": "code",
      "source": [
        "# 4. Do higher corporate profits align with higher consumer confidence?\n",
        "corp_conf_corr = data['Corporate Profits (Billion USD)'].corr(data['Consumer Confidence Index'])\n",
        "corp_conf_corr"
      ],
      "metadata": {
        "colab": {
          "base_uri": "https://localhost:8080/"
        },
        "id": "5NwZVqa0GzqB",
        "outputId": "b70a5df1-67f1-4b76-fddd-6bf9b8854cce"
      },
      "execution_count": null,
      "outputs": [
        {
          "output_type": "execute_result",
          "data": {
            "text/plain": [
              "np.float64(0.018008055888269585)"
            ]
          },
          "metadata": {},
          "execution_count": 8
        }
      ]
    },
    {
      "cell_type": "code",
      "source": [
        "# 5. What’s the trend of crude oil prices over time?\n",
        "plt.figure(figsize=(10,5))\n",
        "plt.plot(pd.to_datetime(data['Date']), data['Crude Oil Price (USD per Barrel)'], label=\"Crude Oil Price\", color=\"orange\")\n",
        "plt.title(\"Crude Oil Price Trend\")\n",
        "plt.xlabel(\"Date\")\n",
        "plt.ylabel(\"USD per Barrel\")\n",
        "plt.legend()\n",
        "plt.tight_layout()\n",
        "plt.show()"
      ],
      "metadata": {
        "colab": {
          "base_uri": "https://localhost:8080/",
          "height": 507
        },
        "id": "tOCVYpDGGztZ",
        "outputId": "04a864bb-4728-4bc7-8e79-cbb3ede644d2"
      },
      "execution_count": null,
      "outputs": [
        {
          "output_type": "display_data",
          "data": {
            "text/plain": [
              "<Figure size 1000x500 with 1 Axes>"
            ],
            "image/png": "[encoded data removed]"
          },
          "metadata": {}
        }
      ]
    },
    {
      "cell_type": "code",
      "source": [
        "# 6. Are gold prices inversely related to stock performance?\n",
        "data['Market Change %'] = ((data['Close Price'] - data['Open Price']) / data['Open Price']) * 100\n",
        "gold_stock_corr = data['Gold Price (USD per Ounce)'].corr(data['Market Change %'])\n",
        "\n",
        "plt.figure(figsize=(7,5))\n",
        "sns.scatterplot(x=data['Gold Price (USD per Ounce)'], y=data['Market Change %'])\n",
        "plt.title(\"Gold Price vs Market % Change\")\n",
        "plt.xlabel(\"Gold Price (USD/oz)\")\n",
        "plt.ylabel(\"Market % Change\")\n",
        "plt.tight_layout()\n",
        "plt.show()"
      ],
      "metadata": {
        "colab": {
          "base_uri": "https://localhost:8080/",
          "height": 507
        },
        "id": "hWLHk7tuGz0I",
        "outputId": "88dd2257-7b13-4922-ac7a-aa6a8f3c9a0b"
      },
      "execution_count": null,
      "outputs": [
        {
          "output_type": "display_data",
          "data": {
            "text/plain": [
              "<Figure size 700x500 with 1 Axes>"
            ],
            "image/png": "[encoded data removed]"
          },
          "metadata": {}
        }
      ]
    },
    {
      "cell_type": "code",
      "source": [
        "# 7. Does government debt impact consumer confidence?\n",
        "debt_conf_corr = data['Government Debt (Billion USD)'].corr(data['Consumer Confidence Index'])\n",
        "debt_conf_corr"
      ],
      "metadata": {
        "colab": {
          "base_uri": "https://localhost:8080/"
        },
        "id": "AsAwkpQmGz5B",
        "outputId": "d6fa884e-3d9d-46f1-c069-dc81db8a294c"
      },
      "execution_count": null,
      "outputs": [
        {
          "output_type": "execute_result",
          "data": {
            "text/plain": [
              "np.float64(-0.03637006085825002)"
            ]
          },
          "metadata": {},
          "execution_count": 16
        }
      ]
    },
    {
      "cell_type": "code",
      "source": [
        "# 8. How do mergers & acquisitions (M&A) activity correlate with stock index closing prices?\n",
        "ma_close_corr = data['Mergers & Acquisitions Deals'].corr(data['Close Price'])\n",
        "ma_close_corr"
      ],
      "metadata": {
        "colab": {
          "base_uri": "https://localhost:8080/"
        },
        "id": "VU55jXeQIRkr",
        "outputId": "ac292645-58c6-44cd-ec9d-f1de2228262a"
      },
      "execution_count": null,
      "outputs": [
        {
          "output_type": "execute_result",
          "data": {
            "text/plain": [
              "np.float64(0.002637100789439038)"
            ]
          },
          "metadata": {},
          "execution_count": 17
        }
      ]
    },
    {
      "cell_type": "code",
      "source": [
        "# 9. Is retail sales growth associated with GDP growth?\n",
        "# Calculate Retail Sales Growth (%)\n",
        "data['Retail Sales Growth (%)'] = data['Retail Sales (Billion USD)'].pct_change() * 100\n",
        "\n",
        "retail_gdp_corr = data['Retail Sales Growth (%)'].corr(data['GDP Growth (%)'])\n",
        "retail_gdp_corr"
      ],
      "metadata": {
        "colab": {
          "base_uri": "https://localhost:8080/"
        },
        "id": "2GY8lGqEIRo6",
        "outputId": "08fc85aa-bd4a-4963-f2ea-289d5d2f1784"
      },
      "execution_count": null,
      "outputs": [
        {
          "output_type": "execute_result",
          "data": {
            "text/plain": [
              "np.float64(0.009188003689102912)"
            ]
          },
          "metadata": {},
          "execution_count": 19
        }
      ]
    },
    {
      "cell_type": "code",
      "source": [
        "# 10. Is stock market performance linked to consumer spending?\n",
        "close_cons_spending_corr = data['Close Price'].corr(data['Consumer Spending (Billion USD)'])\n",
        "close_cons_spending_corr"
      ],
      "metadata": {
        "colab": {
          "base_uri": "https://localhost:8080/"
        },
        "id": "UU3LUPqtIRuX",
        "outputId": "224dee24-e6cc-4c89-fb4c-367e0210b72a"
      },
      "execution_count": null,
      "outputs": [
        {
          "output_type": "execute_result",
          "data": {
            "text/plain": [
              "np.float64(0.000375559393188518)"
            ]
          },
          "metadata": {},
          "execution_count": 22
        }
      ]
    },
    {
      "cell_type": "code",
      "source": [
        "# 11. Which stock index had the highest average closing price?\n",
        "avg_close_index = data.groupby('Stock Index')['Close Price'].mean().sort_values(ascending=False)\n",
        "avg_close_index"
      ],
      "metadata": {
        "colab": {
          "base_uri": "https://localhost:8080/",
          "height": 209
        },
        "id": "PGZkN-s9IRy6",
        "outputId": "439d1dd1-54dc-4638-efe9-f412677f0efa"
      },
      "execution_count": null,
      "outputs": [
        {
          "output_type": "execute_result",
          "data": {
            "text/plain": [
              "Stock Index\n",
              "Dow Jones    3004.456447\n",
              "NASDAQ       2985.905015\n",
              "S&P 500      2955.286052\n",
              "Name: Close Price, dtype: float64"
            ],
            "text/html": [
              "<div>\n",
              "<style scoped>\n",
              "    .dataframe tbody tr th:only-of-type {\n",
              "        vertical-align: middle;\n",
              "    }\n",
              "\n",
              "    .dataframe tbody tr th {\n",
              "        vertical-align: top;\n",
              "    }\n",
              "\n",
              "    .dataframe thead th {\n",
              "        text-align: right;\n",
              "    }\n",
              "</style>\n",
              "<table border=\"1\" class=\"dataframe\">\n",
              "  <thead>\n",
              "    <tr style=\"text-align: right;\">\n",
              "      <th></th>\n",
              "      <th>Close Price</th>\n",
              "    </tr>\n",
              "    <tr>\n",
              "      <th>Stock Index</th>\n",
              "      <th></th>\n",
              "    </tr>\n",
              "  </thead>\n",
              "  <tbody>\n",
              "    <tr>\n",
              "      <th>Dow Jones</th>\n",
              "      <td>3004.456447</td>\n",
              "    </tr>\n",
              "    <tr>\n",
              "      <th>NASDAQ</th>\n",
              "      <td>2985.905015</td>\n",
              "    </tr>\n",
              "    <tr>\n",
              "      <th>S&amp;P 500</th>\n",
              "      <td>2955.286052</td>\n",
              "    </tr>\n",
              "  </tbody>\n",
              "</table>\n",
              "</div><br><label><b>dtype:</b> float64</label>"
            ]
          },
          "metadata": {},
          "execution_count": 23
        }
      ]
    },
    {
      "cell_type": "code",
      "source": [
        "# 12. What is the relationship between interest rate and unemployment?\n",
        "int_unemp_corr = data['Interest Rate (%)'].corr(data['Unemployment Rate (%)'])\n",
        "int_unemp_corr"
      ],
      "metadata": {
        "colab": {
          "base_uri": "https://localhost:8080/"
        },
        "id": "J-MwAeJfIR2e",
        "outputId": "b19b9d51-3ca2-4b63-b93d-eae1a00f0659"
      },
      "execution_count": null,
      "outputs": [
        {
          "output_type": "execute_result",
          "data": {
            "text/plain": [
              "np.float64(0.01800407213097277)"
            ]
          },
          "metadata": {},
          "execution_count": 24
        }
      ]
    },
    {
      "cell_type": "code",
      "source": [
        "# 13. Do lower consumer confidence values coincide with higher bankruptcy rates?\n",
        "conf_bankruptcy_corr = data['Consumer Confidence Index'].corr(data['Bankruptcy Rate (%)'])\n",
        "conf_bankruptcy_corr"
      ],
      "metadata": {
        "colab": {
          "base_uri": "https://localhost:8080/"
        },
        "id": "df2pArsQIR6V",
        "outputId": "14c272db-1de3-4c57-d382-71f7a33fdc6b"
      },
      "execution_count": null,
      "outputs": [
        {
          "output_type": "execute_result",
          "data": {
            "text/plain": [
              "np.float64(-0.01631304347909408)"
            ]
          },
          "metadata": {},
          "execution_count": 25
        }
      ]
    },
    {
      "cell_type": "code",
      "source": [
        "# 14. Which indicator has the highest correlation with stock close price?\n",
        "corrs = data.corr(numeric_only=True)['Close Price'].sort_values(key=lambda x: abs(x), ascending=False)\n",
        "corrs"
      ],
      "metadata": {
        "colab": {
          "base_uri": "https://localhost:8080/",
          "height": 836
        },
        "id": "TWV10-INIR-Q",
        "outputId": "68692e36-ef5b-4fe2-cc17-bd4589f46863"
      },
      "execution_count": null,
      "outputs": [
        {
          "output_type": "execute_result",
          "data": {
            "text/plain": [
              "Close Price                              1.000000\n",
              "Daily High                               0.999821\n",
              "Daily Low                                0.999820\n",
              "Open Price                               0.999688\n",
              "Retail Sales (Billion USD)               0.049370\n",
              "Retail Sales Growth (%)                  0.031986\n",
              "Forex USD/EUR                           -0.029384\n",
              "Bankruptcy Rate (%)                      0.029380\n",
              "Market Change %                          0.028741\n",
              "Venture Capital Funding (Billion USD)    0.021414\n",
              "Interest Rate (%)                        0.020434\n",
              "Trading Volume                           0.016283\n",
              "Forex USD/JPY                           -0.016012\n",
              "Gold Price (USD per Ounce)              -0.014544\n",
              "Consumer Confidence Index                0.013482\n",
              "GDP Growth (%)                          -0.012748\n",
              "Corporate Profits (Billion USD)          0.008797\n",
              "Real Estate Index                       -0.008639\n",
              "Inflation Rate (%)                      -0.007972\n",
              "Government Debt (Billion USD)           -0.007332\n",
              "Mergers & Acquisitions Deals             0.002637\n",
              "Crude Oil Price (USD per Barrel)         0.002563\n",
              "Unemployment Rate (%)                   -0.001907\n",
              "Consumer Spending (Billion USD)          0.000376\n",
              "Name: Close Price, dtype: float64"
            ],
            "text/html": [
              "<div>\n",
              "<style scoped>\n",
              "    .dataframe tbody tr th:only-of-type {\n",
              "        vertical-align: middle;\n",
              "    }\n",
              "\n",
              "    .dataframe tbody tr th {\n",
              "        vertical-align: top;\n",
              "    }\n",
              "\n",
              "    .dataframe thead th {\n",
              "        text-align: right;\n",
              "    }\n",
              "</style>\n",
              "<table border=\"1\" class=\"dataframe\">\n",
              "  <thead>\n",
              "    <tr style=\"text-align: right;\">\n",
              "      <th></th>\n",
              "      <th>Close Price</th>\n",
              "    </tr>\n",
              "  </thead>\n",
              "  <tbody>\n",
              "    <tr>\n",
              "      <th>Close Price</th>\n",
              "      <td>1.000000</td>\n",
              "    </tr>\n",
              "    <tr>\n",
              "      <th>Daily High</th>\n",
              "      <td>0.999821</td>\n",
              "    </tr>\n",
              "    <tr>\n",
              "      <th>Daily Low</th>\n",
              "      <td>0.999820</td>\n",
              "    </tr>\n",
              "    <tr>\n",
              "      <th>Open Price</th>\n",
              "      <td>0.999688</td>\n",
              "    </tr>\n",
              "    <tr>\n",
              "      <th>Retail Sales (Billion USD)</th>\n",
              "      <td>0.049370</td>\n",
              "    </tr>\n",
              "    <tr>\n",
              "      <th>Retail Sales Growth (%)</th>\n",
              "      <td>0.031986</td>\n",
              "    </tr>\n",
              "    <tr>\n",
              "      <th>Forex USD/EUR</th>\n",
              "      <td>-0.029384</td>\n",
              "    </tr>\n",
              "    <tr>\n",
              "      <th>Bankruptcy Rate (%)</th>\n",
              "      <td>0.029380</td>\n",
              "    </tr>\n",
              "    <tr>\n",
              "      <th>Market Change %</th>\n",
              "      <td>0.028741</td>\n",
              "    </tr>\n",
              "    <tr>\n",
              "      <th>Venture Capital Funding (Billion USD)</th>\n",
              "      <td>0.021414</td>\n",
              "    </tr>\n",
              "    <tr>\n",
              "      <th>Interest Rate (%)</th>\n",
              "      <td>0.020434</td>\n",
              "    </tr>\n",
              "    <tr>\n",
              "      <th>Trading Volume</th>\n",
              "      <td>0.016283</td>\n",
              "    </tr>\n",
              "    <tr>\n",
              "      <th>Forex USD/JPY</th>\n",
              "      <td>-0.016012</td>\n",
              "    </tr>\n",
              "    <tr>\n",
              "      <th>Gold Price (USD per Ounce)</th>\n",
              "      <td>-0.014544</td>\n",
              "    </tr>\n",
              "    <tr>\n",
              "      <th>Consumer Confidence Index</th>\n",
              "      <td>0.013482</td>\n",
              "    </tr>\n",
              "    <tr>\n",
              "      <th>GDP Growth (%)</th>\n",
              "      <td>-0.012748</td>\n",
              "    </tr>\n",
              "    <tr>\n",
              "      <th>Corporate Profits (Billion USD)</th>\n",
              "      <td>0.008797</td>\n",
              "    </tr>\n",
              "    <tr>\n",
              "      <th>Real Estate Index</th>\n",
              "      <td>-0.008639</td>\n",
              "    </tr>\n",
              "    <tr>\n",
              "      <th>Inflation Rate (%)</th>\n",
              "      <td>-0.007972</td>\n",
              "    </tr>\n",
              "    <tr>\n",
              "      <th>Government Debt (Billion USD)</th>\n",
              "      <td>-0.007332</td>\n",
              "    </tr>\n",
              "    <tr>\n",
              "      <th>Mergers &amp; Acquisitions Deals</th>\n",
              "      <td>0.002637</td>\n",
              "    </tr>\n",
              "    <tr>\n",
              "      <th>Crude Oil Price (USD per Barrel)</th>\n",
              "      <td>0.002563</td>\n",
              "    </tr>\n",
              "    <tr>\n",
              "      <th>Unemployment Rate (%)</th>\n",
              "      <td>-0.001907</td>\n",
              "    </tr>\n",
              "    <tr>\n",
              "      <th>Consumer Spending (Billion USD)</th>\n",
              "      <td>0.000376</td>\n",
              "    </tr>\n",
              "  </tbody>\n",
              "</table>\n",
              "</div><br><label><b>dtype:</b> float64</label>"
            ]
          },
          "metadata": {},
          "execution_count": 26
        }
      ]
    },
    {
      "cell_type": "code",
      "source": [
        "# 15. Are unemployment rates lower when corporate profits are high?\n",
        "corr_unemp_corp = data['Unemployment Rate (%)'].corr(data['Corporate Profits (Billion USD)'])\n",
        "corr_unemp_corp"
      ],
      "metadata": {
        "colab": {
          "base_uri": "https://localhost:8080/"
        },
        "id": "78C7AVirISB_",
        "outputId": "084c13b0-e055-43a7-f8e5-b8a6b68dc6f8"
      },
      "execution_count": null,
      "outputs": [
        {
          "output_type": "execute_result",
          "data": {
            "text/plain": [
              "np.float64(0.008292414188235562)"
            ]
          },
          "metadata": {},
          "execution_count": 28
        }
      ]
    },
    {
      "cell_type": "markdown",
      "source": [
        "**Assessment 2: Retail Sales Analysis**"
      ],
      "metadata": {
        "id": "bb19b7vVM91M"
      }
    },
    {
      "cell_type": "code",
      "source": [
        "import pandas as pd\n",
        "import numpy as np\n",
        "import matplotlib.pyplot as plt\n",
        "import seaborn as sns\n"
      ],
      "metadata": {
        "id": "vlaDXU5jObNn"
      },
      "execution_count": null,
      "outputs": []
    },
    {
      "cell_type": "code",
      "source": [
        "df = pd.read_csv(\"/content/Retail Data.csv\")\n",
        "df"
      ],
      "metadata": {
        "colab": {
          "base_uri": "https://localhost:8080/",
          "height": 860
        },
        "id": "Lf5tQ3Rq3PPh",
        "outputId": "83225c26-be28-4e48-9b2c-63764b539902"
      },
      "execution_count": null,
      "outputs": [
        {
          "output_type": "execute_result",
          "data": {
            "text/plain": [
              "     Order No  Order Date           Customer Name  \\\n",
              "0      4293-1  02-09-2014        Vivek Sundaresam   \n",
              "1      5001-1  24-10-2015          Shahid Hopkins   \n",
              "2      5004-1  13-03-2014           Dennis Pardue   \n",
              "3      5009-1  18-02-2013              Sean Wendt   \n",
              "4      5010-1  13-09-2014  Christina Vanderzanden   \n",
              "...       ...         ...                     ...   \n",
              "4995   6831-1  02-11-2016           Roland Murray   \n",
              "4996   6847-1  16-12-2015          Patrick OBrill   \n",
              "4997   6922-1  28-09-2016            Troy Staebel   \n",
              "4998   6939-1  18-06-2016             Shaun Weien   \n",
              "4999   6980-1  12-08-2015          Nora Pelletier   \n",
              "\n",
              "                                  Address       City State   Customer Type  \\\n",
              "0          152 Bunnerong Road,Eastgardens     Sydney   NSW  Small Business   \n",
              "1           438 Victoria Avenue,Chatswood     Sydney   NSW       Corporate   \n",
              "2                412 Brunswick St,Fitzroy  Melbourne   VIC        Consumer   \n",
              "3                145 Ramsay St,Haberfield     Sydney   NSW  Small Business   \n",
              "4                  188 Pitt Street,Sydney     Sydney   NSW  Small Business   \n",
              "...                                   ...        ...   ...             ...   \n",
              "4995        438 Victoria Avenue,Chatswood     Sydney   NSW       Corporate   \n",
              "4996        63 Riley Street,Woolloomooloo     Sydney   NSW  Small Business   \n",
              "4997             1-2/299 Sussex St,Sydney     Sydney   NSW        Consumer   \n",
              "4998          Shop 3/144 Wattle St,Ultimo     Sydney   NSW       Corporate   \n",
              "4999  5/250 Old Northern Road,Castle Hill     Sydney   NSW        Consumer   \n",
              "\n",
              "         Account Manager Order Priority  \\\n",
              "0           Tina Carlton       Critical   \n",
              "1           Natasha Song         Medium   \n",
              "2           Connor Betts  Not Specified   \n",
              "3            Phoebe Gour       Critical   \n",
              "4           Tina Carlton  Not Specified   \n",
              "...                  ...            ...   \n",
              "4995        Natasha Song       Critical   \n",
              "4996        Tina Carlton  Not Specified   \n",
              "4997         Aanya Zhang            Low   \n",
              "4998     Samantha Chairs  Not Specified   \n",
              "4999  Nicholas Fernandes            Low   \n",
              "\n",
              "                                        Product Name  ... Cost Price  \\\n",
              "0     UGen Ultra Professional Cordless Optical Suite  ...    $156.50   \n",
              "1                                Bagged Rubber Bands  ...      $0.24   \n",
              "2                    TechSavi Cordless Navigator Duo  ...     $42.11   \n",
              "3      Artisan Printable Repositionable Plastic Tabs  ...      $5.33   \n",
              "4                          Pizazz Drawing Pencil Set  ...      $1.53   \n",
              "...                                              ...  ...        ...   \n",
              "4995        Artisan Hi-Liter Smear-Safe Highlighters  ...      $2.98   \n",
              "4996            Smiths Colored Interoffice Envelopes  ...     $19.83   \n",
              "4997                             Laser DVD-RAM discs  ...     $20.18   \n",
              "4998                              Artisan 479 Labels  ...      $1.59   \n",
              "4999                                    Binder Posts  ...      $3.50   \n",
              "\n",
              "     Retail Price Profit Margin Order Quantity  Sub Total Discount %  \\\n",
              "0         $300.97       $144.47           23.0  $4,533.52         2%   \n",
              "1           $1.26         $1.02            8.0     $45.20         3%   \n",
              "2          $80.98        $38.87           45.0    $873.32         4%   \n",
              "3           $8.60         $3.27           16.0     $73.52         1%   \n",
              "4           $2.78         $1.25           49.0    $138.46         7%   \n",
              "...           ...           ...            ...        ...        ...   \n",
              "4995        $5.84         $2.86           35.0    $115.40         2%   \n",
              "4996       $30.98        $11.15           49.0  $1,999.69         7%   \n",
              "4997       $35.41        $15.23           19.0    $929.40         9%   \n",
              "4998        $2.61         $1.02           23.0     $66.54         5%   \n",
              "4999        $5.74         $2.24           31.0    $213.34         0%   \n",
              "\n",
              "     Discount $  Order Total Shipping Cost      Total  \n",
              "0       $194.83    $4,757.22         $7.18  $4,291.55  \n",
              "1         $0.00       $45.90         $0.70     $46.91  \n",
              "2        $72.23      $837.57         $7.18     $82.58  \n",
              "3         $4.35      $740.67         $6.19    $730.92  \n",
              "4         $5.95      $123.77         $1.34    $125.97  \n",
              "...         ...          ...           ...        ...  \n",
              "4995     $10.81      $104.09         $0.83    $101.22  \n",
              "4996    $143.91    $1,947.75        $19.51  $1,052.55  \n",
              "4997     $27.88      $901.52         $1.99    $921.03  \n",
              "4998      $4.46       $63.77         $0.50     $64.27  \n",
              "4999      $4.67      $216.51         $5.01    $221.52  \n",
              "\n",
              "[5000 rows x 24 columns]"
            ],
            "text/html": [
              "\n",
              "  <div id=\"df-0bcb8ece-c49d-4569-ac59-d1b9b84a527c\" class=\"colab-df-container\">\n",
              "    <div>\n",
              "<style scoped>\n",
              "    .dataframe tbody tr th:only-of-type {\n",
              "        vertical-align: middle;\n",
              "    }\n",
              "\n",
              "    .dataframe tbody tr th {\n",
              "        vertical-align: top;\n",
              "    }\n",
              "\n",
              "    .dataframe thead th {\n",
              "        text-align: right;\n",
              "    }\n",
              "</style>\n",
              "<table border=\"1\" class=\"dataframe\">\n",
              "  <thead>\n",
              "    <tr style=\"text-align: right;\">\n",
              "      <th></th>\n",
              "      <th>Order No</th>\n",
              "      <th>Order Date</th>\n",
              "      <th>Customer Name</th>\n",
              "      <th>Address</th>\n",
              "      <th>City</th>\n",
              "      <th>State</th>\n",
              "      <th>Customer Type</th>\n",
              "      <th>Account Manager</th>\n",
              "      <th>Order Priority</th>\n",
              "      <th>Product Name</th>\n",
              "      <th>...</th>\n",
              "      <th>Cost Price</th>\n",
              "      <th>Retail Price</th>\n",
              "      <th>Profit Margin</th>\n",
              "      <th>Order Quantity</th>\n",
              "      <th>Sub Total</th>\n",
              "      <th>Discount %</th>\n",
              "      <th>Discount $</th>\n",
              "      <th>Order Total</th>\n",
              "      <th>Shipping Cost</th>\n",
              "      <th>Total</th>\n",
              "    </tr>\n",
              "  </thead>\n",
              "  <tbody>\n",
              "    <tr>\n",
              "      <th>0</th>\n",
              "      <td>4293-1</td>\n",
              "      <td>02-09-2014</td>\n",
              "      <td>Vivek Sundaresam</td>\n",
              "      <td>152 Bunnerong Road,Eastgardens</td>\n",
              "      <td>Sydney</td>\n",
              "      <td>NSW</td>\n",
              "      <td>Small Business</td>\n",
              "      <td>Tina Carlton</td>\n",
              "      <td>Critical</td>\n",
              "      <td>UGen Ultra Professional Cordless Optical Suite</td>\n",
              "      <td>...</td>\n",
              "      <td>$156.50</td>\n",
              "      <td>$300.97</td>\n",
              "      <td>$144.47</td>\n",
              "      <td>23.0</td>\n",
              "      <td>$4,533.52</td>\n",
              "      <td>2%</td>\n",
              "      <td>$194.83</td>\n",
              "      <td>$4,757.22</td>\n",
              "      <td>$7.18</td>\n",
              "      <td>$4,291.55</td>\n",
              "    </tr>\n",
              "    <tr>\n",
              "      <th>1</th>\n",
              "      <td>5001-1</td>\n",
              "      <td>24-10-2015</td>\n",
              "      <td>Shahid Hopkins</td>\n",
              "      <td>438 Victoria Avenue,Chatswood</td>\n",
              "      <td>Sydney</td>\n",
              "      <td>NSW</td>\n",
              "      <td>Corporate</td>\n",
              "      <td>Natasha Song</td>\n",
              "      <td>Medium</td>\n",
              "      <td>Bagged Rubber Bands</td>\n",
              "      <td>...</td>\n",
              "      <td>$0.24</td>\n",
              "      <td>$1.26</td>\n",
              "      <td>$1.02</td>\n",
              "      <td>8.0</td>\n",
              "      <td>$45.20</td>\n",
              "      <td>3%</td>\n",
              "      <td>$0.00</td>\n",
              "      <td>$45.90</td>\n",
              "      <td>$0.70</td>\n",
              "      <td>$46.91</td>\n",
              "    </tr>\n",
              "    <tr>\n",
              "      <th>2</th>\n",
              "      <td>5004-1</td>\n",
              "      <td>13-03-2014</td>\n",
              "      <td>Dennis Pardue</td>\n",
              "      <td>412 Brunswick St,Fitzroy</td>\n",
              "      <td>Melbourne</td>\n",
              "      <td>VIC</td>\n",
              "      <td>Consumer</td>\n",
              "      <td>Connor Betts</td>\n",
              "      <td>Not Specified</td>\n",
              "      <td>TechSavi Cordless Navigator Duo</td>\n",
              "      <td>...</td>\n",
              "      <td>$42.11</td>\n",
              "      <td>$80.98</td>\n",
              "      <td>$38.87</td>\n",
              "      <td>45.0</td>\n",
              "      <td>$873.32</td>\n",
              "      <td>4%</td>\n",
              "      <td>$72.23</td>\n",
              "      <td>$837.57</td>\n",
              "      <td>$7.18</td>\n",
              "      <td>$82.58</td>\n",
              "    </tr>\n",
              "    <tr>\n",
              "      <th>3</th>\n",
              "      <td>5009-1</td>\n",
              "      <td>18-02-2013</td>\n",
              "      <td>Sean Wendt</td>\n",
              "      <td>145 Ramsay St,Haberfield</td>\n",
              "      <td>Sydney</td>\n",
              "      <td>NSW</td>\n",
              "      <td>Small Business</td>\n",
              "      <td>Phoebe Gour</td>\n",
              "      <td>Critical</td>\n",
              "      <td>Artisan Printable Repositionable Plastic Tabs</td>\n",
              "      <td>...</td>\n",
              "      <td>$5.33</td>\n",
              "      <td>$8.60</td>\n",
              "      <td>$3.27</td>\n",
              "      <td>16.0</td>\n",
              "      <td>$73.52</td>\n",
              "      <td>1%</td>\n",
              "      <td>$4.35</td>\n",
              "      <td>$740.67</td>\n",
              "      <td>$6.19</td>\n",
              "      <td>$730.92</td>\n",
              "    </tr>\n",
              "    <tr>\n",
              "      <th>4</th>\n",
              "      <td>5010-1</td>\n",
              "      <td>13-09-2014</td>\n",
              "      <td>Christina Vanderzanden</td>\n",
              "      <td>188 Pitt Street,Sydney</td>\n",
              "      <td>Sydney</td>\n",
              "      <td>NSW</td>\n",
              "      <td>Small Business</td>\n",
              "      <td>Tina Carlton</td>\n",
              "      <td>Not Specified</td>\n",
              "      <td>Pizazz Drawing Pencil Set</td>\n",
              "      <td>...</td>\n",
              "      <td>$1.53</td>\n",
              "      <td>$2.78</td>\n",
              "      <td>$1.25</td>\n",
              "      <td>49.0</td>\n",
              "      <td>$138.46</td>\n",
              "      <td>7%</td>\n",
              "      <td>$5.95</td>\n",
              "      <td>$123.77</td>\n",
              "      <td>$1.34</td>\n",
              "      <td>$125.97</td>\n",
              "    </tr>\n",
              "    <tr>\n",
              "      <th>...</th>\n",
              "      <td>...</td>\n",
              "      <td>...</td>\n",
              "      <td>...</td>\n",
              "      <td>...</td>\n",
              "      <td>...</td>\n",
              "      <td>...</td>\n",
              "      <td>...</td>\n",
              "      <td>...</td>\n",
              "      <td>...</td>\n",
              "      <td>...</td>\n",
              "      <td>...</td>\n",
              "      <td>...</td>\n",
              "      <td>...</td>\n",
              "      <td>...</td>\n",
              "      <td>...</td>\n",
              "      <td>...</td>\n",
              "      <td>...</td>\n",
              "      <td>...</td>\n",
              "      <td>...</td>\n",
              "      <td>...</td>\n",
              "      <td>...</td>\n",
              "    </tr>\n",
              "    <tr>\n",
              "      <th>4995</th>\n",
              "      <td>6831-1</td>\n",
              "      <td>02-11-2016</td>\n",
              "      <td>Roland Murray</td>\n",
              "      <td>438 Victoria Avenue,Chatswood</td>\n",
              "      <td>Sydney</td>\n",
              "      <td>NSW</td>\n",
              "      <td>Corporate</td>\n",
              "      <td>Natasha Song</td>\n",
              "      <td>Critical</td>\n",
              "      <td>Artisan Hi-Liter Smear-Safe Highlighters</td>\n",
              "      <td>...</td>\n",
              "      <td>$2.98</td>\n",
              "      <td>$5.84</td>\n",
              "      <td>$2.86</td>\n",
              "      <td>35.0</td>\n",
              "      <td>$115.40</td>\n",
              "      <td>2%</td>\n",
              "      <td>$10.81</td>\n",
              "      <td>$104.09</td>\n",
              "      <td>$0.83</td>\n",
              "      <td>$101.22</td>\n",
              "    </tr>\n",
              "    <tr>\n",
              "      <th>4996</th>\n",
              "      <td>6847-1</td>\n",
              "      <td>16-12-2015</td>\n",
              "      <td>Patrick OBrill</td>\n",
              "      <td>63 Riley Street,Woolloomooloo</td>\n",
              "      <td>Sydney</td>\n",
              "      <td>NSW</td>\n",
              "      <td>Small Business</td>\n",
              "      <td>Tina Carlton</td>\n",
              "      <td>Not Specified</td>\n",
              "      <td>Smiths Colored Interoffice Envelopes</td>\n",
              "      <td>...</td>\n",
              "      <td>$19.83</td>\n",
              "      <td>$30.98</td>\n",
              "      <td>$11.15</td>\n",
              "      <td>49.0</td>\n",
              "      <td>$1,999.69</td>\n",
              "      <td>7%</td>\n",
              "      <td>$143.91</td>\n",
              "      <td>$1,947.75</td>\n",
              "      <td>$19.51</td>\n",
              "      <td>$1,052.55</td>\n",
              "    </tr>\n",
              "    <tr>\n",
              "      <th>4997</th>\n",
              "      <td>6922-1</td>\n",
              "      <td>28-09-2016</td>\n",
              "      <td>Troy Staebel</td>\n",
              "      <td>1-2/299 Sussex St,Sydney</td>\n",
              "      <td>Sydney</td>\n",
              "      <td>NSW</td>\n",
              "      <td>Consumer</td>\n",
              "      <td>Aanya Zhang</td>\n",
              "      <td>Low</td>\n",
              "      <td>Laser DVD-RAM discs</td>\n",
              "      <td>...</td>\n",
              "      <td>$20.18</td>\n",
              "      <td>$35.41</td>\n",
              "      <td>$15.23</td>\n",
              "      <td>19.0</td>\n",
              "      <td>$929.40</td>\n",
              "      <td>9%</td>\n",
              "      <td>$27.88</td>\n",
              "      <td>$901.52</td>\n",
              "      <td>$1.99</td>\n",
              "      <td>$921.03</td>\n",
              "    </tr>\n",
              "    <tr>\n",
              "      <th>4998</th>\n",
              "      <td>6939-1</td>\n",
              "      <td>18-06-2016</td>\n",
              "      <td>Shaun Weien</td>\n",
              "      <td>Shop 3/144 Wattle St,Ultimo</td>\n",
              "      <td>Sydney</td>\n",
              "      <td>NSW</td>\n",
              "      <td>Corporate</td>\n",
              "      <td>Samantha Chairs</td>\n",
              "      <td>Not Specified</td>\n",
              "      <td>Artisan 479 Labels</td>\n",
              "      <td>...</td>\n",
              "      <td>$1.59</td>\n",
              "      <td>$2.61</td>\n",
              "      <td>$1.02</td>\n",
              "      <td>23.0</td>\n",
              "      <td>$66.54</td>\n",
              "      <td>5%</td>\n",
              "      <td>$4.46</td>\n",
              "      <td>$63.77</td>\n",
              "      <td>$0.50</td>\n",
              "      <td>$64.27</td>\n",
              "    </tr>\n",
              "    <tr>\n",
              "      <th>4999</th>\n",
              "      <td>6980-1</td>\n",
              "      <td>12-08-2015</td>\n",
              "      <td>Nora Pelletier</td>\n",
              "      <td>5/250 Old Northern Road,Castle Hill</td>\n",
              "      <td>Sydney</td>\n",
              "      <td>NSW</td>\n",
              "      <td>Consumer</td>\n",
              "      <td>Nicholas Fernandes</td>\n",
              "      <td>Low</td>\n",
              "      <td>Binder Posts</td>\n",
              "      <td>...</td>\n",
              "      <td>$3.50</td>\n",
              "      <td>$5.74</td>\n",
              "      <td>$2.24</td>\n",
              "      <td>31.0</td>\n",
              "      <td>$213.34</td>\n",
              "      <td>0%</td>\n",
              "      <td>$4.67</td>\n",
              "      <td>$216.51</td>\n",
              "      <td>$5.01</td>\n",
              "      <td>$221.52</td>\n",
              "    </tr>\n",
              "  </tbody>\n",
              "</table>\n",
              "<p>5000 rows × 24 columns</p>\n",
              "</div>\n",
              "    <div class=\"colab-df-buttons\">\n",
              "\n",
              "  <div class=\"colab-df-container\">\n",
              "    <button class=\"colab-df-convert\" onclick=\"convertToInteractive('df-0bcb8ece-c49d-4569-ac59-d1b9b84a527c')\"\n",
              "            title=\"Convert this dataframe to an interactive table.\"\n",
              "            style=\"display:none;\">\n",
              "\n",
              "  <svg xmlns=\"http://www.w3.org/2000/svg\" height=\"24px\" viewBox=\"0 -960 960 960\">\n",
              "    <path d=\"M120-120v-720h720v720H120Zm60-500h600v-160H180v160Zm220 220h160v-160H400v160Zm0 220h160v-160H400v160ZM180-400h160v-160H180v160Zm440 0h160v-160H620v160ZM180-180h160v-160H180v160Zm440 0h160v-160H620v160Z\"/>\n",
              "  </svg>\n",
              "    </button>\n",
              "\n",
              "  <style>\n",
              "    .colab-df-container {\n",
              "      display:flex;\n",
              "      gap: 12px;\n",
              "    }\n",
              "\n",
              "    .colab-df-convert {\n",
              "      background-color: #E8F0FE;\n",
              "      border: none;\n",
              "      border-radius: 50%;\n",
              "      cursor: pointer;\n",
              "      display: none;\n",
              "      fill: #1967D2;\n",
              "      height: 32px;\n",
              "      padding: 0 0 0 0;\n",
              "      width: 32px;\n",
              "    }\n",
              "\n",
              "    .colab-df-convert:hover {\n",
              "      background-color: #E2EBFA;\n",
              "      box-shadow: 0px 1px 2px rgba(60, 64, 67, 0.3), 0px 1px 3px 1px rgba(60, 64, 67, 0.15);\n",
              "      fill: #174EA6;\n",
              "    }\n",
              "\n",
              "    .colab-df-buttons div {\n",
              "      margin-bottom: 4px;\n",
              "    }\n",
              "\n",
              "    [theme=dark] .colab-df-convert {\n",
              "      background-color: #3B4455;\n",
              "      fill: #D2E3FC;\n",
              "    }\n",
              "\n",
              "    [theme=dark] .colab-df-convert:hover {\n",
              "      background-color: #434B5C;\n",
              "      box-shadow: 0px 1px 3px 1px rgba(0, 0, 0, 0.15);\n",
              "      filter: drop-shadow(0px 1px 2px rgba(0, 0, 0, 0.3));\n",
              "      fill: #FFFFFF;\n",
              "    }\n",
              "  </style>\n",
              "\n",
              "    <script>\n",
              "      const buttonEl =\n",
              "        document.querySelector('#df-0bcb8ece-c49d-4569-ac59-d1b9b84a527c button.colab-df-convert');\n",
              "      buttonEl.style.display =\n",
              "        google.colab.kernel.accessAllowed ? 'block' : 'none';\n",
              "\n",
              "      async function convertToInteractive(key) {\n",
              "        const element = document.querySelector('#df-0bcb8ece-c49d-4569-ac59-d1b9b84a527c');\n",
              "        const dataTable =\n",
              "          await google.colab.kernel.invokeFunction('convertToInteractive',\n",
              "                                                    [key], {});\n",
              "        if (!dataTable) return;\n",
              "\n",
              "        const docLinkHtml = 'Like what you see? Visit the ' +\n",
              "          '<a target=\"_blank\" href=https://colab.research.google.com/notebooks/data_table.ipynb>data table notebook</a>'\n",
              "          + ' to learn more about interactive tables.';\n",
              "        element.innerHTML = '';\n",
              "        dataTable['output_type'] = 'display_data';\n",
              "        await google.colab.output.renderOutput(dataTable, element);\n",
              "        const docLink = document.createElement('div');\n",
              "        docLink.innerHTML = docLinkHtml;\n",
              "        element.appendChild(docLink);\n",
              "      }\n",
              "    </script>\n",
              "  </div>\n",
              "\n",
              "\n",
              "    <div id=\"df-e04c9dec-8e13-47cf-a624-8b892204c937\">\n",
              "      <button class=\"colab-df-quickchart\" onclick=\"quickchart('df-e04c9dec-8e13-47cf-a624-8b892204c937')\"\n",
              "                title=\"Suggest charts\"\n",
              "                style=\"display:none;\">\n",
              "\n",
              "<svg xmlns=\"http://www.w3.org/2000/svg\" height=\"24px\"viewBox=\"0 0 24 24\"\n",
              "     width=\"24px\">\n",
              "    <g>\n",
              "        <path d=\"M19 3H5c-1.1 0-2 .9-2 2v14c0 1.1.9 2 2 2h14c1.1 0 2-.9 2-2V5c0-1.1-.9-2-2-2zM9 17H7v-7h2v7zm4 0h-2V7h2v10zm4 0h-2v-4h2v4z\"/>\n",
              "    </g>\n",
              "</svg>\n",
              "      </button>\n",
              "\n",
              "<style>\n",
              "  .colab-df-quickchart {\n",
              "      --bg-color: #E8F0FE;\n",
              "      --fill-color: #1967D2;\n",
              "      --hover-bg-color: #E2EBFA;\n",
              "      --hover-fill-color: #174EA6;\n",
              "      --disabled-fill-color: #AAA;\n",
              "      --disabled-bg-color: #DDD;\n",
              "  }\n",
              "\n",
              "  [theme=dark] .colab-df-quickchart {\n",
              "      --bg-color: #3B4455;\n",
              "      --fill-color: #D2E3FC;\n",
              "      --hover-bg-color: #434B5C;\n",
              "      --hover-fill-color: #FFFFFF;\n",
              "      --disabled-bg-color: #3B4455;\n",
              "      --disabled-fill-color: #666;\n",
              "  }\n",
              "\n",
              "  .colab-df-quickchart {\n",
              "    background-color: var(--bg-color);\n",
              "    border: none;\n",
              "    border-radius: 50%;\n",
              "    cursor: pointer;\n",
              "    display: none;\n",
              "    fill: var(--fill-color);\n",
              "    height: 32px;\n",
              "    padding: 0;\n",
              "    width: 32px;\n",
              "  }\n",
              "\n",
              "  .colab-df-quickchart:hover {\n",
              "    background-color: var(--hover-bg-color);\n",
              "    box-shadow: 0 1px 2px rgba(60, 64, 67, 0.3), 0 1px 3px 1px rgba(60, 64, 67, 0.15);\n",
              "    fill: var(--button-hover-fill-color);\n",
              "  }\n",
              "\n",
              "  .colab-df-quickchart-complete:disabled,\n",
              "  .colab-df-quickchart-complete:disabled:hover {\n",
              "    background-color: var(--disabled-bg-color);\n",
              "    fill: var(--disabled-fill-color);\n",
              "    box-shadow: none;\n",
              "  }\n",
              "\n",
              "  .colab-df-spinner {\n",
              "    border: 2px solid var(--fill-color);\n",
              "    border-color: transparent;\n",
              "    border-bottom-color: var(--fill-color);\n",
              "    animation:\n",
              "      spin 1s steps(1) infinite;\n",
              "  }\n",
              "\n",
              "  @keyframes spin {\n",
              "    0% {\n",
              "      border-color: transparent;\n",
              "      border-bottom-color: var(--fill-color);\n",
              "      border-left-color: var(--fill-color);\n",
              "    }\n",
              "    20% {\n",
              "      border-color: transparent;\n",
              "      border-left-color: var(--fill-color);\n",
              "      border-top-color: var(--fill-color);\n",
              "    }\n",
              "    30% {\n",
              "      border-color: transparent;\n",
              "      border-left-color: var(--fill-color);\n",
              "      border-top-color: var(--fill-color);\n",
              "      border-right-color: var(--fill-color);\n",
              "    }\n",
              "    40% {\n",
              "      border-color: transparent;\n",
              "      border-right-color: var(--fill-color);\n",
              "      border-top-color: var(--fill-color);\n",
              "    }\n",
              "    60% {\n",
              "      border-color: transparent;\n",
              "      border-right-color: var(--fill-color);\n",
              "    }\n",
              "    80% {\n",
              "      border-color: transparent;\n",
              "      border-right-color: var(--fill-color);\n",
              "      border-bottom-color: var(--fill-color);\n",
              "    }\n",
              "    90% {\n",
              "      border-color: transparent;\n",
              "      border-bottom-color: var(--fill-color);\n",
              "    }\n",
              "  }\n",
              "</style>\n",
              "\n",
              "      <script>\n",
              "        async function quickchart(key) {\n",
              "          const quickchartButtonEl =\n",
              "            document.querySelector('#' + key + ' button');\n",
              "          quickchartButtonEl.disabled = true;  // To prevent multiple clicks.\n",
              "          quickchartButtonEl.classList.add('colab-df-spinner');\n",
              "          try {\n",
              "            const charts = await google.colab.kernel.invokeFunction(\n",
              "                'suggestCharts', [key], {});\n",
              "          } catch (error) {\n",
              "            console.error('Error during call to suggestCharts:', error);\n",
              "          }\n",
              "          quickchartButtonEl.classList.remove('colab-df-spinner');\n",
              "          quickchartButtonEl.classList.add('colab-df-quickchart-complete');\n",
              "        }\n",
              "        (() => {\n",
              "          let quickchartButtonEl =\n",
              "            document.querySelector('#df-e04c9dec-8e13-47cf-a624-8b892204c937 button');\n",
              "          quickchartButtonEl.style.display =\n",
              "            google.colab.kernel.accessAllowed ? 'block' : 'none';\n",
              "        })();\n",
              "      </script>\n",
              "    </div>\n",
              "\n",
              "  <div id=\"id_a0df42e8-9191-4257-9541-3b0058ca4280\">\n",
              "    <style>\n",
              "      .colab-df-generate {\n",
              "        background-color: #E8F0FE;\n",
              "        border: none;\n",
              "        border-radius: 50%;\n",
              "        cursor: pointer;\n",
              "        display: none;\n",
              "        fill: #1967D2;\n",
              "        height: 32px;\n",
              "        padding: 0 0 0 0;\n",
              "        width: 32px;\n",
              "      }\n",
              "\n",
              "      .colab-df-generate:hover {\n",
              "        background-color: #E2EBFA;\n",
              "        box-shadow: 0px 1px 2px rgba(60, 64, 67, 0.3), 0px 1px 3px 1px rgba(60, 64, 67, 0.15);\n",
              "        fill: #174EA6;\n",
              "      }\n",
              "\n",
              "      [theme=dark] .colab-df-generate {\n",
              "        background-color: #3B4455;\n",
              "        fill: #D2E3FC;\n",
              "      }\n",
              "\n",
              "      [theme=dark] .colab-df-generate:hover {\n",
              "        background-color: #434B5C;\n",
              "        box-shadow: 0px 1px 3px 1px rgba(0, 0, 0, 0.15);\n",
              "        filter: drop-shadow(0px 1px 2px rgba(0, 0, 0, 0.3));\n",
              "        fill: #FFFFFF;\n",
              "      }\n",
              "    </style>\n",
              "    <button class=\"colab-df-generate\" onclick=\"generateWithVariable('df')\"\n",
              "            title=\"Generate code using this dataframe.\"\n",
              "            style=\"display:none;\">\n",
              "\n",
              "  <svg xmlns=\"http://www.w3.org/2000/svg\" height=\"24px\"viewBox=\"0 0 24 24\"\n",
              "       width=\"24px\">\n",
              "    <path d=\"M7,19H8.4L18.45,9,17,7.55,7,17.6ZM5,21V16.75L18.45,3.32a2,2,0,0,1,2.83,0l1.4,1.43a1.91,1.91,0,0,1,.58,1.4,1.91,1.91,0,0,1-.58,1.4L9.25,21ZM18.45,9,17,7.55Zm-12,3A5.31,5.31,0,0,0,4.9,8.1,5.31,5.31,0,0,0,1,6.5,5.31,5.31,0,0,0,4.9,4.9,5.31,5.31,0,0,0,6.5,1,5.31,5.31,0,0,0,8.1,4.9,5.31,5.31,0,0,0,12,6.5,5.46,5.46,0,0,0,6.5,12Z\"/>\n",
              "  </svg>\n",
              "    </button>\n",
              "    <script>\n",
              "      (() => {\n",
              "      const buttonEl =\n",
              "        document.querySelector('#id_a0df42e8-9191-4257-9541-3b0058ca4280 button.colab-df-generate');\n",
              "      buttonEl.style.display =\n",
              "        google.colab.kernel.accessAllowed ? 'block' : 'none';\n",
              "\n",
              "      buttonEl.onclick = () => {\n",
              "        google.colab.notebook.generateWithVariable('df');\n",
              "      }\n",
              "      })();\n",
              "    </script>\n",
              "  </div>\n",
              "\n",
              "    </div>\n",
              "  </div>\n"
            ],
            "application/vnd.google.colaboratory.intrinsic+json": {
              "type": "dataframe",
              "variable_name": "df"
            }
          },
          "metadata": {},
          "execution_count": 3
        }
      ]
    },
    {
      "cell_type": "code",
      "source": [
        "# 1. View the structure of the dataset (columns, types, missing values)\n",
        "df.isnull().sum()\n",
        "df.info()\n"
      ],
      "metadata": {
        "colab": {
          "base_uri": "https://localhost:8080/"
        },
        "id": "G2yURezb3iPX",
        "outputId": "304f7b25-2cad-45db-caaf-0e45b61e75f2"
      },
      "execution_count": null,
      "outputs": [
        {
          "output_type": "stream",
          "name": "stdout",
          "text": [
            "<class 'pandas.core.frame.DataFrame'>\n",
            "RangeIndex: 5000 entries, 0 to 4999\n",
            "Data columns (total 24 columns):\n",
            " #   Column             Non-Null Count  Dtype  \n",
            "---  ------             --------------  -----  \n",
            " 0   Order No           5000 non-null   object \n",
            " 1   Order Date         5000 non-null   object \n",
            " 2   Customer Name      5000 non-null   object \n",
            " 3   Address            4999 non-null   object \n",
            " 4   City               5000 non-null   object \n",
            " 5   State              5000 non-null   object \n",
            " 6   Customer Type      5000 non-null   object \n",
            " 7   Account Manager    5000 non-null   object \n",
            " 8   Order Priority     5000 non-null   object \n",
            " 9   Product Name       5000 non-null   object \n",
            " 10  Product Category   5000 non-null   object \n",
            " 11  Product Container  5000 non-null   object \n",
            " 12  Ship Mode          5000 non-null   object \n",
            " 13  Ship Date          5000 non-null   object \n",
            " 14  Cost Price         5000 non-null   object \n",
            " 15  Retail Price       5000 non-null   object \n",
            " 16  Profit Margin      5000 non-null   object \n",
            " 17  Order Quantity     4999 non-null   float64\n",
            " 18  Sub Total          5000 non-null   object \n",
            " 19  Discount %         5000 non-null   object \n",
            " 20  Discount $         5000 non-null   object \n",
            " 21  Order Total        5000 non-null   object \n",
            " 22  Shipping Cost      5000 non-null   object \n",
            " 23  Total              5000 non-null   object \n",
            "dtypes: float64(1), object(23)\n",
            "memory usage: 937.6+ KB\n"
          ]
        }
      ]
    },
    {
      "cell_type": "code",
      "source": [
        "# 2. What is the shape (rows, columns) of the dataset?\n",
        "df.shape"
      ],
      "metadata": {
        "colab": {
          "base_uri": "https://localhost:8080/"
        },
        "id": "08j2S1dj3-xi",
        "outputId": "fbc621b7-48cf-4e39-ae46-61c8ba893b4f"
      },
      "execution_count": null,
      "outputs": [
        {
          "output_type": "execute_result",
          "data": {
            "text/plain": [
              "(5000, 24)"
            ]
          },
          "metadata": {},
          "execution_count": 7
        }
      ]
    },
    {
      "cell_type": "code",
      "source": [
        "# 3. Are there any duplicate records?\\\n",
        "df.duplicated().sum()"
      ],
      "metadata": {
        "colab": {
          "base_uri": "https://localhost:8080/"
        },
        "id": "eBsJND4R3-05",
        "outputId": "6bb94e94-db31-4e5a-d500-a7460cccadfd"
      },
      "execution_count": null,
      "outputs": [
        {
          "output_type": "execute_result",
          "data": {
            "text/plain": [
              "np.int64(0)"
            ]
          },
          "metadata": {},
          "execution_count": 8
        }
      ]
    },
    {
      "cell_type": "code",
      "source": [
        "# 4. Are there any missing or corrupted entries in Ship Date, Order Date, or numeric columns?\n",
        "date_cols = [c for c in df.columns if \"Date\" in c]\n",
        "num_cols = df.select_dtypes(include=[np.number]).columns.tolist()\n",
        "print(\"\\nNulls in Dates:\\n\", df[date_cols].isnull().sum())\n",
        "print(\"\\nNulls in Numeric:\\n\", df[num_cols].isnull().sum())"
      ],
      "metadata": {
        "id": "nmUjlHGA3-3j",
        "colab": {
          "base_uri": "https://localhost:8080/"
        },
        "outputId": "4c43eeed-00bd-4141-c164-59f4c3277c23"
      },
      "execution_count": null,
      "outputs": [
        {
          "output_type": "stream",
          "name": "stdout",
          "text": [
            "\n",
            "Nulls in Dates:\n",
            " Order Date    0\n",
            "Ship Date     0\n",
            "dtype: int64\n",
            "\n",
            "Nulls in Numeric:\n",
            " Order Quantity    1\n",
            "dtype: int64\n"
          ]
        }
      ]
    },
    {
      "cell_type": "code",
      "source": [
        "# 5. Convert Order Date and Ship Date to datetime.\n",
        "for col in date_cols:\n",
        "  df[col] = pd.to_datetime(df[col], errors=\"coerce\")"
      ],
      "metadata": {
        "id": "03yqgWfG3-6H"
      },
      "execution_count": null,
      "outputs": []
    },
    {
      "cell_type": "code",
      "source": [
        "# 6. Check for future or inconsistent shipping dates.\n",
        "if \"Order Date\" in df.columns and \"Ship Date\" in df.columns:\n",
        "  inconsistent = df[df[\"Ship Date\"] < df[\"Order Date\"]]\n",
        "  print(\"\\nInconsistent Ship Dates:\", inconsistent.shape[0])"
      ],
      "metadata": {
        "id": "sE20xXeM3-8_",
        "colab": {
          "base_uri": "https://localhost:8080/"
        },
        "outputId": "03534821-8db7-47f0-a25c-4c9afa372f3d"
      },
      "execution_count": null,
      "outputs": [
        {
          "output_type": "stream",
          "name": "stdout",
          "text": [
            "\n",
            "Inconsistent Ship Dates: 24\n"
          ]
        }
      ]
    },
    {
      "cell_type": "code",
      "source": [
        "# 7. Convert price columns to numeric (remove $ and commas).\n",
        "price_cols = [c for c in df.columns if \"Price\" in c or \"Cost\" in c or \"Revenue\" in c or \"Sales\" in c]\n",
        "for col in price_cols:\n",
        "    df[col] = df[col].astype(str).str.replace(r\"[$,]\", \"\", regex=True)\n",
        "    df[col] = pd.to_numeric(df[col], errors=\"coerce\")\n",
        "print(\"\\nConverted Price Columns:\", price_cols)"
      ],
      "metadata": {
        "id": "E-nc8tZK3-__",
        "colab": {
          "base_uri": "https://localhost:8080/"
        },
        "outputId": "b8e92b7d-b37e-4a26-daaf-f94050cfdf1d"
      },
      "execution_count": null,
      "outputs": [
        {
          "output_type": "stream",
          "name": "stdout",
          "text": [
            "\n",
            "Converted Price Columns: ['Cost Price', 'Retail Price', 'Shipping Cost']\n"
          ]
        }
      ]
    },
    {
      "cell_type": "code",
      "source": [
        "# 8. What are the unique values in Customer Type and Order Priority?\n",
        "if \"Customer Type\" in df.columns:\n",
        "  print(\"\\nUnique Customer Types:\", df[\"Customer Type\"].unique())\n",
        "if \"Order Priority\" in df.columns:\n",
        "  print(\"\\nUnique Order Priorities:\", df[\"Order Priority\"].unique())"
      ],
      "metadata": {
        "id": "Z00fEVJZ3_C7",
        "colab": {
          "base_uri": "https://localhost:8080/"
        },
        "outputId": "3b27fdb2-696f-4d36-ef88-7caa12547230"
      },
      "execution_count": null,
      "outputs": [
        {
          "output_type": "stream",
          "name": "stdout",
          "text": [
            "\n",
            "Unique Customer Types: ['Small Business' 'Corporate' 'Consumer' 'Home Office']\n",
            "\n",
            "Unique Order Priorities: ['Critical' 'Medium' 'Not Specified' 'Low' 'High']\n"
          ]
        }
      ]
    },
    {
      "cell_type": "code",
      "source": [
        "# 9. What are the most common shipping modes?\n",
        "if \"Ship Mode\" in df.columns:\n",
        "  print(\"\\nTop Shipping Modes:\\n\", df[\"Ship Mode\"].value_counts())"
      ],
      "metadata": {
        "id": "FKtzdQEY3_G1",
        "colab": {
          "base_uri": "https://localhost:8080/"
        },
        "outputId": "f88ea9b4-a950-404f-c513-ea9ac2cf60b8"
      },
      "execution_count": null,
      "outputs": [
        {
          "output_type": "stream",
          "name": "stdout",
          "text": [
            "\n",
            "Top Shipping Modes:\n",
            " Ship Mode\n",
            "Regular Air       4236\n",
            "Express Air        647\n",
            "Delivery Truck     117\n",
            "Name: count, dtype: int64\n"
          ]
        }
      ]
    },
    {
      "cell_type": "code",
      "source": [
        "# 10. Which cities have the highest number of orders?\n",
        "if \"City\" in df.columns:\n",
        "  print(\"\\nTop Cities by Orders:\\n\", df[\"City\"].value_counts().head(10))"
      ],
      "metadata": {
        "id": "8ju4_eiv3_KA",
        "colab": {
          "base_uri": "https://localhost:8080/"
        },
        "outputId": "f6b3f62a-520b-4d00-9950-4b8f0890cd64"
      },
      "execution_count": null,
      "outputs": [
        {
          "output_type": "stream",
          "name": "stdout",
          "text": [
            "\n",
            "Top Cities by Orders:\n",
            " City\n",
            "Sydney       3584\n",
            "Melbourne    1416\n",
            "Name: count, dtype: int64\n"
          ]
        }
      ]
    },
    {
      "cell_type": "code",
      "source": [
        "# 11. What’s the range of order quantities and prices?\n",
        "if \"Order Quantity\" in df.columns:\n",
        "  print(\"\\nOrder Quantity Range:\", df[\"Order Quantity\"].min(), \"-\", df[\"Order Quantity\"].max())\n",
        "for col in price_cols:\n",
        "  print(f\"{col} Range:\", df[col].min(), \"-\", df[col].max())\n"
      ],
      "metadata": {
        "id": "CZXXO1zC3_Nl",
        "colab": {
          "base_uri": "https://localhost:8080/"
        },
        "outputId": "a07745b6-781e-474e-cd38-24a228aa8fe5"
      },
      "execution_count": null,
      "outputs": [
        {
          "output_type": "stream",
          "name": "stdout",
          "text": [
            "\n",
            "Order Quantity Range: 1.0 - 50.0\n",
            "Cost Price Range: 0.24 - 377.99\n",
            "Retail Price Range: 1.14 - 599.99\n",
            "Shipping Cost Range: 0.49 - 69.3\n"
          ]
        }
      ]
    },
    {
      "cell_type": "code",
      "source": [
        "# 12. Create a new column for shipping duration.\n",
        "if \"Order Date\" in df.columns and \"Ship Date\" in df.columns:\n",
        "  df[\"Shipping Duration\"] = (df[\"Ship Date\"] - df[\"Order Date\"]).dt.days\n",
        "  print(\"\\nShipping Duration Summary:\\n\", df[\"Shipping Duration\"].describe())"
      ],
      "metadata": {
        "colab": {
          "base_uri": "https://localhost:8080/"
        },
        "id": "qEUeFbY9sM-k",
        "outputId": "f004f707-7176-458c-bd99-c966146cf4b5"
      },
      "execution_count": null,
      "outputs": [
        {
          "output_type": "stream",
          "name": "stdout",
          "text": [
            "\n",
            "Shipping Duration Summary:\n",
            " count    1537.000000\n",
            "mean       50.469746\n",
            "std        45.734435\n",
            "min      -335.000000\n",
            "25%        30.000000\n",
            "50%        59.000000\n",
            "75%        61.000000\n",
            "max       394.000000\n",
            "Name: Shipping Duration, dtype: float64\n"
          ]
        }
      ]
    },
    {
      "cell_type": "code",
      "source": [
        "# 13. Are there any orders with zero or negative total or quantity?\n",
        "if \"Order Quantity\" in df.columns:\n",
        "  print(\"\\nZero or Negative Quantities:\", (df[\"Order Quantity\"] <= 0).sum())\n",
        "if \"Sales\" in df.columns:\n",
        "  print(\"Zero or Negative Sales:\", (df[\"Sales\"] <= 0).sum())"
      ],
      "metadata": {
        "colab": {
          "base_uri": "https://localhost:8080/"
        },
        "id": "yOrLMj4QsNB-",
        "outputId": "6e19898c-443f-411b-8f52-ebf9cbb6f627"
      },
      "execution_count": null,
      "outputs": [
        {
          "output_type": "stream",
          "name": "stdout",
          "text": [
            "\n",
            "Zero or Negative Quantities: 0\n"
          ]
        }
      ]
    },
    {
      "cell_type": "code",
      "source": [
        "# 14. Are all discount percentages matching discount dollar amounts\n",
        "if \"Discount %\" in df.columns and \"Discount $\" in df.columns:\n",
        "  mismatches = np.sum(df[\"Discount %\"] != df[\"Discount $\"])\n",
        "  print(\"\\nTotal mismatches:\", mismatches)"
      ],
      "metadata": {
        "id": "YdqVPl0FsNFs",
        "colab": {
          "base_uri": "https://localhost:8080/"
        },
        "outputId": "a934ce01-bdd0-4f80-eea1-546dee65450e"
      },
      "execution_count": null,
      "outputs": [
        {
          "output_type": "stream",
          "name": "stdout",
          "text": [
            "\n",
            "Total mismatches: 5000\n"
          ]
        }
      ]
    },
    {
      "cell_type": "code",
      "source": [
        "# 15. Check for mismatches in total calculation’\n",
        "if \"Order Quantity\" in df.columns and \"Unit Price\" in df.columns and \"Sales\" in df.columns:\n",
        "  df[\"Expected Sales\"] = df[\"Order Quantity\"] * df[\"Unit Price\"]\n",
        "  mismatches = np.sum(~np.isclose(df[\"Sales\"], df[\"Expected Sales\"], atol=1e-2))\n",
        "  print(\"\\nTotal mismatches:\", mismatches)"
      ],
      "metadata": {
        "id": "afZJTkypsNIu"
      },
      "execution_count": null,
      "outputs": []
    },
    {
      "cell_type": "code",
      "source": [
        "# 16. Identify top 5 products by order quantity.\n",
        "if \"Product Name\" in df.columns and \"Order Quantity\" in df.columns:\n",
        "  print(\"\\nTop 5 Products by Quantity:\\n\",\n",
        "  df.groupby(\"Product Name\")[\"Order Quantity\"].sum().sort_values(ascending=False).head(5))\n"
      ],
      "metadata": {
        "colab": {
          "base_uri": "https://localhost:8080/"
        },
        "id": "7ZsG3QfFsNMH",
        "outputId": "67580f5b-19c7-4db0-c8b0-7638ba2f0a09"
      },
      "execution_count": null,
      "outputs": [
        {
          "output_type": "stream",
          "name": "stdout",
          "text": [
            "\n",
            "Top 5 Products by Quantity:\n",
            " Product Name\n",
            "Artisan 474 Labels                         3395.0\n",
            "Smiths General Use 3-Ring Binders          3220.0\n",
            "Artisan 479 Labels                         3039.0\n",
            "Artisan 481 Labels                         2996.0\n",
            "Apex Preferred Stainless Steel Scissors    2896.0\n",
            "Name: Order Quantity, dtype: float64\n"
          ]
        }
      ]
    },
    {
      "cell_type": "code",
      "source": [
        "# 17. Which Account Manager handled the most revenue?\n",
        "if \"Account Manager\" in df.columns and \"Sales\" in df.columns:\n",
        "  top_manager = df.groupby(\"Account Manager\")[\"Sales\"].sum().sort_values(ascending=False).head(1)\n",
        "  print(\"\\nTop Account Manager by Revenue:\\n\", top_manager)"
      ],
      "metadata": {
        "id": "p0Lw2-cFsbhl"
      },
      "execution_count": null,
      "outputs": []
    },
    {
      "cell_type": "code",
      "source": [
        "# 18. What is the average shipping cost by mode?\n",
        "if \"Ship Mode\" in df.columns and \"Shipping Cost\" in df.columns:\n",
        "  print(\"\\nAverage Shipping Cost by Mode:\\n\", df.groupby(\"Ship Mode\")[\"Shipping Cost\"].mean())"
      ],
      "metadata": {
        "colab": {
          "base_uri": "https://localhost:8080/"
        },
        "id": "FMlZrFKasbm2",
        "outputId": "6ddaf019-e070-4529-c9cc-290926b9374a"
      },
      "execution_count": null,
      "outputs": [
        {
          "output_type": "stream",
          "name": "stdout",
          "text": [
            "\n",
            "Average Shipping Cost by Mode:\n",
            " Ship Mode\n",
            "Delivery Truck    5.270085\n",
            "Express Air       5.247311\n",
            "Regular Air       5.503553\n",
            "Name: Shipping Cost, dtype: float64\n"
          ]
        }
      ]
    },
    {
      "cell_type": "code",
      "source": [
        "# 19. Find the most profitable product.\n",
        "if \"Product Name\" in df.columns and \"Profit\" in df.columns:\n",
        "  print(\"\\nMost Profitable Product:\\n\",\n",
        "        df.groupby(\"Product Name\")[\"Profit\"].sum().sort_values(ascending=False).head(1))"
      ],
      "metadata": {
        "id": "znPMx6S9sbxB"
      },
      "execution_count": null,
      "outputs": []
    },
    {
      "cell_type": "code",
      "source": [
        "# 20. Find the most profitable product.\n",
        "if \"Order Date\" in df.columns and \"Sales\" in df.columns:\n",
        "    plt.figure(figsize=(10,5))\n",
        "    df.groupby(\"Order Date\")[\"Sales\"].sum().plot()\n",
        "    plt.title(\"Sales Trend Over Time\")\n",
        "    plt.xlabel(\"Date\")\n",
        "    plt.ylabel(\"Sales\")\n",
        "    plt.show()"
      ],
      "metadata": {
        "id": "oOKelAVVsb4q"
      },
      "execution_count": null,
      "outputs": []
    },
    {
      "cell_type": "markdown",
      "source": [
        "**INSIGHTFUL ANALYSIS QUESTIONS**"
      ],
      "metadata": {
        "id": "jrsyZKWR2laI"
      }
    },
    {
      "cell_type": "code",
      "source": [
        "df[\"Total\"] = df[\"Total\"].astype(str).str.replace(r\"[\\$,]\", \"\", regex=True).astype(float)\n",
        "df[\"Profit Margin\"] = df[\"Profit Margin\"].astype(str).str.replace(r\"[\\$,]\", \"\", regex=True).astype(float)\n",
        "df[\"Discount_pct\"] = df[\"Discount %\"].astype(str).str.replace(r\"[\\%,]\", \"\", regex=True).astype(float)\n",
        "df[\"Discount_dollar\"] = df[\"Discount $\"].astype(str).str.replace(r\"[\\$,]\", \"\", regex=True).astype(float)\n",
        "\n",
        "df[\"Order Date\"] = pd.to_datetime(df[\"Order Date\"], format=\"%d-%m-%Y\")\n",
        "df[\"Ship Date\"] = pd.to_datetime(df[\"Ship Date\"], format=\"%d-%m-%Y\")"
      ],
      "metadata": {
        "id": "a6qy3DRCX-TU"
      },
      "execution_count": null,
      "outputs": []
    },
    {
      "cell_type": "code",
      "source": [
        "# 1. What is the total revenue generated across all orders?\n",
        "df[\"Total\"].sum()"
      ],
      "metadata": {
        "colab": {
          "base_uri": "https://localhost:8080/"
        },
        "id": "qvGoaAYOdPJx",
        "outputId": "b666b714-07cf-4e69-9822-30b87eaf4e50"
      },
      "execution_count": null,
      "outputs": [
        {
          "output_type": "execute_result",
          "data": {
            "text/plain": [
              "np.float64(3731536.4000000004)"
            ]
          },
          "metadata": {},
          "execution_count": 49
        }
      ]
    },
    {
      "cell_type": "code",
      "source": [
        "# 2. Which customer type generates more revenue?\n",
        "df.groupby(\"Customer Type\")[\"Total\"].sum()"
      ],
      "metadata": {
        "colab": {
          "base_uri": "https://localhost:8080/",
          "height": 241
        },
        "id": "0K8gTAxlYitQ",
        "outputId": "dbe12ab1-f82b-40c2-ff6d-301dd15ae54b"
      },
      "execution_count": null,
      "outputs": [
        {
          "output_type": "execute_result",
          "data": {
            "text/plain": [
              "Customer Type\n",
              "Consumer           675231.65\n",
              "Corporate         1373796.44\n",
              "Home Office        851621.96\n",
              "Small Business     830886.35\n",
              "Name: Total, dtype: float64"
            ],
            "text/html": [
              "<div>\n",
              "<style scoped>\n",
              "    .dataframe tbody tr th:only-of-type {\n",
              "        vertical-align: middle;\n",
              "    }\n",
              "\n",
              "    .dataframe tbody tr th {\n",
              "        vertical-align: top;\n",
              "    }\n",
              "\n",
              "    .dataframe thead th {\n",
              "        text-align: right;\n",
              "    }\n",
              "</style>\n",
              "<table border=\"1\" class=\"dataframe\">\n",
              "  <thead>\n",
              "    <tr style=\"text-align: right;\">\n",
              "      <th></th>\n",
              "      <th>Total</th>\n",
              "    </tr>\n",
              "    <tr>\n",
              "      <th>Customer Type</th>\n",
              "      <th></th>\n",
              "    </tr>\n",
              "  </thead>\n",
              "  <tbody>\n",
              "    <tr>\n",
              "      <th>Consumer</th>\n",
              "      <td>675231.65</td>\n",
              "    </tr>\n",
              "    <tr>\n",
              "      <th>Corporate</th>\n",
              "      <td>1373796.44</td>\n",
              "    </tr>\n",
              "    <tr>\n",
              "      <th>Home Office</th>\n",
              "      <td>851621.96</td>\n",
              "    </tr>\n",
              "    <tr>\n",
              "      <th>Small Business</th>\n",
              "      <td>830886.35</td>\n",
              "    </tr>\n",
              "  </tbody>\n",
              "</table>\n",
              "</div><br><label><b>dtype:</b> float64</label>"
            ]
          },
          "metadata": {},
          "execution_count": 11
        }
      ]
    },
    {
      "cell_type": "code",
      "source": [
        "# 3. How does order priority affect revenue?\n",
        "df.groupby(\"Order Priority\")[\"Total\"].sum()"
      ],
      "metadata": {
        "colab": {
          "base_uri": "https://localhost:8080/",
          "height": 272
        },
        "id": "Yl6OV_zTY7Pd",
        "outputId": "22c08a69-6819-4eb5-f6d9-aee24d11a21a"
      },
      "execution_count": null,
      "outputs": [
        {
          "output_type": "execute_result",
          "data": {
            "text/plain": [
              "Order Priority\n",
              "Critical         694547.97\n",
              "High             794199.00\n",
              "Low              640200.14\n",
              "Medium           784744.63\n",
              "Not Specified    817844.66\n",
              "Name: Total, dtype: float64"
            ],
            "text/html": [
              "<div>\n",
              "<style scoped>\n",
              "    .dataframe tbody tr th:only-of-type {\n",
              "        vertical-align: middle;\n",
              "    }\n",
              "\n",
              "    .dataframe tbody tr th {\n",
              "        vertical-align: top;\n",
              "    }\n",
              "\n",
              "    .dataframe thead th {\n",
              "        text-align: right;\n",
              "    }\n",
              "</style>\n",
              "<table border=\"1\" class=\"dataframe\">\n",
              "  <thead>\n",
              "    <tr style=\"text-align: right;\">\n",
              "      <th></th>\n",
              "      <th>Total</th>\n",
              "    </tr>\n",
              "    <tr>\n",
              "      <th>Order Priority</th>\n",
              "      <th></th>\n",
              "    </tr>\n",
              "  </thead>\n",
              "  <tbody>\n",
              "    <tr>\n",
              "      <th>Critical</th>\n",
              "      <td>694547.97</td>\n",
              "    </tr>\n",
              "    <tr>\n",
              "      <th>High</th>\n",
              "      <td>794199.00</td>\n",
              "    </tr>\n",
              "    <tr>\n",
              "      <th>Low</th>\n",
              "      <td>640200.14</td>\n",
              "    </tr>\n",
              "    <tr>\n",
              "      <th>Medium</th>\n",
              "      <td>784744.63</td>\n",
              "    </tr>\n",
              "    <tr>\n",
              "      <th>Not Specified</th>\n",
              "      <td>817844.66</td>\n",
              "    </tr>\n",
              "  </tbody>\n",
              "</table>\n",
              "</div><br><label><b>dtype:</b> float64</label>"
            ]
          },
          "metadata": {},
          "execution_count": 13
        }
      ]
    },
    {
      "cell_type": "code",
      "source": [
        "# 4. What is the average profit margin by product category?\n",
        "df.groupby(\"Product Category\")[\"Profit Margin\"].mean()"
      ],
      "metadata": {
        "colab": {
          "base_uri": "https://localhost:8080/",
          "height": 209
        },
        "id": "xwePuloaZIUA",
        "outputId": "5d8293e3-01c9-40e4-d3e4-27bdb5329f08"
      },
      "execution_count": null,
      "outputs": [
        {
          "output_type": "execute_result",
          "data": {
            "text/plain": [
              "Product Category\n",
              "Furniture          12.701953\n",
              "Office Supplies    17.682609\n",
              "Technology         20.423208\n",
              "Name: Profit Margin, dtype: float64"
            ],
            "text/html": [
              "<div>\n",
              "<style scoped>\n",
              "    .dataframe tbody tr th:only-of-type {\n",
              "        vertical-align: middle;\n",
              "    }\n",
              "\n",
              "    .dataframe tbody tr th {\n",
              "        vertical-align: top;\n",
              "    }\n",
              "\n",
              "    .dataframe thead th {\n",
              "        text-align: right;\n",
              "    }\n",
              "</style>\n",
              "<table border=\"1\" class=\"dataframe\">\n",
              "  <thead>\n",
              "    <tr style=\"text-align: right;\">\n",
              "      <th></th>\n",
              "      <th>Profit Margin</th>\n",
              "    </tr>\n",
              "    <tr>\n",
              "      <th>Product Category</th>\n",
              "      <th></th>\n",
              "    </tr>\n",
              "  </thead>\n",
              "  <tbody>\n",
              "    <tr>\n",
              "      <th>Furniture</th>\n",
              "      <td>12.701953</td>\n",
              "    </tr>\n",
              "    <tr>\n",
              "      <th>Office Supplies</th>\n",
              "      <td>17.682609</td>\n",
              "    </tr>\n",
              "    <tr>\n",
              "      <th>Technology</th>\n",
              "      <td>20.423208</td>\n",
              "    </tr>\n",
              "  </tbody>\n",
              "</table>\n",
              "</div><br><label><b>dtype:</b> float64</label>"
            ]
          },
          "metadata": {},
          "execution_count": 16
        }
      ]
    },
    {
      "cell_type": "code",
      "source": [
        "# 5. What is the most profitable product overall?\n",
        "df.groupby(\"Product Name\")[\"Profit Margin\"].sum().idxmax()"
      ],
      "metadata": {
        "colab": {
          "base_uri": "https://localhost:8080/",
          "height": 36
        },
        "id": "6cf_aU9YZmOx",
        "outputId": "326eb2de-7041-43f3-e13d-e0f34039f6a3"
      },
      "execution_count": null,
      "outputs": [
        {
          "output_type": "execute_result",
          "data": {
            "text/plain": [
              "'Cando PC940 Copier'"
            ],
            "application/vnd.google.colaboratory.intrinsic+json": {
              "type": "string"
            }
          },
          "metadata": {},
          "execution_count": 19
        }
      ]
    },
    {
      "cell_type": "code",
      "source": [
        "# 6. How many days does it usually take to ship an order?\n",
        "if \"Order Date\" in df.columns and \"Ship Date\" in df.columns:\n",
        "  df[\"Shipping Duration\"] = (df[\"Ship Date\"] - df[\"Order Date\"]).dt.days\n",
        "  print(df[\"Shipping Duration\"].mean())"
      ],
      "metadata": {
        "colab": {
          "base_uri": "https://localhost:8080/"
        },
        "id": "jDnRp1YsaMKG",
        "outputId": "2f4f97e3-7a63-4d69-bd0a-939cfa6aeb21"
      },
      "execution_count": null,
      "outputs": [
        {
          "output_type": "stream",
          "name": "stdout",
          "text": [
            "1.8356\n"
          ]
        }
      ]
    },
    {
      "cell_type": "code",
      "source": [
        "# 7. Do longer shipping times impact profit margins?\n",
        "if \"Shipping Duration\" in df.columns and \"Profit Margin\" in df.columns:\n",
        "  print(df.groupby(\"Shipping Duration\")[\"Profit Margin\"].mean().head())"
      ],
      "metadata": {
        "colab": {
          "base_uri": "https://localhost:8080/"
        },
        "id": "c-ncq7IMauqL",
        "outputId": "95d0cde2-ae0c-435d-99fd-c58786ed7eee"
      },
      "execution_count": null,
      "outputs": [
        {
          "output_type": "stream",
          "name": "stdout",
          "text": [
            "Shipping Duration\n",
            "-365      1.820\n",
            "-364     12.895\n",
            "-362      3.180\n",
            "-359    222.000\n",
            "-355      1.470\n",
            "Name: Profit Margin, dtype: float64\n"
          ]
        }
      ]
    },
    {
      "cell_type": "code",
      "source": [
        "# 8. Which city brings in the highest revenue?\n",
        "print(\"City with Highest Revenue:\\n\", df.groupby(\"City\")[\"Total\"].sum().sort_values(ascending=False).head(1))"
      ],
      "metadata": {
        "colab": {
          "base_uri": "https://localhost:8080/"
        },
        "id": "ZZZq7FYEbUTG",
        "outputId": "d5e9cd1d-a4f2-490c-b322-fd329725751d"
      },
      "execution_count": null,
      "outputs": [
        {
          "output_type": "stream",
          "name": "stdout",
          "text": [
            "City with Highest Revenue:\n",
            " City\n",
            "Sydney    2678780.33\n",
            "Name: Total, dtype: float64\n"
          ]
        }
      ]
    },
    {
      "cell_type": "code",
      "source": [
        "# 9. Which account manager generated the most revenue?\n",
        "print(\" Account Manager with Highest Revenue:\\n\", df.groupby(\"Account Manager\")[\"Total\"].sum().sort_values(ascending=False).head(1))"
      ],
      "metadata": {
        "colab": {
          "base_uri": "https://localhost:8080/"
        },
        "id": "WPvg0VBNbj7Z",
        "outputId": "e0c1a992-030b-4738-dc15-5643f59f7893"
      },
      "execution_count": null,
      "outputs": [
        {
          "output_type": "stream",
          "name": "stdout",
          "text": [
            " Account Manager with Highest Revenue:\n",
            " Account Manager\n",
            "Connor Betts    671173.17\n",
            "Name: Total, dtype: float64\n"
          ]
        }
      ]
    },
    {
      "cell_type": "code",
      "source": [
        "# 10. Which shipping mode is most cost-effective (lowest avg. shipping)?\n",
        "df[\"Shipping Cost\"] = df[\"Shipping Cost\"].astype(str).str.replace(r\"[\\$,]\", \"\", regex=True).astype(float)\n",
        "print(\"Shipping Mode with Lowest Average Shipping Cost:\\n\", df.groupby(\"Ship Mode\")[\"Shipping Cost\"].mean().sort_values().head(1))"
      ],
      "metadata": {
        "colab": {
          "base_uri": "https://localhost:8080/"
        },
        "id": "l58qRrKVbzfo",
        "outputId": "11f813a1-7a1d-4c4a-b8be-5e1c028a6d37"
      },
      "execution_count": null,
      "outputs": [
        {
          "output_type": "stream",
          "name": "stdout",
          "text": [
            "Shipping Mode with Lowest Average Shipping Cost:\n",
            " Ship Mode\n",
            "Express Air    5.247311\n",
            "Name: Shipping Cost, dtype: float64\n"
          ]
        }
      ]
    },
    {
      "cell_type": "code",
      "source": [
        "# 11. Do higher discounts reduce profits?\n",
        "print(\"Discount % with Highest Profit Margin:\\n\", df.groupby(\"Discount %\")[\"Profit Margin\"].sum().sort_values(ascending=False).head(1))"
      ],
      "metadata": {
        "colab": {
          "base_uri": "https://localhost:8080/"
        },
        "id": "x9YPtwbOb__6",
        "outputId": "8664215c-1e31-4815-c9b2-c1ee385208d1"
      },
      "execution_count": null,
      "outputs": [
        {
          "output_type": "stream",
          "name": "stdout",
          "text": [
            "Discount % with Highest Profit Margin:\n",
            " Discount %\n",
            "3%    11550.15\n",
            "Name: Profit Margin, dtype: float64\n"
          ]
        }
      ]
    },
    {
      "cell_type": "code",
      "source": [
        "# 12. Which state has the highest number of orders?\n",
        "print(\"State with Highest Number of Orders:\\n\", df[\"State\"].value_counts().head(1))"
      ],
      "metadata": {
        "colab": {
          "base_uri": "https://localhost:8080/"
        },
        "id": "q3TIlPQ_cFWb",
        "outputId": "f95e5e2c-c458-4771-c5b3-449d646b1f6a"
      },
      "execution_count": null,
      "outputs": [
        {
          "output_type": "stream",
          "name": "stdout",
          "text": [
            "State with Highest Number of Orders:\n",
            " State\n",
            "NSW    3584\n",
            "Name: count, dtype: int64\n"
          ]
        }
      ]
    },
    {
      "cell_type": "code",
      "source": [
        "# 13. What is the average discount % across all orders?\n",
        "df[\"Discount_pct\"] = df[\"Discount %\"].astype(str).str.replace(r\"[\\%,]\", \"\", regex=True).astype(float)\n",
        "print(\"Average Discount %:\\n\", df[\"Discount_pct\"].mean())"
      ],
      "metadata": {
        "colab": {
          "base_uri": "https://localhost:8080/"
        },
        "id": "7HtG1UfgcKPq",
        "outputId": "f734ca80-8a50-4a2f-c2bb-6742c76c0031"
      },
      "execution_count": null,
      "outputs": [
        {
          "output_type": "stream",
          "name": "stdout",
          "text": [
            "Average Discount %:\n",
            " 5.0338\n"
          ]
        }
      ]
    },
    {
      "cell_type": "code",
      "source": [
        "# 14. What is the average total spend per order?\n",
        "print(\"Average Total Spend per Order:\\n\", df[\"Total\"].mean())"
      ],
      "metadata": {
        "colab": {
          "base_uri": "https://localhost:8080/"
        },
        "id": "nA4tbw5tcyFj",
        "outputId": "a6942255-ea6e-47d3-df14-aa290867aa0a"
      },
      "execution_count": null,
      "outputs": [
        {
          "output_type": "stream",
          "name": "stdout",
          "text": [
            "Average Total Spend per Order:\n",
            " 746.3072800000001\n"
          ]
        }
      ]
    },
    {
      "cell_type": "code",
      "source": [
        "# 15. Are certain containers (e.g., Small Box, Wrap Bag) more profitable?\n",
        "print(\"Container with Highest Profit Margin:\\n\", df.groupby(\"Product Container\")[\"Profit Margin\"].sum().sort_values(ascending=False).head(1))"
      ],
      "metadata": {
        "colab": {
          "base_uri": "https://localhost:8080/"
        },
        "id": "45Koq1W1c5EJ",
        "outputId": "8757cbf4-63ab-4e13-a32b-8640713e1f86"
      },
      "execution_count": null,
      "outputs": [
        {
          "output_type": "stream",
          "name": "stdout",
          "text": [
            "Container with Highest Profit Margin:\n",
            " Product Container\n",
            "Small Box    50941.29\n",
            "Name: Profit Margin, dtype: float64\n"
          ]
        }
      ]
    },
    {
      "cell_type": "code",
      "source": [],
      "metadata": {
        "id": "i-p8vNdRYZCe"
      },
      "execution_count": null,
      "outputs": []
    }
  ]
}