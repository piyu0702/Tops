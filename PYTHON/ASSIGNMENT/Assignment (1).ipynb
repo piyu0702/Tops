{
  "nbformat": 4,
  "nbformat_minor": 0,
  "metadata": {
    "colab": {
      "provenance": []
    },
    "kernelspec": {
      "name": "python3",
      "display_name": "Python 3"
    },
    "language_info": {
      "name": "python"
    }
  },
  "cells": [
    {
      "cell_type": "markdown",
      "source": [
        "**PYTHON ASSIGNMENT**"
      ],
      "metadata": {
        "id": "IrQX8naOikaI"
      }
    },
    {
      "cell_type": "code",
      "source": [
        "\"\"\"\n",
        "1) What are the types of Applications?\n",
        "Ans. Console(CLI), GUI, Web, Mobile, Embedded/IoT, Data Science/ ML\n",
        "\"\"\""
      ],
      "metadata": {
        "id": "1tUgSU517_ti"
      },
      "execution_count": null,
      "outputs": []
    },
    {
      "cell_type": "code",
      "source": [
        "\"\"\"\n",
        "2) What is programing?\n",
        "Ans. Code that tell a computer how to solve problems by processing data and performing actions step-by-step.\n",
        "\"\"\""
      ],
      "metadata": {
        "id": "2qpDNpCh7_9e"
      },
      "execution_count": null,
      "outputs": []
    },
    {
      "cell_type": "code",
      "source": [
        "\"\"\"\n",
        "3) What is Python?\n",
        "Ans. Python is a popular programming language. It was created by Guido van Rossum, and released in 1991.\n",
        "\"\"\""
      ],
      "metadata": {
        "id": "YCbuv0d78ABP"
      },
      "execution_count": null,
      "outputs": []
    },
    {
      "cell_type": "code",
      "source": [
        "# 4) Write a Python program to check if a number is positive, negative or zero.\n",
        "number = int(input(\"Enter a number:\"))\n",
        "if number > 0:\n",
        "  print(\"Number is positive\")   # for positive number\n",
        "elif number < 0:\n",
        "  print(\"Number is negative\")   # for negative number\n",
        "else:\n",
        "  print(\"Number is zero\")       # for zero"
      ],
      "metadata": {
        "colab": {
          "base_uri": "https://localhost:8080/"
        },
        "id": "lSd1cK3q7fVE",
        "outputId": "83e533f0-8588-4d72-b6c9-1b25e7861e59"
      },
      "execution_count": null,
      "outputs": [
        {
          "output_type": "stream",
          "name": "stdout",
          "text": [
            "Enter a number:10\n",
            "Number is positive\n"
          ]
        }
      ]
    },
    {
      "cell_type": "code",
      "source": [
        "# 5)Write a Python program to get the Factorial number of given numbers.\n",
        "number = int(input(\"Enter a number:\"))\n",
        "factorial = 1\n",
        "if number < 0:\n",
        "  print(\"Factorial is not defined for negative numbers\")   # if user gives negative integer it will give the message\n",
        "elif number ==0:\n",
        "  print(\"Factorial of 0 is 1\")\n",
        "else:\n",
        "  for i in range(1, number + 1):\n",
        "    factorial = factorial * i\n",
        "  print(\"Factorial of\", number, \"is\", factorial)"
      ],
      "metadata": {
        "id": "CG6YRG0m72AL",
        "colab": {
          "base_uri": "https://localhost:8080/"
        },
        "outputId": "bf504093-c7d6-405b-97e5-e7310410ca28"
      },
      "execution_count": null,
      "outputs": [
        {
          "output_type": "stream",
          "name": "stdout",
          "text": [
            "Enter a number:4\n",
            "Factorial of 4 is 24\n"
          ]
        }
      ]
    },
    {
      "cell_type": "code",
      "source": [
        "# 6)Write a Python program to get the Fibonacci series of given range.\n",
        "number = int(input(\"Enter a number:\"))\n",
        "x,y = 0,1  # first two numbers\n",
        "if number <= 0:\n",
        "  print(\"Enter a positive number\")\n",
        "elif number == 1:\n",
        "  print(\"Fibonacci series upto\", number, \":\")\n",
        "  print(x)\n",
        "else:\n",
        "  print(\"Fibonacci series:\")\n",
        "  for i in range(number):\n",
        "    print(x)\n",
        "    x,y = y,x+y # updates values"
      ],
      "metadata": {
        "colab": {
          "base_uri": "https://localhost:8080/"
        },
        "id": "n0LTEo6wDP9Z",
        "outputId": "8e8b90f1-9185-44bf-95df-1a003c3002be"
      },
      "execution_count": null,
      "outputs": [
        {
          "output_type": "stream",
          "name": "stdout",
          "text": [
            "Enter a number:10\n",
            "Fibonacci series:\n",
            "0\n",
            "1\n",
            "1\n",
            "2\n",
            "3\n",
            "5\n",
            "8\n",
            "13\n",
            "21\n",
            "34\n"
          ]
        }
      ]
    },
    {
      "cell_type": "code",
      "source": [
        "\"\"\"\n",
        "7)How memory is managed in Python?\n",
        "Ans. Python uses automatic reference counting and a garbage collector for cyclic references.\n",
        "\"\"\""
      ],
      "metadata": {
        "id": "R5-Erhh0ElKF"
      },
      "execution_count": null,
      "outputs": []
    },
    {
      "cell_type": "code",
      "source": [
        "\"\"\"\n",
        "8)What is the purpose continuing statement in python?\n",
        "Ans. continuing statement skips current loop iteration and moves to next one\n",
        "\"\"\""
      ],
      "metadata": {
        "id": "n385MaLrMCog"
      },
      "execution_count": null,
      "outputs": []
    },
    {
      "cell_type": "code",
      "source": [
        "# 9) Write python program that swap two number with temp variable and without temp variable.\n",
        "# using temp variable\n",
        "x = 50\n",
        "y = 100\n",
        "temp = x\n",
        "x = y\n",
        "y = temp\n",
        "print(\"x:\",x)\n",
        "print(\"y:\",y)\n"
      ],
      "metadata": {
        "colab": {
          "base_uri": "https://localhost:8080/"
        },
        "id": "VZgo3E07MHb6",
        "outputId": "8035663b-ec1b-4ad4-ab85-071ea1733a6e"
      },
      "execution_count": null,
      "outputs": [
        {
          "output_type": "stream",
          "name": "stdout",
          "text": [
            "x: 100\n",
            "y: 50\n"
          ]
        }
      ]
    },
    {
      "cell_type": "code",
      "source": [
        "# 9) Write python program that swap two number with temp variable and without temp variable.\n",
        "# without using temp variable\n",
        "x,y = y,x\n",
        "print(\"x:\",x)\n",
        "print(\"y:\",y)"
      ],
      "metadata": {
        "colab": {
          "base_uri": "https://localhost:8080/"
        },
        "id": "J0MTM-NANCgZ",
        "outputId": "affce7c4-442f-4819-a028-66a554991a29"
      },
      "execution_count": null,
      "outputs": [
        {
          "output_type": "stream",
          "name": "stdout",
          "text": [
            "x: 50\n",
            "y: 100\n"
          ]
        }
      ]
    },
    {
      "cell_type": "code",
      "source": [
        "# 10) Write a Python program to find whether a given number is even or odd, print out an appropriate message to the user.\n",
        "n= int(input(\"Enter a number:\"))\n",
        "if n%2==0:                # Check if number is divisible by 2\n",
        "  print(\"Number is even\")\n",
        "else:\n",
        "  print(\"Number is odd\")"
      ],
      "metadata": {
        "colab": {
          "base_uri": "https://localhost:8080/"
        },
        "id": "Cf4oyWYKNNGL",
        "outputId": "ad59cadf-ea96-4a55-8a18-eca62c241687"
      },
      "execution_count": null,
      "outputs": [
        {
          "output_type": "stream",
          "name": "stdout",
          "text": [
            "Enter a number:25\n",
            "Number is odd\n"
          ]
        }
      ]
    },
    {
      "cell_type": "code",
      "source": [
        "# 11) Write a Python program to test whether a passed letter is a vowel or not.\n",
        "vowels = \"aeiouAEIOU\"\n",
        "v = input(\"Enter a letter:\")\n",
        "if len(v)==1 and v.isalpha():\n",
        "  if v in vowels:           # Check if the user's input is in the vowels list\n",
        "    print(\"It is a vowel\")\n",
        "  else:\n",
        "    print(\"It is not a vowel\")\n",
        "else:\n",
        "  print(\"Invalid input\")"
      ],
      "metadata": {
        "colab": {
          "base_uri": "https://localhost:8080/"
        },
        "id": "8PaPO2NdNNNw",
        "outputId": "11c3add8-5141-476f-8bc4-09f1f2c41526"
      },
      "execution_count": null,
      "outputs": [
        {
          "output_type": "stream",
          "name": "stdout",
          "text": [
            "Enter a letter:A\n",
            "It is a vowel\n"
          ]
        }
      ]
    },
    {
      "cell_type": "code",
      "source": [
        "# 12) Write a Python program to sum of three given integers. However, if two values are equal sum will be zero.\n",
        "x = int(input(\"Enter first number:\"))\n",
        "y = int(input(\"Enter second number:\"))\n",
        "z = int(input(\"Enter third number:\"))\n",
        "if x==y or y==z or x==z:               # If any two values are the same, print 0\n",
        "  print(\"Sum is zero\")\n",
        "else:\n",
        "  print(\"Sum of three numbers is\",x+y+z)"
      ],
      "metadata": {
        "colab": {
          "base_uri": "https://localhost:8080/"
        },
        "id": "YsBLJ027NNR2",
        "outputId": "71cc8e85-cf5d-4de9-c1ba-c2ef89b2d820"
      },
      "execution_count": null,
      "outputs": [
        {
          "output_type": "stream",
          "name": "stdout",
          "text": [
            "Enter first number:10\n",
            "Enter second number:20\n",
            "Enter third number:30\n",
            "Sum of three numbers is 60\n"
          ]
        }
      ]
    },
    {
      "cell_type": "code",
      "source": [
        "# 13) Write a Python program that will return true if the two given integer values are equal or their sum or difference is 5.\n",
        "m = int(input(\"Enter 1st number\"))\n",
        "n = int(input(\"Enter 2nd number\"))\n",
        "\n",
        "if m==n or (m+n ==5) or (abs(m-n)==5):  # Check if numbers are equal or their sum/difference is 5\n",
        "  print(\"true\")\n",
        "else:\n",
        "  print(\"false\")\n"
      ],
      "metadata": {
        "colab": {
          "base_uri": "https://localhost:8080/"
        },
        "id": "N76gI4LsNNVs",
        "outputId": "50c1264b-5e33-46f2-ee84-d00439795cfc"
      },
      "execution_count": null,
      "outputs": [
        {
          "output_type": "stream",
          "name": "stdout",
          "text": [
            "Enter 1st number15\n",
            "Enter 2nd number20\n",
            "true\n"
          ]
        }
      ]
    },
    {
      "cell_type": "code",
      "source": [
        "# 14)Write a python program to sum of the first n positive integers.\n",
        "n = int(input(\"Enter a positive number: \"))\n",
        "sum = 0\n",
        "\n",
        "for i in range(1, n + 1):        # Loop from 1 to n\n",
        "  sum += i\n",
        "\n",
        "print(\"Sum is:\", sum)"
      ],
      "metadata": {
        "colab": {
          "base_uri": "https://localhost:8080/"
        },
        "id": "h1oTxWQoUAov",
        "outputId": "6679eee0-ee7a-4901-d26b-58c6189a51bd"
      },
      "execution_count": null,
      "outputs": [
        {
          "output_type": "stream",
          "name": "stdout",
          "text": [
            "Enter a positive number: 5\n",
            "Sum is: 15\n"
          ]
        }
      ]
    },
    {
      "cell_type": "code",
      "source": [
        "# 15)Write a Python program to calculate the length of a string.\n",
        "word = input(\"Enter the word: \")\n",
        "length = len(word)                  # len() function to get the length of the string\n",
        "print(\"length of word is:\" , length)"
      ],
      "metadata": {
        "colab": {
          "base_uri": "https://localhost:8080/"
        },
        "id": "gABEmGVjUAry",
        "outputId": "1a42fa41-5529-4edc-cd85-f41236914295"
      },
      "execution_count": null,
      "outputs": [
        {
          "output_type": "stream",
          "name": "stdout",
          "text": [
            "Enter the word: python\n",
            "length of word is: 6\n"
          ]
        }
      ]
    },
    {
      "cell_type": "code",
      "source": [
        "# 16) Write a Python program to count the number of characters\n",
        "string = input(\"Enter a string: \")\n",
        "char_count = 0\n",
        "\n",
        "for char in string:\n",
        "  char_count+= 1 # Increment count for each character\n",
        "print(\"Total number of characters:\", char_count)"
      ],
      "metadata": {
        "colab": {
          "base_uri": "https://localhost:8080/"
        },
        "id": "EMHI9SNlUAu5",
        "outputId": "74e99d9b-35bd-478c-85ef-aef62d091578"
      },
      "execution_count": null,
      "outputs": [
        {
          "output_type": "stream",
          "name": "stdout",
          "text": [
            "Enter a string: excel\n",
            "Total number of characters: 5\n"
          ]
        }
      ]
    },
    {
      "cell_type": "code",
      "source": [
        "\"\"\"\n",
        "17)What are negative indexes and why are they used?\n",
        "Ans. Index from the end (-1). It is used for reverse access and slicing.\n",
        "\"\"\"\""
      ],
      "metadata": {
        "id": "7mwBoIa5UAyE"
      },
      "execution_count": null,
      "outputs": []
    },
    {
      "cell_type": "code",
      "source": [
        "# 18)Write a Python program to count occurrences of a substring in a string.\n",
        "main_string = input(\"Enter the main string: \")\n",
        "substring = input(\"Enter the substring to search: \")\n",
        "\n",
        "count = main_string.count(substring)             # count() to find how many times substring appears\n",
        "print(f\"The substring '{substring}' appears {count} times.\")"
      ],
      "metadata": {
        "colab": {
          "base_uri": "https://localhost:8080/"
        },
        "id": "7RkFI8fNUA1Q",
        "outputId": "0d9f42bc-4d20-4af1-a739-ccb5e7fb0fd0"
      },
      "execution_count": null,
      "outputs": [
        {
          "output_type": "stream",
          "name": "stdout",
          "text": [
            "Enter the main string: python is programming language. python is an easy language.\n",
            "Enter the substring to search: py\n",
            "The substring 'py' appears 2 times.\n"
          ]
        }
      ]
    },
    {
      "cell_type": "code",
      "source": [
        "# 19) Write a Python program to count the occurrences of each word in a given sentence\n",
        "sentence = input(\"Enter a sentence :\")\n",
        "words = sentence.split()\n",
        "occurence = {}\n",
        "\n",
        "for word in words:\n",
        "  if word in occurence:               # If the word is already in the dictionary\n",
        "    occurence[word]+=1                # Increment its count by 1\n",
        "  else:\n",
        "    occurence[word] = 1\n",
        "\n",
        "for word, count in occurence.items():\n",
        "  print(f\"{word} : {count}\")"
      ],
      "metadata": {
        "colab": {
          "base_uri": "https://localhost:8080/"
        },
        "id": "Xp6rYLVdUA4z",
        "outputId": "6088def8-8209-4195-f28b-b76fcc4708bf"
      },
      "execution_count": null,
      "outputs": [
        {
          "output_type": "stream",
          "name": "stdout",
          "text": [
            "Enter a sentence :This is a code of python and python is easy.\n",
            "This : 1\n",
            "is : 2\n",
            "a : 1\n",
            "code : 1\n",
            "of : 1\n",
            "python : 2\n",
            "and : 1\n",
            "easy. : 1\n"
          ]
        }
      ]
    },
    {
      "cell_type": "code",
      "source": [
        "# 20) Write a Python program to get a single string from two given strings, separated by a space and swap the first two characters of each string.\n",
        "string1 = input(\"Enter the 1st string \")\n",
        "string2 = input(\"Enter the 2nd string \")\n",
        "\n",
        "new_string1 = string2[:2] + string1[2:]\n",
        "new_string2 = string1[:2] + string2[2:]\n",
        "\n",
        "final = new_string1 + \" \" + new_string2\n",
        "print(\"final_string : \",final)"
      ],
      "metadata": {
        "colab": {
          "base_uri": "https://localhost:8080/"
        },
        "id": "5dS6c_ycUA8b",
        "outputId": "7198e4bb-2703-4b80-d4c6-d769b5950c3b"
      },
      "execution_count": null,
      "outputs": [
        {
          "output_type": "stream",
          "name": "stdout",
          "text": [
            "Enter the 1st string abc\n",
            "Enter the 2nd string xyz\n",
            "final_string :  xyc abz\n"
          ]
        }
      ]
    },
    {
      "cell_type": "code",
      "source": [
        "\"\"\"\n",
        "21) Write a Python program to add 'in' at the end of a given string (length should be at least 3). If the given string already ends with 'ing' then\n",
        "add 'ly' instead if the string length of the given string is less than 3, leave it unchanged.\n",
        "\"\"\"\n",
        "word = input(\"Enter a word \")\n",
        "\n",
        "if len(word) < 3:\n",
        "  result = word\n",
        "elif word.endswith(\"ing\"):                # If word ends with 'ing', add 'ly'\n",
        "  result = word+ \"ly\"\n",
        "else:\n",
        "  result = word+ \"ing\"\n",
        "print(\"Result:\", result)"
      ],
      "metadata": {
        "colab": {
          "base_uri": "https://localhost:8080/"
        },
        "id": "VSNluimV1ooh",
        "outputId": "9e9c9670-103c-42e5-b24b-91f1bafeec80"
      },
      "execution_count": null,
      "outputs": [
        {
          "output_type": "stream",
          "name": "stdout",
          "text": [
            "Enter a word dancing\n",
            "Result: dancingly\n"
          ]
        }
      ]
    },
    {
      "cell_type": "code",
      "source": [
        "# 22) Write a Python function to reverses a string if its length is a multiple of 4.\n",
        "string = input(\"Enter a string \")\n",
        "if len(string) %4 ==0:              # Check if length of string is divisible by 4\n",
        "  reversed_str = string[::-1]\n",
        "  print(\"Reversed string: \",reversed_str)\n",
        "else:\n",
        "  print(\"Original_string\",string)"
      ],
      "metadata": {
        "colab": {
          "base_uri": "https://localhost:8080/"
        },
        "id": "tildodsl1osr",
        "outputId": "45a6822b-709d-4279-fd68-f281c92987ff"
      },
      "execution_count": null,
      "outputs": [
        {
          "output_type": "stream",
          "name": "stdout",
          "text": [
            "Enter a string read\n",
            "Reversed string:  daer\n"
          ]
        }
      ]
    },
    {
      "cell_type": "code",
      "source": [
        "\"\"\"23) Write a Python program to get a string made of the first 2 and the last 2 chars from a given a string. If the string length is less than 2,\n",
        "return instead of the empty string.\n",
        "\"\"\"\n",
        "s = input(\"Enter a string: \")\n",
        "\n",
        "if len(s) < 2:                       # Check if the string has less than 2 characters\n",
        "  print(\"Output: \", s)\n",
        "else:\n",
        "  result = s[:2] + s[-2:]\n",
        "  print(\"Output:\", result)\n"
      ],
      "metadata": {
        "colab": {
          "base_uri": "https://localhost:8080/"
        },
        "id": "Ey7TypIK5IAK",
        "outputId": "f30bfe8c-98cf-456c-b81b-a24be87fbd77"
      },
      "execution_count": null,
      "outputs": [
        {
          "output_type": "stream",
          "name": "stdout",
          "text": [
            "Enter a string: python\n",
            "Output: pyon\n"
          ]
        }
      ]
    },
    {
      "cell_type": "code",
      "source": [
        "# 24)Write a Python function to insert a string in the middle of a string.\n",
        "def insert_mid_string(main_string, insert_string):\n",
        "  mid = len(main_string) //2\n",
        "  result = main_string[:mid] + insert_string + main_string[mid:]                   # Insert sub-string at middle\n",
        "  123return result\n",
        "\n",
        "string = input(\"Enter the main string:\")\n",
        "ins_string = input(\"Enter a sub-string to insert in string\")\n",
        "print(\"Result:\", insert_mid_string(string, ins_string))\n"
      ],
      "metadata": {
        "id": "v01sH3V95IOH",
        "colab": {
          "base_uri": "https://localhost:8080/"
        },
        "outputId": "dec48e34-1b80-4c86-f4f4-15cf74463326"
      },
      "execution_count": null,
      "outputs": [
        {
          "output_type": "stream",
          "name": "stdout",
          "text": [
            "Enter the main string:python\n",
            "Enter a sub-string to insert in string1234\n",
            "Result: pyt1234hon\n"
          ]
        }
      ]
    },
    {
      "cell_type": "code",
      "source": [
        "\"\"\"\n",
        "25)What is List? How will you reverse a list?\n",
        "Ans. Lists are used to store multiple items in a single variable. Lists are ordered and mutable.\n",
        "We can reverse list by using list[::-1], list.reverse(), or reversed().\n",
        "\"\"\""
      ],
      "metadata": {
        "id": "P4_gfUvDWcFt"
      },
      "execution_count": null,
      "outputs": []
    },
    {
      "cell_type": "code",
      "source": [
        "\"\"\"\n",
        "26)How will you remove last object from a list?\n",
        "Ans. We can use list.pop() or del list[-1] to remove last object from a list.\n",
        "\"\"\""
      ],
      "metadata": {
        "id": "FV95QJKcWcJ8"
      },
      "execution_count": null,
      "outputs": []
    },
    {
      "cell_type": "code",
      "source": [
        "#27)Suppose list1 is [2, 33, 222, 14, and 25], what is list1 [-1]?\n",
        "list1 = [2, 33, 222, 14, 25]\n",
        "print(list1[-1])                        # using indexing"
      ],
      "metadata": {
        "colab": {
          "base_uri": "https://localhost:8080/"
        },
        "id": "wWzIdeieWcTx",
        "outputId": "46c04475-1ef5-4a50-d0dd-32e31a456719"
      },
      "execution_count": null,
      "outputs": [
        {
          "output_type": "stream",
          "name": "stdout",
          "text": [
            "25\n"
          ]
        }
      ]
    },
    {
      "cell_type": "code",
      "source": [
        "\"\"\"\n",
        "28)Differentiate between append () and extend () methods?\n",
        "Ans. append() adds a single item to the end of the list.\n",
        "extend() adds all elements of another list to the list.\n",
        "\"\"\""
      ],
      "metadata": {
        "id": "cSrXgbocWcXM"
      },
      "execution_count": null,
      "outputs": []
    },
    {
      "cell_type": "code",
      "source": [
        "# 29) Write a Python function to get the largest number, smallest num and sum of all from a list.\n",
        "\n",
        "numb = [10, 20, 40, 30, 60, 50]\n",
        "\n",
        "largest = max(numb)                       # largest number using max()\n",
        "smallest = min(numb)                      # smallest number using min()\n",
        "total = sum(numb)                         # sum of all numbers using sum()\n",
        "\n",
        "print(\"Largest:\", largest)\n",
        "print(\"Smallest:\", smallest)\n",
        "print(\"Sum:\", total)"
      ],
      "metadata": {
        "colab": {
          "base_uri": "https://localhost:8080/"
        },
        "id": "Y7gbpp4fWca4",
        "outputId": "a8da371c-fccf-4b14-deb8-cd7a31053760"
      },
      "execution_count": null,
      "outputs": [
        {
          "output_type": "stream",
          "name": "stdout",
          "text": [
            "Largest: 60\n",
            "Smallest: 10\n",
            "Sum: 210\n"
          ]
        }
      ]
    },
    {
      "cell_type": "code",
      "source": [
        "\"\"\"\n",
        "30)How will you compare two lists?\n",
        "list1 == list2\n",
        "It checks for same elements and order.\n",
        "\"\"\""
      ],
      "metadata": {
        "id": "k5MH7_UdWceK"
      },
      "execution_count": null,
      "outputs": []
    },
    {
      "cell_type": "code",
      "source": [
        "\"\"\"\n",
        "31) Write a Python program to count the number of strings where the string length is 2 or more and the first and last\n",
        "character are same from a given list of strings.\n",
        "\"\"\"\n",
        "words = [\"noon\", \"python\", \"wow\", \"hi\", \"excel\", \"hello\", \"powerbi\", \"mom\",\"b\",\"a\"]\n",
        "count = 0\n",
        "\n",
        "for word in words:\n",
        "  if len(word)>=2 and word[0] == word[-1]:                             # Check if length ≥ 2 and first & last characters are same\n",
        "    count+=1\n",
        "\n",
        "print(\"Number of strings:\", count)"
      ],
      "metadata": {
        "colab": {
          "base_uri": "https://localhost:8080/"
        },
        "id": "q9HQ4FqSWchG",
        "outputId": "9cc4f5c3-4f0d-46f4-baef-1fd7283b8cba"
      },
      "execution_count": null,
      "outputs": [
        {
          "output_type": "stream",
          "name": "stdout",
          "text": [
            "Number of strings: 3\n"
          ]
        }
      ]
    },
    {
      "cell_type": "code",
      "source": [
        "# 32)Write a Python program to remove duplicates from a list.\n",
        "\n",
        "listt = [1000, 2000, 3000, 4000, 3000, 1000, 5000]\n",
        "value = []\n",
        "\n",
        "for lists in listt:\n",
        "  if lists not in value:\n",
        "    value.append(lists)               # Add unique item to the list\n",
        "\n",
        "print(\"Original list:\", value)"
      ],
      "metadata": {
        "colab": {
          "base_uri": "https://localhost:8080/"
        },
        "id": "nACpaDHKYY9K",
        "outputId": "f02b8b02-4489-4082-ab3a-58119523c7f4"
      },
      "execution_count": null,
      "outputs": [
        {
          "output_type": "stream",
          "name": "stdout",
          "text": [
            "Original list: [1000, 2000, 3000, 4000, 5000]\n"
          ]
        }
      ]
    },
    {
      "cell_type": "code",
      "source": [
        "# 33)Write a Python program to check a list is empty or not.\n",
        "listtt = []\n",
        "\n",
        "if not listtt:                             # Check if the list is empty\n",
        "  print(\"The list is empty\")\n",
        "else:\n",
        "  print(\"The list is not empty\")"
      ],
      "metadata": {
        "colab": {
          "base_uri": "https://localhost:8080/"
        },
        "id": "YkQRmaI1YZAw",
        "outputId": "fb405661-605c-4e13-ab26-f64609192e31"
      },
      "execution_count": null,
      "outputs": [
        {
          "output_type": "stream",
          "name": "stdout",
          "text": [
            "The list is empty\n"
          ]
        }
      ]
    },
    {
      "cell_type": "code",
      "source": [
        "# 34) Write a Python function that takes two lists and returns true if they have at least one common member.\n",
        "list1 = [1500, 2500, 3500, 4500]\n",
        "list2 = [3500, 4500, 5500, 6500]\n",
        "\n",
        "found_common = False\n",
        "for item in list1:\n",
        "  if item in list2:\n",
        "      found_common = True\n",
        "      break\n",
        "\n",
        "print(\"Common element found:\", found_common)\n"
      ],
      "metadata": {
        "colab": {
          "base_uri": "https://localhost:8080/"
        },
        "id": "qQjRX7-ZYZD2",
        "outputId": "bf006cc7-6715-4fc1-a8b6-3f83961ee93c"
      },
      "execution_count": null,
      "outputs": [
        {
          "output_type": "stream",
          "name": "stdout",
          "text": [
            "Common element found: True\n"
          ]
        }
      ]
    },
    {
      "cell_type": "code",
      "source": [
        "# 35) Write a Python program to generate and print a list of first and last 5 elements where the values are square of numbers between 1 and 30.\n",
        "square = []\n",
        "for i in range(1,31):                    # Loop through numbers from 1 to 30\n",
        "  square.append(i**2)\n",
        "\n",
        "print(\"Square of all numbers\",square)\n",
        "print(\"Square of first five numbers:\", square[:5])         # Print first 5 elements\n",
        "print(\"Square of last five numbers:\", square[-5:])         # Print last 5 elements"
      ],
      "metadata": {
        "colab": {
          "base_uri": "https://localhost:8080/"
        },
        "id": "CYxoyj3vYZGm",
        "outputId": "6163fd6f-363c-4e69-b524-91218bb4519a"
      },
      "execution_count": null,
      "outputs": [
        {
          "output_type": "stream",
          "name": "stdout",
          "text": [
            "Square of all numbers [1, 4, 9, 16, 25, 36, 49, 64, 81, 100, 121, 144, 169, 196, 225, 256, 289, 324, 361, 400, 441, 484, 529, 576, 625, 676, 729, 784, 841, 900]\n",
            "Square of first five numbers: [1, 4, 9, 16, 25]\n",
            "Square of last five numbers: [676, 729, 784, 841, 900]\n"
          ]
        }
      ]
    },
    {
      "cell_type": "code",
      "source": [
        "# 36) Write a Python function that takes a list and returns a new list with unique elements of the first list.\n",
        "lisst = [1800, 700, 500, 2000, 700, 500, 600, 9000]\n",
        "new_list = []                      # Empty list to store unique values\n",
        "\n",
        "for lst in lisst:\n",
        "  if lst not in new_list:\n",
        "      new_list.append(lst)\n",
        "\n",
        "print(\"New list: \",new_list)"
      ],
      "metadata": {
        "colab": {
          "base_uri": "https://localhost:8080/"
        },
        "id": "a5Ab7ZkjYZLK",
        "outputId": "6ff966da-f101-4982-a772-84f68372efb5"
      },
      "execution_count": null,
      "outputs": [
        {
          "output_type": "stream",
          "name": "stdout",
          "text": [
            "New list:  [1800, 700, 500, 2000, 600, 9000]\n"
          ]
        }
      ]
    },
    {
      "cell_type": "code",
      "source": [
        "# 37)Write a Python program to convert a list of characters into a string.\n",
        "character_list = ['p','y','t','h','o','n']\n",
        "string = ''.join(character_list)                   # Join all characters\n",
        "print(\"string: \",string)"
      ],
      "metadata": {
        "colab": {
          "base_uri": "https://localhost:8080/"
        },
        "id": "4RwRFg3sYZN0",
        "outputId": "529be669-4b73-4267-d057-db0f17fb4337"
      },
      "execution_count": null,
      "outputs": [
        {
          "output_type": "stream",
          "name": "stdout",
          "text": [
            "string:  python\n"
          ]
        }
      ]
    },
    {
      "cell_type": "code",
      "source": [
        "# 38)Write a Python program to select an item randomly from a list.\n",
        "import random\n",
        "\n",
        "list_of_items = [\"MILK\",\"CHEESE\",\"BUTTER\",\"CREAM\",\"BREAD\",\"CURD\"]\n",
        "random_item = random.choice(list_of_items)                # Randomly pick one item from the list\n",
        "print(\"Randomly selected item:\", random_item)\n"
      ],
      "metadata": {
        "colab": {
          "base_uri": "https://localhost:8080/"
        },
        "id": "tosLr7OvYZSD",
        "outputId": "848d4be9-d217-47ef-a7c4-c24a101311ef"
      },
      "execution_count": null,
      "outputs": [
        {
          "output_type": "stream",
          "name": "stdout",
          "text": [
            "Randomly selected item: BUTTER\n"
          ]
        }
      ]
    },
    {
      "cell_type": "code",
      "source": [
        "# 39)Write a Python program to find the second smallest number in a list.\n",
        "number_list = [10,30,50,20,60,80,70,40]\n",
        "number_list.sort()                                 # Sort in ascending order\n",
        "second_smallest = number_list[1]\n",
        "print(\"Second smallest number:\", second_smallest)"
      ],
      "metadata": {
        "colab": {
          "base_uri": "https://localhost:8080/"
        },
        "id": "oODYNdcvYZVd",
        "outputId": "8cbe99f5-20c0-49a7-dfcd-21656b4e07a2"
      },
      "execution_count": null,
      "outputs": [
        {
          "output_type": "stream",
          "name": "stdout",
          "text": [
            "Second smallest number: 20\n"
          ]
        }
      ]
    },
    {
      "cell_type": "code",
      "source": [
        "# 40)Write a Python program to get unique values from a list\n",
        "lissst = [1800, 700, 500, 2000, 700, 500, 600, 9000]\n",
        "unique_values = []\n",
        "\n",
        "for lst in lissst:\n",
        "  if lst not in unique_values:                             # Check if the element is not in unique list\n",
        "    unique_values.append(lst)\n",
        "\n",
        "print(\"Unique Values:\", unique_values)"
      ],
      "metadata": {
        "colab": {
          "base_uri": "https://localhost:8080/"
        },
        "id": "TOb629xUex5S",
        "outputId": "456277ad-2cc3-4b36-e30e-972dc45dc073"
      },
      "execution_count": null,
      "outputs": [
        {
          "output_type": "stream",
          "name": "stdout",
          "text": [
            "Unique Values: [1800, 700, 500, 2000, 600, 9000]\n"
          ]
        }
      ]
    },
    {
      "cell_type": "code",
      "source": [
        "# 41)Write a Python program to check whether a list contains a sub list\n",
        "main_list = [10,20,30,40,50,60,70]\n",
        "sub_list = [30,40,50,60]\n",
        "found = False\n",
        "\n",
        "for i in range(len(main_list)-len(sub_list)+1):\n",
        "  if main_list[i:i + len(sub_list)]== sub_list:\n",
        "    found = True\n",
        "    break\n",
        "\n",
        "if found:\n",
        "  print(\"Sub_list is in main_list\")\n",
        "else:\n",
        "  print(\"Sub_list is not in main_list\")"
      ],
      "metadata": {
        "colab": {
          "base_uri": "https://localhost:8080/"
        },
        "id": "2J2W9kSmfGvT",
        "outputId": "aaee281d-46b7-45e5-b2ad-26325e5a4315"
      },
      "execution_count": null,
      "outputs": [
        {
          "output_type": "stream",
          "name": "stdout",
          "text": [
            "Sub_list is in main_list\n"
          ]
        }
      ]
    },
    {
      "cell_type": "code",
      "source": [
        "# 42)Write a Python program to split a list into different variables.\n",
        "list_of_items = [\"MILK\",\"CHEESE\",\"BUTTER\"]\n",
        "\n",
        "item1, item2, item3 = list_of_items                      # Unpack the list elements\n",
        "\n",
        "print(\"item1\",item1)\n",
        "print(\"item2\",item2)\n",
        "print(\"item3\",item3)"
      ],
      "metadata": {
        "colab": {
          "base_uri": "https://localhost:8080/"
        },
        "id": "LLMKemYJfKtj",
        "outputId": "d82abe5e-c0a5-4c41-a68f-f22339b4e2c2"
      },
      "execution_count": null,
      "outputs": [
        {
          "output_type": "stream",
          "name": "stdout",
          "text": [
            "item1 MILK\n",
            "item2 CHEESE\n",
            "item3 BUTTER\n"
          ]
        }
      ]
    },
    {
      "cell_type": "code",
      "source": [
        "\"\"\"\n",
        "43)What is tuple? Difference between list and tuple.\n",
        "Ans. A tuple is a collection which is ordered and unchangeable. Tuples are written with round brackets.\n",
        "A list is mutable, but a tuple is immutable .\n",
        "\"\"\"\n"
      ],
      "metadata": {
        "id": "ooJS-jcafKxZ"
      },
      "execution_count": null,
      "outputs": []
    },
    {
      "cell_type": "code",
      "source": [
        "# 44)Write a Python program to create a tuple with different data types.\n",
        "tuplee = (1000, \"python\", \"excel\", 20.70, False, (10,20),[\"powerbi\",\"statistics\"])\n",
        "print(\"tuplee:\",tuplee)\n",
        "print(\"type\", type(tuplee))"
      ],
      "metadata": {
        "colab": {
          "base_uri": "https://localhost:8080/"
        },
        "id": "m-N8ft1BfK5L",
        "outputId": "78a1a70d-8379-4ee1-da2b-0e71a4b247d6"
      },
      "execution_count": null,
      "outputs": [
        {
          "output_type": "stream",
          "name": "stdout",
          "text": [
            "tuplee: (1000, 'python', 'excel', 20.7, False, (10, 20), ['powerbi', 'statistics'])\n",
            "type <class 'tuple'>\n"
          ]
        }
      ]
    },
    {
      "cell_type": "code",
      "source": [
        "# 45)Write a Python program to unzip a list of tuples into individual lists.\n",
        "tuple_list = ([1,\"abc\"],[2,\"def\"],[3,\"ghi\"])\n",
        "idd, name = zip(*tuple_list)                 # unpacking (*) with zip to separate columns\n",
        "\n",
        "print(\"idd\",list(idd))\n",
        "print(\"name\",list(name))"
      ],
      "metadata": {
        "colab": {
          "base_uri": "https://localhost:8080/"
        },
        "id": "VfVuwrN_fK84",
        "outputId": "0470886c-88bf-4157-d7ba-a4007ce57f28"
      },
      "execution_count": null,
      "outputs": [
        {
          "output_type": "stream",
          "name": "stdout",
          "text": [
            "idd [1, 2, 3]\n",
            "name ['abc', 'def', 'ghi']\n"
          ]
        }
      ]
    },
    {
      "cell_type": "code",
      "source": [
        "# 46)Write a Python program to convert a list of tuples into a dictionary.\n",
        "tuple_list = ([1,\"abc\"],[2,\"def\"],[3,\"ghi\"])\n",
        "dictionary = dict(tuple_list)                           # Using dict() to convert list of pairs to dictionary\n",
        "print(\"dictionary\",dictionary)\n",
        "print(\"type of dictionary\",type(dictionary))"
      ],
      "metadata": {
        "colab": {
          "base_uri": "https://localhost:8080/"
        },
        "id": "sPdK9_0EfLBK",
        "outputId": "045bbe7d-c64d-41b5-b601-38e1cd19eb14"
      },
      "execution_count": null,
      "outputs": [
        {
          "output_type": "stream",
          "name": "stdout",
          "text": [
            "dictionary {1: 'abc', 2: 'def', 3: 'ghi'}\n",
            "type of dictionary <class 'dict'>\n"
          ]
        }
      ]
    },
    {
      "cell_type": "code",
      "source": [
        "'''\n",
        "47)How will you create a dictionary using tuples in python?\n",
        "Ans. We can create a dictionary from a list of tuples, where each tuple must contain a key-value pair.\n",
        "'''"
      ],
      "metadata": {
        "id": "YLxPCX20fLEu"
      },
      "execution_count": null,
      "outputs": []
    },
    {
      "cell_type": "code",
      "source": [
        "# 48)Write a Python script to sort (ascending and descending) a dictionary by value.\n",
        "dictionaryy = {\"oranges\":70, \"apples\": 90, \"watermelon\":50, \"mangoes\":200}\n",
        "ascending = dict(sorted(dictionaryy.items(), key= lambda item: item[1]))                          # using lambda() function\n",
        "print(\"ascending\",ascending)\n",
        "\n",
        "descending = dict(sorted(dictionaryy.items(), key= lambda item: item[1], reverse= True))\n",
        "print(\"descending\",descending)"
      ],
      "metadata": {
        "colab": {
          "base_uri": "https://localhost:8080/"
        },
        "id": "U9MIaz9f3X-P",
        "outputId": "4c4e1bd4-3b47-437f-ba7b-1301f02b4026"
      },
      "execution_count": null,
      "outputs": [
        {
          "output_type": "stream",
          "name": "stdout",
          "text": [
            "ascending {'watermelon': 50, 'oranges': 70, 'apples': 90, 'mangoes': 200}\n",
            "descending {'mangoes': 200, 'apples': 90, 'oranges': 70, 'watermelon': 50}\n"
          ]
        }
      ]
    },
    {
      "cell_type": "code",
      "source": [
        "# 49)Write a Python script to concatenate following dictionaries to create a new one.\n",
        "dictionary1 = {\"oranges\":70, \"apples\": 90, \"watermelon\":50, \"mangoes\":200}\n",
        "dictionary2 = {\"banana\": 40, \"guava\": 80 }\n",
        "dictionary3 = {\"litchies\": 300 , \"cherry\": 250 }\n",
        "\n",
        "new_dictionary = {**dictionary1,**dictionary2,**dictionary3}        # Merging all the dictionaries\n",
        "print(\"concatenate dictionary :\", new_dictionary)"
      ],
      "metadata": {
        "colab": {
          "base_uri": "https://localhost:8080/"
        },
        "id": "wa6_OkMF4eJj",
        "outputId": "13dd78ed-7dc1-4073-fe67-4100e525c5d0"
      },
      "execution_count": null,
      "outputs": [
        {
          "output_type": "stream",
          "name": "stdout",
          "text": [
            "concatenate dictionary : {'oranges': 70, 'apples': 90, 'watermelon': 50, 'mangoes': 200, 'banana': 40, 'guava': 80, 'litchies': 300, 'cherry': 250}\n"
          ]
        }
      ]
    },
    {
      "cell_type": "code",
      "source": [
        "# 50)Write a Python script to check if a given key already exists in a dictionary.\n",
        "dictionaryy = {\"oranges\":70, \"apples\": 90, \"watermelon\":50, \"mangoes\":200}\n",
        "key = \"apples\"\n",
        "\n",
        "if key in dictionaryy:             # using 'in' operator to check key\n",
        "  print(\"key exists\")\n",
        "else:\n",
        "  print(\"key does not exist\")"
      ],
      "metadata": {
        "colab": {
          "base_uri": "https://localhost:8080/"
        },
        "id": "8TTCYvy64eNr",
        "outputId": "53fb0d4e-d604-4a3f-8dd2-0ab3b0216a3e"
      },
      "execution_count": null,
      "outputs": [
        {
          "output_type": "stream",
          "name": "stdout",
          "text": [
            "key exists\n"
          ]
        }
      ]
    },
    {
      "cell_type": "code",
      "source": [
        "'''\n",
        "51)How Do You Traverse Through a Dictionary Object in Python?\n",
        "Ans. using for loop\n",
        "'''\n",
        "dictionaryy = {\"oranges\":70, \"apples\": 90, \"watermelon\":50, \"mangoes\":200}\n",
        "for key in dictionaryy:                     # keys\n",
        "  print(\"keys\", key)\n",
        "print()\n",
        "for value in dictionaryy:                   # values\n",
        "  print(\"values\", value)\n",
        "print()\n",
        "for key, value in dictionaryy.items():      # keys and values\n",
        "  print(f\"{key} : {value}\")"
      ],
      "metadata": {
        "colab": {
          "base_uri": "https://localhost:8080/"
        },
        "id": "BRVogqaA4eRP",
        "outputId": "37ea2ee0-d8d2-4c5c-c38a-d7d4679c626a"
      },
      "execution_count": null,
      "outputs": [
        {
          "output_type": "stream",
          "name": "stdout",
          "text": [
            "keys oranges\n",
            "keys apples\n",
            "keys watermelon\n",
            "keys mangoes\n",
            "\n",
            "values oranges\n",
            "values apples\n",
            "values watermelon\n",
            "values mangoes\n",
            "\n",
            "oranges : 70\n",
            "apples : 90\n",
            "watermelon : 50\n",
            "mangoes : 200\n"
          ]
        }
      ]
    },
    {
      "cell_type": "code",
      "source": [
        "# 52)How Do You Check the Presence of a Key in A Dictionary?\n",
        "dictionaryy = {\"oranges\":70, \"apples\": 90, \"watermelon\":50, \"mangoes\":200}\n",
        "key = \"mangoes\"\n",
        "\n",
        "if key in dictionaryy:\n",
        "  print(\"key is present\")\n",
        "else:\n",
        "  print(\"key is not present\")\n"
      ],
      "metadata": {
        "colab": {
          "base_uri": "https://localhost:8080/"
        },
        "id": "qqXaY2-x6u33",
        "outputId": "7ef88a0f-8fb5-4fb2-8aad-12f3c7b2d05f"
      },
      "execution_count": null,
      "outputs": [
        {
          "output_type": "stream",
          "name": "stdout",
          "text": [
            "key is present\n"
          ]
        }
      ]
    },
    {
      "cell_type": "code",
      "source": [
        "# 53)Write a Python script to print a dictionary where the keys are numbers between 1 and 15.\n",
        "dictionarry = {}\n",
        "\n",
        "for diction in range(1,16):                         # Loop through numbers from 1 to 15\n",
        "  dictionarry[diction] = diction*diction\n",
        "\n",
        "print(dictionarry)"
      ],
      "metadata": {
        "colab": {
          "base_uri": "https://localhost:8080/"
        },
        "id": "JrKl5DjL6u7M",
        "outputId": "f9c8997f-b60f-4252-dd82-40dca14419ab"
      },
      "execution_count": null,
      "outputs": [
        {
          "output_type": "stream",
          "name": "stdout",
          "text": [
            "{1: 1, 2: 4, 3: 9, 4: 16, 5: 25, 6: 36, 7: 49, 8: 64, 9: 81, 10: 100, 11: 121, 12: 144, 13: 169, 14: 196, 15: 225}\n"
          ]
        }
      ]
    },
    {
      "cell_type": "code",
      "source": [
        "# 54)Write a Python program to check multiple keys exists in a dictionary\n",
        "fruits = {\"oranges\": 70, \"apples\": 90, \"watermelon\": 50, \"mangoes\": 200}\n",
        "multi_keys = [\"oranges\", \"watermelon\"]\n",
        "\n",
        "if set(multi_keys).issubset(fruits.keys()):                    # Check if multi_keys is a subset of dictionary keys[fruits]\n",
        "  print(\"All keys exist\")\n",
        "else:\n",
        "  print(\"Not all keys exist\")\n"
      ],
      "metadata": {
        "colab": {
          "base_uri": "https://localhost:8080/"
        },
        "id": "ixZnxeyf6u-a",
        "outputId": "edee053c-a64a-42f4-e3f5-147931c7732a"
      },
      "execution_count": null,
      "outputs": [
        {
          "output_type": "stream",
          "name": "stdout",
          "text": [
            "All keys exist\n"
          ]
        }
      ]
    },
    {
      "cell_type": "code",
      "source": [
        "# 55)Write a Python script to merge two Python dictionaries\n",
        "dictionary1 = {\"oranges\":70, \"apples\": 90, \"watermelon\":50, \"mangoes\":200}\n",
        "dictionary2 = {\"banana\": 40, \"guava\": 80 }\n",
        "new_dictionary = {**dictionary1,**dictionary2}               #  Merging both dictionaries\n",
        "print(\"merged dictinary :\", new_dictionary)"
      ],
      "metadata": {
        "colab": {
          "base_uri": "https://localhost:8080/"
        },
        "id": "KoAvQ39W6vCD",
        "outputId": "7ee7f0f4-1dd3-4958-b03c-1c740fb17d43"
      },
      "execution_count": null,
      "outputs": [
        {
          "output_type": "stream",
          "name": "stdout",
          "text": [
            "merged dictinary : {'oranges': 70, 'apples': 90, 'watermelon': 50, 'mangoes': 200, 'banana': 40, 'guava': 80}\n"
          ]
        }
      ]
    },
    {
      "cell_type": "code",
      "source": [
        "# 56)Write a Python program to map two lists into a dictionary\n",
        "keys = [1,2,3,4]\n",
        "values = [\"milk\",\"cheese\",\"butter\",\"bread\"]\n",
        "dictionar = dict(zip(keys, values))              #  Using zip() to pair keys and values\n",
        "print(\"dictionary\",dictionar)"
      ],
      "metadata": {
        "colab": {
          "base_uri": "https://localhost:8080/"
        },
        "id": "TRQcoptb6vFX",
        "outputId": "0230759f-ecef-4e07-e4ec-dba1efd56114"
      },
      "execution_count": null,
      "outputs": [
        {
          "output_type": "stream",
          "name": "stdout",
          "text": [
            "dictionary {1: 'milk', 2: 'cheese', 3: 'butter', 4: 'bread'}\n"
          ]
        }
      ]
    },
    {
      "cell_type": "code",
      "source": [
        "# 57)Write a Python program to find the highest 3 values in a dictionary\n",
        "dictinary = {'oranges': 70, 'apples': 90, 'watermelon': 50, 'mangoes': 200, 'banana': 40, 'guava': 80, 'litchies': 300, 'cherry': 250}\n",
        "highest = sorted(dictinary.values(), reverse= True)[:3]                # Sort the values in desc and give the highest 3 values\n",
        "print(\"Highest 3 values:\", highest)"
      ],
      "metadata": {
        "colab": {
          "base_uri": "https://localhost:8080/"
        },
        "id": "KzgZ1OXZ6vIo",
        "outputId": "22dd2f8d-8045-4f05-9acb-83aef7c5a2c8"
      },
      "execution_count": null,
      "outputs": [
        {
          "output_type": "stream",
          "name": "stdout",
          "text": [
            "Highest 3 values: [300, 250, 200]\n"
          ]
        }
      ]
    },
    {
      "cell_type": "code",
      "source": [
        "# 58)Write a Python program to combine values in python list of dictionaries.\n",
        "dicct = [{\"apples\": 100}, {\"apples\": 120}, {\"apples\": 80}]\n",
        "comb_values = {}\n",
        "\n",
        "for dic in dicct:                                    # Loop through each dictionary\n",
        "  for key, value in dic.items():\n",
        "    if key in comb_values:\n",
        "      comb_values[key] += value\n",
        "    else:\n",
        "      comb_values[key] = value\n",
        "\n",
        "print(\"Combined values:\", comb_values)"
      ],
      "metadata": {
        "id": "hIlJCIDF6vLp",
        "colab": {
          "base_uri": "https://localhost:8080/"
        },
        "outputId": "454a994c-5da8-442d-bfd6-5eccec29f2d6"
      },
      "execution_count": null,
      "outputs": [
        {
          "output_type": "stream",
          "name": "stdout",
          "text": [
            "Combined values: {'apples': 300}\n"
          ]
        }
      ]
    },
    {
      "cell_type": "code",
      "source": [
        "# 59)Write a Python program to create a dictionary from a string.\n",
        "stringg = \"This is a code of python\"\n",
        "dic = {}\n",
        "\n",
        "for char in stringg:\n",
        "  if char in dic:\n",
        "    dic[char] +=1\n",
        "  else:\n",
        "    dic[char] = 1\n",
        "\n",
        "print(\"dictionary\",dic)"
      ],
      "metadata": {
        "id": "H5x6Sia36vO2",
        "colab": {
          "base_uri": "https://localhost:8080/"
        },
        "outputId": "c79d258e-ff95-41a9-b3e0-95a4eac1c738"
      },
      "execution_count": null,
      "outputs": [
        {
          "output_type": "stream",
          "name": "stdout",
          "text": [
            "dictionary {'T': 1, 'h': 2, 'i': 2, 's': 2, ' ': 5, 'a': 1, 'c': 1, 'o': 3, 'd': 1, 'e': 1, 'f': 1, 'p': 1, 'y': 1, 't': 1, 'n': 1}\n"
          ]
        }
      ]
    },
    {
      "cell_type": "code",
      "source": [
        "'''\n",
        "60)Sample string:\n",
        " 'w3resource' Expected output:\n",
        "• {'3': 1,’s’: 1, 'r': 2, 'u': 1, 'w': 1, 'c': 1, 'e': 2, 'o': 1}\n",
        "'''\n",
        "striingg = \"w3resource\"\n",
        "dicc = {}\n",
        "\n",
        "for char in striingg:\n",
        "  if char in dicc:\n",
        "    dicc[char] +=1                    # If letter already exists in dictionary, it will increase the count\n",
        "  else:\n",
        "    dicc[char] = 1\n",
        "\n",
        "print(\"dictionary\",dicc)"
      ],
      "metadata": {
        "colab": {
          "base_uri": "https://localhost:8080/"
        },
        "id": "jcdWcLv86dUY",
        "outputId": "a53bf85c-1def-49f7-a84f-8b8c27f3c8f4"
      },
      "execution_count": null,
      "outputs": [
        {
          "output_type": "stream",
          "name": "stdout",
          "text": [
            "dictionary {'w': 1, '3': 1, 'r': 2, 'e': 2, 's': 1, 'o': 1, 'u': 1, 'c': 1}\n"
          ]
        }
      ]
    },
    {
      "cell_type": "code",
      "source": [
        "# 61)Write a Python function to calculate the factorial of a number (a nonnegative integer)\n",
        "\n",
        "def factorial(n):\n",
        "  if n == 0 or n == 1:  # Base case: factorial of 0 or 1 is 1\n",
        "    return 1\n",
        "  else:\n",
        "    return n * factorial(n - 1)\n",
        "\n",
        "number = int(input(\"Enter a non-negative integer: \"))\n",
        "\n",
        "if number < 0:\n",
        "  print(\"Factorial is not defined for negative numbers.\")\n",
        "else:\n",
        "  print(\"Factorial of\", number, \"is:\", factorial(number))\n"
      ],
      "metadata": {
        "id": "pNWyZW606dYZ",
        "colab": {
          "base_uri": "https://localhost:8080/"
        },
        "outputId": "8ec2401e-dc5e-48c5-9827-25962116e3bd"
      },
      "execution_count": 2,
      "outputs": [
        {
          "output_type": "stream",
          "name": "stdout",
          "text": [
            "Enter a non-negative integer: 5\n",
            "Factorial of 5 is: 120\n"
          ]
        }
      ]
    },
    {
      "cell_type": "code",
      "source": [
        "# 62)Write a Python function to check whether a number is in a given range\n",
        "def check_in_range(num, start, end):\n",
        "  if num in range(start, end + 1):\n",
        "    return True\n",
        "  else:\n",
        "    return False\n",
        "\n",
        "number = int(input(\"Enter a number: \"))\n",
        "range_start = int(input(\"Enter start of range: \"))\n",
        "range_end = int(input(\"Enter end of range: \"))\n",
        "\n",
        "if check_in_range(number, range_start, range_end):\n",
        "  print(f\"{number} is in the range {range_start} to {range_end}\")\n",
        "else:\n",
        "  print(f\"{number} is NOT in the range {range_start} to {range_end}\")\n"
      ],
      "metadata": {
        "id": "AOWTxvaf9k7C",
        "colab": {
          "base_uri": "https://localhost:8080/"
        },
        "outputId": "1c3e8876-19c1-4fc7-94be-ccd6c8104905"
      },
      "execution_count": 5,
      "outputs": [
        {
          "output_type": "stream",
          "name": "stdout",
          "text": [
            "Enter a number: 100\n",
            "Enter start of range: 50\n",
            "Enter end of range: 200\n",
            "100 is in the range 50 to 200\n"
          ]
        }
      ]
    },
    {
      "cell_type": "code",
      "source": [
        "# 63)Write a Python function to check whether a number is perfect or not.\n",
        "def is_perfect(number):\n",
        "  sum_divisors = 0\n",
        "  for i in range(1, number):\n",
        "    if number % i == 0:\n",
        "      sum_divisors += i\n",
        "  return sum_divisors == number\n",
        "\n",
        "num = int(input(\"Enter a number: \"))\n",
        "\n",
        "if is_perfect(num):\n",
        "  print(num, \"is a perfect number.\")\n",
        "else:\n",
        "  print(num, \"is not a perfect number.\")\n"
      ],
      "metadata": {
        "id": "ttPLb9ty9lKl",
        "colab": {
          "base_uri": "https://localhost:8080/"
        },
        "outputId": "62fd6c3a-bf8f-4854-c403-7cc34797a738"
      },
      "execution_count": 8,
      "outputs": [
        {
          "output_type": "stream",
          "name": "stdout",
          "text": [
            "Enter a number: 28\n",
            "28 is a perfect number.\n"
          ]
        }
      ]
    },
    {
      "cell_type": "code",
      "source": [
        "# 64)Write a Python function that checks whether a passed string is palindrome or not\n",
        "def is_palindrome(string):\n",
        "  return string == string[::-1]\n",
        "\n",
        "word = input(\"Enter a string: \")\n",
        "if is_palindrome(word):\n",
        "  print(f\"'{word}' is a palindrome.\")\n",
        "else:\n",
        "  print(f\"'{word}' is not a palindrome.\")\n"
      ],
      "metadata": {
        "id": "K4bAWeDW6dcQ",
        "colab": {
          "base_uri": "https://localhost:8080/"
        },
        "outputId": "0ef1b1ae-721f-4266-ccc2-da3d9827f111"
      },
      "execution_count": 9,
      "outputs": [
        {
          "output_type": "stream",
          "name": "stdout",
          "text": [
            "Enter a string: eve\n",
            "'eve' is a palindrome.\n"
          ]
        }
      ]
    },
    {
      "cell_type": "code",
      "source": [
        "'''\n",
        "65)How Many Basic Types of Functions Are Available in Python?\n",
        "Ans. Built-in functions, User-defined functions , Anonymous functions\n",
        "'''"
      ],
      "metadata": {
        "id": "oSCE-kPW6dfo"
      },
      "execution_count": null,
      "outputs": []
    },
    {
      "cell_type": "code",
      "source": [
        "'''\n",
        "66)How can you pick a random item from a list or tuple?\n",
        "Ans. random.choice(lst)\n",
        "'''"
      ],
      "metadata": {
        "id": "nQmUkfDt9r3n"
      },
      "execution_count": null,
      "outputs": []
    },
    {
      "cell_type": "code",
      "source": [
        "'''\n",
        "67)How can you pick a random item from a range?\n",
        "Ans. random.choice(range(start, stop))\n",
        "'''"
      ],
      "metadata": {
        "id": "wZYH0fgc9xHT"
      },
      "execution_count": null,
      "outputs": []
    },
    {
      "cell_type": "code",
      "source": [
        "'''\n",
        "68)How can you get a random number in python?\n",
        "Ans. random.random()\n",
        "'''"
      ],
      "metadata": {
        "id": "XR97gJVe9xKy"
      },
      "execution_count": null,
      "outputs": []
    },
    {
      "cell_type": "code",
      "source": [
        "'''\n",
        "69)How will you set the starting value in generating random numbers?\n",
        "Ans. random.seed(42)\n",
        "'''"
      ],
      "metadata": {
        "id": "K0cLiWyH9xOM"
      },
      "execution_count": null,
      "outputs": []
    },
    {
      "cell_type": "code",
      "source": [
        "'''\n",
        "70) How will you randomize the items of a list in place?\n",
        "Ans. random.shuffle(lst)\n",
        "'''"
      ],
      "metadata": {
        "id": "1i6CI7tb9xRy"
      },
      "execution_count": null,
      "outputs": []
    },
    {
      "cell_type": "code",
      "source": [
        "'''\n",
        "71)What is File function in python? What are keywords to create and write file.\n",
        "Ans. In Python, a file function refers to functions and methods used to create and manipulate files, open , read , write and close a file.\n",
        "\"r\" - Read\n",
        "\"a\" - Append\n",
        "\"w\" - Write\n",
        "\"x\" - Create\n",
        "'''\n"
      ],
      "metadata": {
        "id": "CpeZtvTo9xVN"
      },
      "execution_count": null,
      "outputs": []
    },
    {
      "cell_type": "code",
      "source": [
        "# 72)Write a Python program to read an entire text file.\n",
        "file = open(\"/content/python_file.txt\",\"r\")\n",
        "content = file.read()\n",
        "print(\"File Content:\\n\", content)\n"
      ],
      "metadata": {
        "id": "7Um59lBL9xYT",
        "colab": {
          "base_uri": "https://localhost:8080/"
        },
        "outputId": "568f7e9f-84ee-4f96-9905-62d81079ef5d"
      },
      "execution_count": null,
      "outputs": [
        {
          "output_type": "stream",
          "name": "stdout",
          "text": [
            "File Content:\n",
            " List of fruits:-\n",
            "Apple\n",
            "Banana\n",
            "Cherry\n",
            "Watermelon\n",
            "Cherry\n",
            "Pear\n",
            "Apple \n",
            "Mango\n",
            "Oranges\n",
            "Cherry\n",
            "\n"
          ]
        }
      ]
    },
    {
      "cell_type": "code",
      "source": [
        "# 73)Write a Python program to append text to a file and display the text\n",
        "file = open(\"/content/python_file.txt\", \"a\")        # open a file\n",
        "file.write(\"\\nnew line\")                              # Append text\n",
        "\n",
        "file = open(\"/content/python_file.txt\",\"r\")\n",
        "content = file.read()\n",
        "print(\"File Content:\\n\", content)"
      ],
      "metadata": {
        "id": "lQidDHtt9xbP",
        "colab": {
          "base_uri": "https://localhost:8080/"
        },
        "outputId": "394aa37a-0a9d-4dc8-e182-15bdaad2c2c6"
      },
      "execution_count": null,
      "outputs": [
        {
          "output_type": "stream",
          "name": "stdout",
          "text": [
            "File Content:\n",
            " List of fruits:-\n",
            "Apple\n",
            "Banana\n",
            "Cherry\n",
            "Watermelon\n",
            "Cherry\n",
            "Pear\n",
            "Apple \n",
            "Mango\n",
            "Oranges\n",
            "Cherry\n",
            "\n",
            "new line\n"
          ]
        }
      ]
    },
    {
      "cell_type": "code",
      "source": [
        "# 74)Write a Python program to read first n lines of a file.\n",
        "n = int(input(\"Enter number of lines to read: \"))\n",
        "\n",
        "file = open(\"/content/python_file.txt\", \"r\")                    # Open the file in read mode\n",
        "\n",
        "for i in range(n):                                 # loop\n",
        "  line = file.readline()\n",
        "  print(line.strip())\n",
        "\n",
        "file.close()                                       # close the file"
      ],
      "metadata": {
        "id": "oQJ2ZpRm9xeC",
        "colab": {
          "base_uri": "https://localhost:8080/"
        },
        "outputId": "f44dcde5-c8e0-4aa0-88f9-660ff3716bff"
      },
      "execution_count": null,
      "outputs": [
        {
          "output_type": "stream",
          "name": "stdout",
          "text": [
            "Enter number of lines to read: 3\n",
            "List of fruits:-\n",
            "Apple\n",
            "Banana\n"
          ]
        }
      ]
    },
    {
      "cell_type": "code",
      "source": [
        "# 75)Write a Python program to read last n lines of a file.\n",
        "n = int(input(\"Enter number of last lines to read: \"))\n",
        "\n",
        "\n",
        "file = open(\"/content/python_file.txt\", \"r\")                      # Open the file in read mode\n",
        "lines = file.readlines()                             # Read all lines into a list\n",
        "\n",
        "for line in lines[-n:]:\n",
        "  print(line.strip())\n",
        "\n",
        "file.close()                                         # close a file\n"
      ],
      "metadata": {
        "id": "qFaW5yUnQPYn",
        "colab": {
          "base_uri": "https://localhost:8080/"
        },
        "outputId": "dc009c2a-c500-42b8-88ec-be256564433c"
      },
      "execution_count": null,
      "outputs": [
        {
          "output_type": "stream",
          "name": "stdout",
          "text": [
            "Enter number of last lines to read: 5\n",
            "Mango\n",
            "Oranges\n",
            "Cherry\n",
            "\n",
            "new line\n"
          ]
        }
      ]
    },
    {
      "cell_type": "code",
      "source": [
        "# 76)Write a Python program to read a file line by line and store it into a list\n",
        "\n",
        "file = open(\"/content/python_file.txt\", \"r\")          # Open the file in read mode\n",
        "line = file.readlines()                               # Read each line and store into a list\n",
        "file.close()                                          # Close the file\n",
        "\n",
        "print(\"Lines stored in list:\")\n",
        "print(line)"
      ],
      "metadata": {
        "id": "Pt0OcyjZQPq7",
        "colab": {
          "base_uri": "https://localhost:8080/"
        },
        "outputId": "c362754f-21c0-463f-e1dd-9207bf5dad8c"
      },
      "execution_count": null,
      "outputs": [
        {
          "output_type": "stream",
          "name": "stdout",
          "text": [
            "Lines stored in list:\n",
            "['List of fruits:-\\n', 'Apple\\n', 'Banana\\n', 'Cherry\\n', 'Watermelon\\n', 'Cherry\\n', 'Pear\\n', 'Apple \\n', 'Mango\\n', 'Oranges\\n', 'Cherry\\n', '\\n', 'new line']\n"
          ]
        }
      ]
    },
    {
      "cell_type": "code",
      "source": [
        "# 77)Write a Python program to read a file line by line store it into a variable.\n",
        "\n",
        "file = open(\"/content/python_file.txt\", \"r\")\n",
        "var = file.readlines()                     # store into a single variable\n",
        "file.close()\n",
        "\n",
        "print(\"Stored lines in variable:\")\n",
        "print(var)"
      ],
      "metadata": {
        "id": "Xq__H3sbQPuP",
        "colab": {
          "base_uri": "https://localhost:8080/"
        },
        "outputId": "f1c44f98-4b0e-4cc0-900e-2843a43ceeb6"
      },
      "execution_count": null,
      "outputs": [
        {
          "output_type": "stream",
          "name": "stdout",
          "text": [
            "Stored lines in variable:\n",
            "['List of fruits:-\\n', 'Apple\\n', 'Banana\\n', 'Cherry\\n', 'Watermelon\\n', 'Cherry\\n', 'Pear\\n', 'Apple \\n', 'Mango\\n', 'Oranges\\n', 'Cherry\\n', '\\n', 'new line']\n"
          ]
        }
      ]
    },
    {
      "cell_type": "code",
      "source": [
        "# 78)Write a python program to find the longest words.\n",
        "\n",
        "file = open(\"/content/python_file.txt\", \"r\")\n",
        "words = file.read().split()                # Read the content and split into words\n",
        "\n",
        "file.close()\n",
        "\n",
        "max_length = max(len(word) for word in words)                # using max() to find the longest word\n",
        "longest_words = [word for word in words if len(word) == max_length]\n",
        "\n",
        "print(\"Longest word:\", longest_words)\n",
        "print(\"Length of longest word:\", max_length)"
      ],
      "metadata": {
        "id": "wSSNSqQ_QPxs",
        "colab": {
          "base_uri": "https://localhost:8080/"
        },
        "outputId": "6ff172d1-2d4f-45e1-aed8-3fce66509429"
      },
      "execution_count": null,
      "outputs": [
        {
          "output_type": "stream",
          "name": "stdout",
          "text": [
            "Longest word: ['Watermelon']\n",
            "Length of longest word: 10\n"
          ]
        }
      ]
    },
    {
      "cell_type": "code",
      "source": [
        "# 79)Write a Python program to count the number of lines in a text file.\n",
        "file = open(\"/content/python_file.txt\", \"r\")\n",
        "line_count = len(file.readlines())       # Read all lines and count them using len()\n",
        "file.close()                             # Close the file\n",
        "print(\"Number of lines in the file:\", line_count)"
      ],
      "metadata": {
        "id": "MRDkteTHpJ8a",
        "colab": {
          "base_uri": "https://localhost:8080/"
        },
        "outputId": "cfaaed44-2654-4a4a-ecee-6823554cc89a"
      },
      "execution_count": null,
      "outputs": [
        {
          "output_type": "stream",
          "name": "stdout",
          "text": [
            "Number of lines in the file: 13\n"
          ]
        }
      ]
    },
    {
      "cell_type": "code",
      "source": [
        "# 80)Write a Python program to count the frequency of words in a file.\n",
        "\n",
        "file = open(\"/content/python_file.txt\", \"r\")\n",
        "text = file.read()\n",
        "file.close()\n",
        "words = text.split()             # Split the text into words\n",
        "word_freq = {}                   # Creating an empty dictionary to count word frequency\n",
        "\n",
        "for word in words:               # Count each word\n",
        "  if word in word_freq:\n",
        "    word_freq[word] += 1\n",
        "  else:\n",
        "    word_freq[word] = 1\n",
        "\n",
        "print(\"Word Frequency in File:\")\n",
        "for word, count in word_freq.items():\n",
        "  print(f\"{word} : {count}\")\n"
      ],
      "metadata": {
        "id": "u9eR35SnpKAU",
        "colab": {
          "base_uri": "https://localhost:8080/"
        },
        "outputId": "d5a5ecf8-c361-40f6-dd56-002a42927718"
      },
      "execution_count": null,
      "outputs": [
        {
          "output_type": "stream",
          "name": "stdout",
          "text": [
            "Word Frequency in File:\n",
            "List : 1\n",
            "of : 1\n",
            "fruits:- : 1\n",
            "Apple : 2\n",
            "Banana : 1\n",
            "Cherry : 3\n",
            "Watermelon : 1\n",
            "Pear : 1\n",
            "Mango : 1\n",
            "Oranges : 1\n",
            "new : 1\n",
            "line : 1\n"
          ]
        }
      ]
    },
    {
      "cell_type": "code",
      "source": [
        "# 81)Write a Python program to write a list to a file.\n",
        "\n",
        "listt = [\"Python\", \"MySQL\", \"Excel\", \"Power BI\", \"Statistics\"]\n",
        "\n",
        "file = open(\"list_file.txt\", \"w\")          # Open the file in write mode\n",
        "\n",
        "for item in listt:                      # Write each item to the file on a new line\n",
        "  file.write(item + \"\\n\")\n",
        "file.close()\n",
        "\n",
        "print(\"List has been written to list_file.txt\")\n"
      ],
      "metadata": {
        "id": "wouLI71YpKDm",
        "colab": {
          "base_uri": "https://localhost:8080/"
        },
        "outputId": "6abb8aee-cbec-472b-8c57-d2be88659f65"
      },
      "execution_count": null,
      "outputs": [
        {
          "output_type": "stream",
          "name": "stdout",
          "text": [
            "List has been written to list_file.txt\n"
          ]
        }
      ]
    },
    {
      "cell_type": "code",
      "source": [
        "# 82)Write a Python program to copy the contents of a file to another file.\n",
        "\n",
        "main_file = open(\"/content/python_file.txt\", \"r\")             # Open the main_file in read mode\n",
        "destination_file = open(\"copy_file.txt\", \"w\")                 # Open the destination file in write mode\n",
        "\n",
        "\n",
        "content = main_file.read()                                 # Read content from main_file and write to destination\n",
        "destination_file.write(content)\n",
        "\n",
        "main_file.close()                                          # Close both files\n",
        "destination_file.close()\n",
        "\n",
        "print(\"File copied successfully to 'copy_file.txt'\")"
      ],
      "metadata": {
        "id": "iIcyajGcBZI9",
        "colab": {
          "base_uri": "https://localhost:8080/"
        },
        "outputId": "0954784c-0192-402d-b482-1dac4f1f7b1c"
      },
      "execution_count": null,
      "outputs": [
        {
          "output_type": "stream",
          "name": "stdout",
          "text": [
            "File copied successfully to 'copy_file.txt'\n"
          ]
        }
      ]
    },
    {
      "cell_type": "code",
      "source": [
        "'''\n",
        "83)Explain Exception handling? What is an Error in Python?\n",
        "Ans. Exception handling in Python lets you manage errors during program execution using try, except, else, and finally blocks, so the program doesn't crash.\n",
        "An error is a problem in the program that causes it to stop running. It can be a syntax error or runtime error.\n",
        "'''"
      ],
      "metadata": {
        "id": "EumbCTTq-1rj"
      },
      "execution_count": null,
      "outputs": []
    },
    {
      "cell_type": "code",
      "source": [
        "'''\n",
        "84)How many except statements can a try-except block have? Name Some built-in exception classes:\n",
        "Ans. A try block can have multiple except statements to handle different types of exceptions separately.\n",
        "Built-in exception classes:- ValueError, TypeError, ZeroDivisionError, IndexError, KeyError, NameError\n",
        "'''"
      ],
      "metadata": {
        "id": "PUrA9yi1_tgp"
      },
      "execution_count": null,
      "outputs": []
    },
    {
      "cell_type": "code",
      "source": [
        "'''\n",
        "85)When will the else part of try-except-else be executed?\n",
        "Ans. The else block is executed only if no exception occurs in the try block.\n",
        "'''"
      ],
      "metadata": {
        "id": "lNKrwhkZAkUK"
      },
      "execution_count": null,
      "outputs": []
    },
    {
      "cell_type": "code",
      "source": [
        "'''\n",
        "86)Can one block of except statements handle multiple exception?\n",
        "Ans. Yes, a single except block can handle multiple exceptions by grouping them in a tuple.\n",
        "'''"
      ],
      "metadata": {
        "id": "I7bJ_ziHA8Xb"
      },
      "execution_count": null,
      "outputs": []
    },
    {
      "cell_type": "code",
      "source": [
        "'''\n",
        "87)When is the finally block executed?\n",
        "Ans. The finally block is always executed, whether an exception occurs or not\n",
        "'''"
      ],
      "metadata": {
        "id": "EAnY24fbBQPs"
      },
      "execution_count": null,
      "outputs": []
    },
    {
      "cell_type": "code",
      "source": [
        "# 88)What happens when „1‟== 1 is executed?\n",
        "print(\"1\" == 1)   # It will give False as output"
      ],
      "metadata": {
        "colab": {
          "base_uri": "https://localhost:8080/"
        },
        "id": "Nl-63xVHBg0S",
        "outputId": "753aa361-8de4-49eb-a030-b1ca36fda7aa"
      },
      "execution_count": null,
      "outputs": [
        {
          "output_type": "stream",
          "name": "stdout",
          "text": [
            "False\n"
          ]
        }
      ]
    },
    {
      "cell_type": "code",
      "source": [
        "# 89)How Do You Handle Exceptions with Try/Except/Finally in Python? Explain with coding snippets\n",
        "try:\n",
        "  number = int(input(\"Enter a number: \"))\n",
        "  result = 10 / number\n",
        "  print(\"Result:\", result)\n",
        "except ZeroDivisionError:\n",
        "  print(\"You cannot divide by zero.\")\n",
        "except ValueError:\n",
        "  print(\"Invalid input! Please enter a number.\")\n",
        "finally:\n",
        "  print(\"This block always runs, no matter what.\")\n"
      ],
      "metadata": {
        "colab": {
          "base_uri": "https://localhost:8080/"
        },
        "id": "BtogqiK_DsQQ",
        "outputId": "1f523459-5dfe-4ebf-93f7-5a039d58f665"
      },
      "execution_count": null,
      "outputs": [
        {
          "output_type": "stream",
          "name": "stdout",
          "text": [
            "Enter a number: 100\n",
            "Result: 0.1\n",
            "This block always runs, no matter what.\n"
          ]
        }
      ]
    },
    {
      "cell_type": "code",
      "source": [
        "# 90)Write python program that user to enter only odd numbers, else will raise an exception.\n",
        "try:\n",
        "  num = int(input(\"Enter an odd number: \"))\n",
        "  if num % 2 == 0:\n",
        "    raise ValueError(\"This is not an odd number!\")\n",
        "  print(\"You entered a valid odd number:\", num)\n",
        "except ValueError as e:\n",
        "    print(\"Error:\", e)\n"
      ],
      "metadata": {
        "id": "LmBkuUGEEUhL",
        "colab": {
          "base_uri": "https://localhost:8080/"
        },
        "outputId": "851ffcdf-b0bf-440b-ced5-bffb623ea568"
      },
      "execution_count": 12,
      "outputs": [
        {
          "output_type": "stream",
          "name": "stdout",
          "text": [
            "Enter an odd number: 25\n",
            "You entered a valid odd number: 25\n"
          ]
        }
      ]
    }
  ]
}